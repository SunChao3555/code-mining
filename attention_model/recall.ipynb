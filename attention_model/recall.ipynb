{
 "cells": [
  {
   "cell_type": "code",
   "execution_count": 1,
   "metadata": {
    "collapsed": true
   },
   "outputs": [],
   "source": [
    "import pickle\n",
    "import re"
   ]
  },
  {
   "cell_type": "code",
   "execution_count": 2,
   "metadata": {
    "collapsed": true
   },
   "outputs": [],
   "source": [
    "from scipy.stats.mstats import zscore"
   ]
  },
  {
   "cell_type": "code",
   "execution_count": 3,
   "metadata": {
    "collapsed": true
   },
   "outputs": [],
   "source": [
    "import numpy as np"
   ]
  },
  {
   "cell_type": "code",
   "execution_count": 4,
   "metadata": {
    "collapsed": true
   },
   "outputs": [],
   "source": [
    "from tokenize import generate_tokens\n",
    "from cStringIO import StringIO\n",
    "from collections import defaultdict\n",
    "import ast\n",
    "import astor\n",
    "from py2_tokenize import tokenize_code"
   ]
  },
  {
   "cell_type": "code",
   "execution_count": 5,
   "metadata": {
    "collapsed": true
   },
   "outputs": [],
   "source": [
    "annotations = pickle.load(open('annotations.p', 'rb'))\n",
    "questions = pickle.load(open('questions.p', 'rb'))"
   ]
  },
  {
   "cell_type": "code",
   "execution_count": 6,
   "metadata": {
    "collapsed": true
   },
   "outputs": [],
   "source": [
    "def sub_contiguous_snippets(code_snippet):\n",
    "    try:\n",
    "        tokens = [token for _, token, _, _, _  in generate_tokens(StringIO(code_snippet).readline) if token]\n",
    "    except:\n",
    "        return []\n",
    "    sub_snippet_set = set()\n",
    "    for i in range(len(tokens)):\n",
    "        for j in range(i+1, len(tokens)+1):\n",
    "            con_tokens = tokens[i:j]\n",
    "            if con_tokens[-1] == ':':\n",
    "                con_tokens.append('pass')\n",
    "            sub_snippet = ' '.join(con_tokens)\n",
    "            try:\n",
    "                root = ast.parse(sub_snippet)\n",
    "                cc = astor.to_source(root)\n",
    "                tokenize_code(cc.encode('utf-8'))\n",
    "                sub_snippet_set.add(cc)\n",
    "            except:\n",
    "                pass\n",
    "    return sub_snippet_set"
   ]
  },
  {
   "cell_type": "code",
   "execution_count": 7,
   "metadata": {
    "collapsed": true
   },
   "outputs": [],
   "source": [
    "intents = {post_id: q['intent'] for post_id, q in questions.items()}"
   ]
  },
  {
   "cell_type": "code",
   "execution_count": 8,
   "metadata": {
    "collapsed": true
   },
   "outputs": [],
   "source": [
    "candidates = {}\n",
    "for post_id, q in questions.items():\n",
    "    cs = set()\n",
    "    for s in q['snippet']:\n",
    "        cs |= set(sub_contiguous_snippets(s))\n",
    "    candidates[post_id] = cs"
   ]
  },
  {
   "cell_type": "code",
   "execution_count": 9,
   "metadata": {
    "collapsed": true
   },
   "outputs": [],
   "source": [
    "def concat(context, snippet):\n",
    "    return astor.to_source(ast.parse(context + '\\n' + snippet))"
   ]
  },
  {
   "cell_type": "code",
   "execution_count": 11,
   "metadata": {
    "collapsed": true
   },
   "outputs": [],
   "source": [
    "context_pos = defaultdict(set)\n",
    "snippet_pos = defaultdict(set)\n",
    "full_pos = defaultdict(set)\n",
    "for a in annotations:\n",
    "    post_id = a['post_id']\n",
    "    if a['context_ref'] in candidates[post_id]:\n",
    "        context_pos[post_id].add(a['context_ref'])\n",
    "    if a['snippet_ref'] in candidates[post_id]:\n",
    "        snippet_pos[post_id].add(a['snippet_ref'])\n",
    "    if a['snippet_ref'] == '':\n",
    "        print a\n",
    "    try:\n",
    "        full = concat(a['context_ref'], a['snippet_ref'])\n",
    "        if full in candidates[post_id]:\n",
    "            full_pos[post_id].add(full)\n",
    "    except:\n",
    "        pass"
   ]
  },
  {
   "cell_type": "code",
   "execution_count": 171,
   "metadata": {
    "collapsed": true
   },
   "outputs": [],
   "source": [
    "baseline = pickle.load(open('baseline.p', 'rb'))"
   ]
  },
  {
   "cell_type": "code",
   "execution_count": 172,
   "metadata": {},
   "outputs": [
    {
     "data": {
      "text/plain": [
       "111"
      ]
     },
     "execution_count": 172,
     "metadata": {},
     "output_type": "execute_result"
    }
   ],
   "source": [
    "len(candidates)"
   ]
  },
  {
   "cell_type": "code",
   "execution_count": 173,
   "metadata": {},
   "outputs": [
    {
     "data": {
      "text/plain": [
       "21"
      ]
     },
     "execution_count": 173,
     "metadata": {},
     "output_type": "execute_result"
    }
   ],
   "source": [
    "len(baseline)"
   ]
  },
  {
   "cell_type": "code",
   "execution_count": 174,
   "metadata": {
    "collapsed": true
   },
   "outputs": [],
   "source": [
    "context_count = 0\n",
    "snippet_count = 0\n",
    "full_count = 0\n",
    "for a in annotations:\n",
    "    post_id = a['post_id']\n",
    "    if post_id not in baseline:\n",
    "        continue\n",
    "    if a['context_ref'] == baseline[post_id]:\n",
    "        context_count += 1\n",
    "    if a['snippet_ref'] == baseline[post_id]:\n",
    "        snippet_count += 1\n",
    "    try:\n",
    "        if concat(a['context_ref'], a['snippet_ref']) == baseline[post_id]:\n",
    "            full_count += 1\n",
    "    except:\n",
    "        pass"
   ]
  },
  {
   "cell_type": "code",
   "execution_count": 175,
   "metadata": {},
   "outputs": [
    {
     "data": {
      "text/plain": [
       "(0, 0.0)"
      ]
     },
     "execution_count": 175,
     "metadata": {},
     "output_type": "execute_result"
    }
   ],
   "source": [
    "context_count, context_count * 1.0 / len(annotations)"
   ]
  },
  {
   "cell_type": "code",
   "execution_count": 176,
   "metadata": {},
   "outputs": [
    {
     "data": {
      "text/plain": [
       "(2, 0.008)"
      ]
     },
     "execution_count": 176,
     "metadata": {},
     "output_type": "execute_result"
    }
   ],
   "source": [
    "snippet_count, snippet_count * 1.0 / len(annotations)"
   ]
  },
  {
   "cell_type": "code",
   "execution_count": 177,
   "metadata": {},
   "outputs": [
    {
     "data": {
      "text/plain": [
       "(6, 0.024)"
      ]
     },
     "execution_count": 177,
     "metadata": {},
     "output_type": "execute_result"
    }
   ],
   "source": [
    "full_count, full_count * 1.0 / len(annotations)"
   ]
  },
  {
   "cell_type": "code",
   "execution_count": 12,
   "metadata": {
    "collapsed": true
   },
   "outputs": [],
   "source": [
    "context_count = 0\n",
    "snippet_count = 0\n",
    "full_count = 0\n",
    "for a in annotations:\n",
    "    post_id = a['post_id']\n",
    "    if a['context_ref'] in candidates[post_id]:\n",
    "        context_count += 1\n",
    "    if a['snippet_ref'] in candidates[post_id]:\n",
    "        snippet_count += 1\n",
    "    try:\n",
    "        if concat(a['context_ref'], a['snippet_ref']) in candidates[post_id]:\n",
    "            full_count += 1\n",
    "    except:\n",
    "        pass"
   ]
  },
  {
   "cell_type": "code",
   "execution_count": 13,
   "metadata": {},
   "outputs": [
    {
     "data": {
      "text/plain": [
       "(223, 0.892)"
      ]
     },
     "execution_count": 13,
     "metadata": {},
     "output_type": "execute_result"
    }
   ],
   "source": [
    "context_count, context_count * 1.0 / len(annotations)"
   ]
  },
  {
   "cell_type": "code",
   "execution_count": 14,
   "metadata": {},
   "outputs": [
    {
     "data": {
      "text/plain": [
       "(213, 0.852)"
      ]
     },
     "execution_count": 14,
     "metadata": {},
     "output_type": "execute_result"
    }
   ],
   "source": [
    "snippet_count, snippet_count * 1.0 / len(annotations)"
   ]
  },
  {
   "cell_type": "code",
   "execution_count": 15,
   "metadata": {},
   "outputs": [
    {
     "data": {
      "text/plain": [
       "(134, 0.536)"
      ]
     },
     "execution_count": 15,
     "metadata": {},
     "output_type": "execute_result"
    }
   ],
   "source": [
    "full_count, full_count * 1.0 / len(annotations)"
   ]
  },
  {
   "cell_type": "code",
   "execution_count": 16,
   "metadata": {},
   "outputs": [
    {
     "data": {
      "text/plain": [
       "(250, 111)"
      ]
     },
     "execution_count": 16,
     "metadata": {},
     "output_type": "execute_result"
    }
   ],
   "source": [
    "len(annotations), len(questions)"
   ]
  },
  {
   "cell_type": "code",
   "execution_count": 17,
   "metadata": {
    "collapsed": true
   },
   "outputs": [],
   "source": [
    "pickle.dump(candidates, open('candidates.p', 'wb'))\n",
    "pickle.dump(intents, open('intents.p', 'wb'))"
   ]
  },
  {
   "cell_type": "code",
   "execution_count": 18,
   "metadata": {},
   "outputs": [
    {
     "data": {
      "text/plain": [
       "10971"
      ]
     },
     "execution_count": 18,
     "metadata": {},
     "output_type": "execute_result"
    }
   ],
   "source": [
    "sum(map(len, candidates.values()))"
   ]
  },
  {
   "cell_type": "code",
   "execution_count": 160,
   "metadata": {},
   "outputs": [
    {
     "data": {
      "text/plain": [
       "-49"
      ]
     },
     "execution_count": 160,
     "metadata": {},
     "output_type": "execute_result"
    }
   ],
   "source": [
    "(223 - 10971) / 223"
   ]
  },
  {
   "cell_type": "code",
   "execution_count": 19,
   "metadata": {
    "collapsed": true
   },
   "outputs": [],
   "source": [
    "bi_likelihood = pickle.load(open('bi_likelihood.p', 'rb'))"
   ]
  },
  {
   "cell_type": "code",
   "execution_count": 51,
   "metadata": {
    "collapsed": true
   },
   "outputs": [],
   "source": [
    "features = {}\n",
    "for post_id, q in questions.items():\n",
    "    intent = intents[post_id]\n",
    "    features[post_id] = []\n",
    "    for s in q['snippet']:\n",
    "        abs_likelihood = {c: bi_likelihood[post_id][c] for c in sub_contiguous_snippets(s)}.items()\n",
    "        if len(abs_likelihood) <= 1:\n",
    "            continue\n",
    "        c, ff = zip(*abs_likelihood)\n",
    "        ff = np.hstack([np.array(ff), zscore(np.array(ff), axis=0)])\n",
    "        features[post_id].extend(zip(c, ff))"
   ]
  },
  {
   "cell_type": "code",
   "execution_count": 64,
   "metadata": {
    "collapsed": true
   },
   "outputs": [],
   "source": [
    "def generate_x_y(pos_set):\n",
    "    x = []\n",
    "    y = []\n",
    "    for post_id in features:\n",
    "        for c, ff in features[post_id]:\n",
    "            x.append(ff)\n",
    "            y.append(c in pos_set[post_id])\n",
    "    return np.array(x), np.array(y)"
   ]
  },
  {
   "cell_type": "code",
   "execution_count": 65,
   "metadata": {
    "collapsed": true
   },
   "outputs": [],
   "source": [
    "snippet_x, snippet_y = generate_x_y(snippet_pos)"
   ]
  },
  {
   "cell_type": "code",
   "execution_count": 66,
   "metadata": {
    "collapsed": true
   },
   "outputs": [],
   "source": [
    "context_x, context_y = generate_x_y(context_pos)"
   ]
  },
  {
   "cell_type": "code",
   "execution_count": 67,
   "metadata": {
    "collapsed": true
   },
   "outputs": [],
   "source": [
    "full_x, full_y = generate_x_y(full_pos)"
   ]
  },
  {
   "cell_type": "code",
   "execution_count": 68,
   "metadata": {
    "collapsed": true
   },
   "outputs": [],
   "source": [
    "from sklearn import svm\n",
    "from sklearn.metrics import roc_curve\n",
    "from sklearn.model_selection import cross_val_score"
   ]
  },
  {
   "cell_type": "code",
   "execution_count": 77,
   "metadata": {},
   "outputs": [
    {
     "data": {
      "text/plain": [
       "array([ 0.78727873,  0.78583783,  0.78794099])"
      ]
     },
     "execution_count": 77,
     "metadata": {},
     "output_type": "execute_result"
    }
   ],
   "source": [
    "snippet_clf = svm.SVC(probability=True)\n",
    "cross_val_score(snippet_clf, snippet_x, snippet_y, scoring='roc_auc')"
   ]
  },
  {
   "cell_type": "code",
   "execution_count": 78,
   "metadata": {},
   "outputs": [
    {
     "data": {
      "text/plain": [
       "array([ 0.74730961,  0.73850345,  0.73845224])"
      ]
     },
     "execution_count": 78,
     "metadata": {},
     "output_type": "execute_result"
    }
   ],
   "source": [
    "context_clf = svm.SVC(probability=True)\n",
    "cross_val_score(context_clf, context_x, context_y, scoring='roc_auc')"
   ]
  },
  {
   "cell_type": "code",
   "execution_count": 79,
   "metadata": {},
   "outputs": [
    {
     "data": {
      "text/plain": [
       "array([ 0.75401885,  0.77250659,  0.82011456])"
      ]
     },
     "execution_count": 79,
     "metadata": {},
     "output_type": "execute_result"
    }
   ],
   "source": [
    "full_clf = svm.SVC(probability=True)\n",
    "cross_val_score(full_clf, full_x, full_y, scoring='roc_auc')"
   ]
  },
  {
   "cell_type": "code",
   "execution_count": 255,
   "metadata": {},
   "outputs": [
    {
     "name": "stdout",
     "output_type": "stream",
     "text": [
      "\n"
     ]
    }
   ],
   "source": [
    "import numpy as np\n",
    "from scipy import interp\n",
    "import matplotlib.pyplot as plt\n",
    "from itertools import cycle\n",
    "\n",
    "from sklearn import svm, datasets\n",
    "from sklearn.metrics import roc_curve, auc, accuracy_score, f1_score, recall_score, precision_score, precision_recall_curve\n",
    "from sklearn.model_selection import StratifiedKFold\n",
    "%matplotlib inline"
   ]
  },
  {
   "cell_type": "code",
   "execution_count": 143,
   "metadata": {
    "collapsed": true
   },
   "outputs": [],
   "source": [
    "def pr(X, y, num_missed_x):\n",
    "    plt.figure(figsize=(10, 10))\n",
    "    random_state = np.random.RandomState(0)\n",
    "    cv = StratifiedKFold(n_splits=5)\n",
    "    \n",
    "    classifier = svm.SVC(probability=True, random_state=random_state, C=0.8)\n",
    "    \n",
    "    mean_tpr = 0.0\n",
    "    mean_fpr = np.linspace(0, 1, 100)\n",
    "    \n",
    "    lw = 2\n",
    "    \n",
    "    i = 0\n",
    "    for train, test in cv.split(X, y):\n",
    "        clf = classifier.fit(X[train], y[train])\n",
    "        probas_ = clf.predict_proba(X[test])\n",
    "        # Compute ROC curve and area the curve\n",
    "        n = len(X[test])\n",
    "        #print n\n",
    "        print sum(clf.predict(X[test]))\n",
    "        print sum(y[test])\n",
    "        print 'accuracy:', accuracy_score(clf.predict(X[test]), y[test])\n",
    "        print 'f1_score:', f1_score(clf.predict(X[test]), y[test])\n",
    "        print 'recall_score:', recall_score(clf.predict(X[test]), y[test])\n",
    "        \n",
    "        fpr, tpr, thresholds = precision_recall_curve(y[test], probas_[:, 1])\n",
    "        #fpr = (fpr * n) / (n + num_missed_x)\n",
    "        #tpr = (tpr * n) / (n + num_missed_x)\n",
    "        mean_tpr += interp(mean_fpr, fpr, tpr)\n",
    "        mean_tpr[0] = 0.0\n",
    "        roc_auc = auc(fpr, tpr)\n",
    "        plt.plot(fpr, tpr, lw=lw,\n",
    "                 label='ROC fold %d (area = %0.2f)' % (i, roc_auc))\n",
    "    \n",
    "        i += 1\n",
    "    #plt.plot([0, 1], [0, 1], linestyle='--', lw=lw, color='k', label='Luck')\n",
    "    \n",
    "    mean_tpr /= cv.get_n_splits(X, y)\n",
    "    mean_tpr[-1] = 1.0\n",
    "    mean_auc = auc(mean_fpr, mean_tpr)\n",
    "    plt.plot(mean_fpr, mean_tpr, color='g', linestyle='--',\n",
    "             label='Mean ROC (area = %0.2f)' % mean_auc, lw=lw)\n",
    "    \n",
    "    plt.xlim([-0.05, 1.05])\n",
    "    plt.ylim([-0.05, 1.05])\n",
    "    plt.xlabel('False Positive Rate')\n",
    "    plt.ylabel('True Positive Rate')\n",
    "    plt.title('ROC')\n",
    "    plt.legend(loc=\"lower right\")\n",
    "    plt.show()"
   ]
  },
  {
   "cell_type": "code",
   "execution_count": 258,
   "metadata": {
    "collapsed": true
   },
   "outputs": [],
   "source": [
    "def pr(X, y, num_missed_x):\n",
    "    plt.figure(figsize=(10, 10))\n",
    "    random_state = np.random.RandomState(0)\n",
    "    cv = StratifiedKFold(n_splits=5)\n",
    "    \n",
    "    classifier = svm.SVC(probability=True, random_state=random_state, class_weight={1: 50})\n",
    "    \n",
    "    mean_f1 = np.linspace(0, 1, 1000)\n",
    "    mean = .0\n",
    "    \n",
    "    lw = 2\n",
    "    \n",
    "    i = 0\n",
    "    for train, test in cv.split(X, y):\n",
    "        clf = classifier.fit(X[train], y[train])\n",
    "        \n",
    "        probas_ = clf.predict_proba(X[test])\n",
    "        #print y[test]\n",
    "        #print probas_ > 0.077077077077077075\n",
    "        for x in np.linspace(0, 1, 100):\n",
    "            label = probas_[:,0] < x\n",
    "            print x, 'recall:', recall_score(y[test], label), 'f1:', f1_score(y[test], label), 'precision:', precision_score(y[test], label)\n",
    "        \n",
    "        precision, recall, thresholds = precision_recall_curve(y[test], probas_[:, 1])\n",
    "        f1 = precision * recall / (precision + recall) * 2\n",
    "        area = auc(recall, precision)\n",
    "        #fpr = (fpr * n) / (n + num_missed_x)\n",
    "        #tpr = (tpr * n) / (n + num_missed_x)\n",
    "        mean += interp(mean_f1, thresholds, f1[:-1])\n",
    "        #mean_tpr[0] = 0.0\n",
    "        #roc_auc = auc(fpr, tpr)\n",
    "        \n",
    "        plt.plot(thresholds, f1[:-1], lw=lw,\n",
    "                 label='ROC fold %d, auc (%.4f)' % (i, area))\n",
    "        #plt.plot(recall, precision, lw=lw,\n",
    "        #         label='ROC fold %d, auc (%.4f)' % (i, area))\n",
    "    \n",
    "        i += 1\n",
    "    #plt.plot([0, 1], [0, 1], linestyle='--', lw=lw, color='k', label='Luck')\n",
    "    mean /= cv.get_n_splits(X, y)\n",
    "    #mean_tpr /= cv.get_n_splits(X, y)\n",
    "    #mean_tpr[-1] = 1.0\n",
    "    #mean_auc = auc(mean_fpr, mean_tpr)\n",
    "    #plt.plot(mean_fpr, mean_tpr, color='g', linestyle='--',\n",
    "    #         label='Mean ROC (area = %0.2f)' % mean_auc, lw=lw)\n",
    "    \n",
    "    plt.xlim([-0.05, 1.05])\n",
    "    plt.ylim([-0.05, 1.05])\n",
    "    plt.xlabel('Recall')\n",
    "    plt.ylabel('Precision')\n",
    "    plt.title('PR')\n",
    "    plt.legend(loc=\"upper right\")\n",
    "    plt.show()\n",
    "    return mean"
   ]
  },
  {
   "cell_type": "code",
   "execution_count": 259,
   "metadata": {},
   "outputs": [
    {
     "name": "stdout",
     "output_type": "stream",
     "text": [
      "0.0 recall: 0.0 f1: 0.0 precision: 0.0\n",
      "0.010101010101 recall: 0.0 f1: 0.0 precision: 0.0\n",
      "0.020202020202 recall: 0.0 f1: 0.0 precision: 0.0\n",
      "0.030303030303 recall: 0.0 f1: 0.0 precision: 0.0\n",
      "0.040404040404 recall: 0.0 f1: 0.0 precision: 0.0\n",
      "0.0505050505051 recall: 0.0 f1: 0.0 precision: 0.0\n",
      "0.0606060606061 recall: 0.0 f1: 0.0 precision: 0.0\n",
      "0.0707070707071 recall: 0.0 f1: 0.0 precision: 0.0\n",
      "0.0808080808081 recall: 0.0 f1: 0.0 precision: 0.0\n",
      "0.0909090909091 recall: 0.0 f1: 0.0 precision: 0.0\n",
      "0.10101010101 recall: 0.0 f1: 0.0 precision: 0.0\n",
      "0.111111111111 recall: 0.0 f1: 0.0 precision: 0.0\n",
      "0.121212121212 recall: 0.0 f1: 0.0 precision: 0.0\n",
      "0.131313131313 recall: 0.0 f1: 0.0 precision: 0.0\n",
      "0.141414141414 recall: 0.0 f1: 0.0 precision: 0.0\n",
      "0.151515151515 recall: 0.0 f1: 0.0 precision: 0.0\n",
      "0.161616161616 recall: 0.0 f1: 0.0 precision: 0.0\n",
      "0.171717171717 recall: 0.0 f1: 0.0 precision: 0.0\n",
      "0.181818181818 recall: 0.0 f1: 0.0 precision: 0.0\n",
      "0.191919191919 recall: 0.0 f1: 0.0 precision: 0.0\n",
      "0.20202020202 recall: 0.0 f1: 0.0 precision: 0.0\n",
      "0.212121212121 recall: 0.0 f1: 0.0 precision: 0.0\n",
      "0.222222222222 recall: 0.0 f1: 0.0 precision: 0.0\n",
      "0.232323232323 recall: 0.0 f1: 0.0 precision: 0.0\n",
      "0.242424242424 recall: 0.0 f1: 0.0 precision: 0.0\n",
      "0.252525252525 recall: 0.0 f1: 0.0 precision: 0.0\n",
      "0.262626262626 recall: 0.0 f1: 0.0 precision: 0.0\n",
      "0.272727272727 recall: 0.0 f1: 0.0 precision: 0.0\n",
      "0.282828282828 recall: 0.0 f1: 0.0 precision: 0.0\n",
      "0.292929292929 recall: 0.0 f1: 0.0 precision: 0.0\n",
      "0.30303030303 recall: 0.0 f1: 0.0 precision: 0.0\n",
      "0.313131313131 recall: 0.0 f1: 0.0 precision: 0.0\n",
      "0.323232323232 recall: 0.0 f1: 0.0 precision: 0.0\n",
      "0.333333333333 recall: 0.0 f1: 0.0 precision: 0.0\n",
      "0.343434343434 recall: 0.0 f1: 0.0 precision: 0.0\n",
      "0.353535353535 recall: 0.0 f1: 0.0 precision: 0.0\n",
      "0.363636363636 recall: 0.0 f1: 0.0 precision: 0.0\n",
      "0.373737373737 recall: 0.0 f1: 0.0 precision: 0.0\n",
      "0.383838383838 recall: 0.0 f1: 0.0 precision: 0.0\n",
      "0.393939393939 recall: 0.0 f1: 0.0 precision: 0.0\n",
      "0.40404040404 recall: 0.0 f1: 0.0 precision: 0.0\n",
      "0.414141414141 recall: 0.0 f1: 0.0 precision: 0.0\n",
      "0.424242424242 recall: 0.0 f1: 0.0 precision: 0.0\n",
      "0.434343434343 recall: 0.0 f1: 0.0 precision: 0.0\n",
      "0.444444444444 recall: 0.0 f1: 0.0 precision: 0.0\n",
      "0.454545454545 recall: 0.0 f1: 0.0 precision: 0.0\n",
      "0.464646464646 recall: 0.0 f1: 0.0 precision: 0.0\n",
      "0.474747474747 recall: 0.0 f1: 0.0 precision: 0.0\n",
      "0.484848484848 recall: 0.0 f1: 0.0 precision: 0.0\n",
      "0.494949494949 recall: 0.0 f1: 0.0 precision: 0.0\n",
      "0.505050505051 recall: 0.0 f1: 0.0 precision: 0.0\n",
      "0.515151515152 recall: 0.0 f1: 0.0 precision: 0.0\n",
      "0.525252525253 recall: 0.0 f1: 0.0 precision: 0.0\n",
      "0.535353535354 recall: 0.0 f1: 0.0 precision: 0.0\n",
      "0.545454545455 recall: 0.0 f1: 0.0 precision: 0.0\n",
      "0.555555555556 recall: 0.0 f1: 0.0 precision: 0.0\n",
      "0.565656565657 recall: 0.0 f1: 0.0 precision: 0.0\n",
      "0.575757575758 recall: 0.0 f1: 0.0 precision: 0.0\n",
      "0.585858585859 recall: 0.0 f1: 0.0 precision: 0.0\n",
      "0.59595959596 recall: 0.0 f1: 0.0 precision: 0.0\n",
      "0.606060606061 recall: 0.0 f1: 0.0 precision: 0.0\n",
      "0.616161616162 recall: 0.0 f1: 0.0 precision: 0.0\n",
      "0.626262626263 recall: 0.0 f1: 0.0 precision: 0.0\n",
      "0.636363636364 recall: 0.0 f1: 0.0 precision: 0.0\n",
      "0.646464646465 recall: 0.0 f1: 0.0 precision: 0.0\n",
      "0.656565656566 recall: 0.0 f1: 0.0 precision: 0.0\n",
      "0.666666666667 recall: 0.0 f1: 0.0 precision: 0.0\n",
      "0.676767676768 recall: 0.0 f1: 0.0 precision: 0.0\n",
      "0.686868686869 recall: 0.0 f1: 0.0 precision: 0.0\n",
      "0.69696969697 recall: 0.0 f1: 0.0 precision: 0.0\n",
      "0.707070707071 recall: 0.0 f1: 0.0 precision: 0.0\n",
      "0.717171717172 recall: 0.0 f1: 0.0 precision: 0.0\n",
      "0.727272727273 recall: 0.0 f1: 0.0 precision: 0.0\n",
      "0.737373737374 recall: 0.0 f1: 0.0 precision: 0.0\n",
      "0.747474747475 recall: 0.0 f1: 0.0 precision: 0.0\n",
      "0.757575757576 recall: 0.0 f1: 0.0 precision: 0.0\n",
      "0.767676767677 recall: 0.0 f1: 0.0 precision: 0.0\n",
      "0.777777777778 recall: 0.0 f1: 0.0 precision: 0.0\n",
      "0.787878787879 recall: 0.0 f1: 0.0 precision: 0.0\n",
      "0.79797979798 recall: 0.0 f1: 0.0 precision: 0.0\n",
      "0.808080808081 recall: 0.0 f1: 0.0 precision: 0.0\n",
      "0.818181818182 recall: 0.0 f1: 0.0 precision: 0.0\n",
      "0.828282828283 recall: 0.0 f1: 0.0 precision: 0.0\n",
      "0.838383838384 recall: 0.0 f1: 0.0 precision: 0.0\n",
      "0.848484848485 recall: 0.0208333333333 f1: 0.0392156862745 precision: 0.333333333333\n",
      "0.858585858586 recall: 0.0208333333333 f1: 0.0377358490566 precision: 0.2\n",
      "0.868686868687 recall: 0.0208333333333 f1: 0.0363636363636 precision: 0.142857142857\n",
      "0.878787878788 recall: 0.0416666666667 f1: 0.0701754385965 precision: 0.222222222222\n",
      "0.888888888889 recall: 0.0416666666667 f1: 0.0677966101695 precision: 0.181818181818\n",
      "0.89898989899 recall: 0.0416666666667 f1: 0.0634920634921 precision: 0.133333333333\n",
      "0.909090909091 recall: 0.125 f1: 0.137931034483 precision: 0.153846153846\n",
      "0.919191919192 recall: 0.166666666667 f1: 0.124031007752 precision: 0.0987654320988\n",
      "0.929292929293 recall: 0.25 f1: 0.119402985075 precision: 0.078431372549\n",
      "0.939393939394 recall: 0.416666666667 f1: 0.125 precision: 0.0735294117647\n",
      "0.949494949495 recall: 0.5 f1: 0.115942028986 precision: 0.0655737704918\n",
      "0.959595959596 recall: 0.604166666667 f1: 0.111753371869 precision: 0.0615711252654\n",
      "0.969696969697 recall: 0.6875 f1: 0.10200927357 precision: 0.0550918196995\n",
      "0.979797979798 recall: 0.75 f1: 0.0896637608966 precision: 0.0476821192053\n",
      "0.989898989899 recall: 0.8125 f1: 0.0659898477157 precision: 0.0343915343915\n",
      "1.0 recall: 1.0 f1: 0.0323886639676 precision: 0.0164609053498\n"
     ]
    },
    {
     "name": "stderr",
     "output_type": "stream",
     "text": [
      "/Users/bowen/.virtualenvs/dynet/lib/python2.7/site-packages/ipykernel_launcher.py:25: RuntimeWarning: invalid value encountered in divide\n"
     ]
    },
    {
     "name": "stdout",
     "output_type": "stream",
     "text": [
      "0.0 recall: 0.0 f1: 0.0 precision: 0.0\n",
      "0.010101010101 recall: 0.0 f1: 0.0 precision: 0.0\n",
      "0.020202020202 recall: 0.0 f1: 0.0 precision: 0.0\n",
      "0.030303030303 recall: 0.0 f1: 0.0 precision: 0.0\n",
      "0.040404040404 recall: 0.0 f1: 0.0 precision: 0.0\n",
      "0.0505050505051 recall: 0.0 f1: 0.0 precision: 0.0\n",
      "0.0606060606061 recall: 0.0 f1: 0.0 precision: 0.0\n",
      "0.0707070707071 recall: 0.0 f1: 0.0 precision: 0.0\n",
      "0.0808080808081 recall: 0.0 f1: 0.0 precision: 0.0\n",
      "0.0909090909091 recall: 0.0 f1: 0.0 precision: 0.0\n",
      "0.10101010101 recall: 0.0 f1: 0.0 precision: 0.0\n",
      "0.111111111111 recall: 0.0 f1: 0.0 precision: 0.0\n",
      "0.121212121212 recall: 0.0 f1: 0.0 precision: 0.0\n",
      "0.131313131313 recall: 0.0 f1: 0.0 precision: 0.0\n",
      "0.141414141414 recall: 0.0 f1: 0.0 precision: 0.0\n",
      "0.151515151515 recall: 0.0 f1: 0.0 precision: 0.0\n",
      "0.161616161616 recall: 0.0 f1: 0.0 precision: 0.0\n",
      "0.171717171717 recall: 0.0 f1: 0.0 precision: 0.0\n",
      "0.181818181818 recall: 0.0 f1: 0.0 precision: 0.0\n",
      "0.191919191919 recall: 0.0 f1: 0.0 precision: 0.0\n",
      "0.20202020202 recall: 0.0 f1: 0.0 precision: 0.0\n",
      "0.212121212121 recall: 0.0 f1: 0.0 precision: 0.0\n",
      "0.222222222222 recall: 0.0 f1: 0.0 precision: 0.0\n",
      "0.232323232323 recall: 0.0 f1: 0.0 precision: 0.0\n",
      "0.242424242424 recall: 0.0 f1: 0.0 precision: 0.0\n",
      "0.252525252525 recall: 0.0 f1: 0.0 precision: 0.0\n",
      "0.262626262626 recall: 0.0 f1: 0.0 precision: 0.0\n",
      "0.272727272727 recall: 0.0 f1: 0.0 precision: 0.0\n",
      "0.282828282828 recall: 0.0 f1: 0.0 precision: 0.0\n",
      "0.292929292929 recall: 0.0 f1: 0.0 precision: 0.0\n",
      "0.30303030303 recall: 0.0 f1: 0.0 precision: 0.0\n",
      "0.313131313131 recall: 0.0 f1: 0.0 precision: 0.0\n",
      "0.323232323232 recall: 0.0 f1: 0.0 precision: 0.0\n",
      "0.333333333333 recall: 0.0 f1: 0.0 precision: 0.0\n",
      "0.343434343434 recall: 0.0 f1: 0.0 precision: 0.0\n",
      "0.353535353535 recall: 0.0 f1: 0.0 precision: 0.0\n",
      "0.363636363636 recall: 0.0 f1: 0.0 precision: 0.0\n",
      "0.373737373737 recall: 0.0 f1: 0.0 precision: 0.0\n",
      "0.383838383838 recall: 0.0 f1: 0.0 precision: 0.0\n",
      "0.393939393939 recall: 0.0 f1: 0.0 precision: 0.0\n",
      "0.40404040404 recall: 0.0 f1: 0.0 precision: 0.0\n",
      "0.414141414141 recall: 0.0 f1: 0.0 precision: 0.0\n",
      "0.424242424242 recall: 0.0 f1: 0.0 precision: 0.0\n",
      "0.434343434343 recall: 0.0 f1: 0.0 precision: 0.0\n",
      "0.444444444444 recall: 0.0 f1: 0.0 precision: 0.0\n",
      "0.454545454545 recall: 0.0 f1: 0.0 precision: 0.0\n",
      "0.464646464646 recall: 0.0 f1: 0.0 precision: 0.0\n",
      "0.474747474747 recall: 0.0 f1: 0.0 precision: 0.0\n",
      "0.484848484848 recall: 0.0 f1: 0.0 precision: 0.0\n",
      "0.494949494949 recall: 0.0 f1: 0.0 precision: 0.0\n",
      "0.505050505051 recall: 0.0 f1: 0.0 precision: 0.0\n",
      "0.515151515152 recall: 0.0 f1: 0.0 precision: 0.0\n",
      "0.525252525253 recall: 0.0 f1: 0.0 precision: 0.0\n",
      "0.535353535354 recall: 0.0 f1: 0.0 precision: 0.0\n",
      "0.545454545455 recall: 0.0 f1: 0.0 precision: 0.0\n",
      "0.555555555556 recall: 0.0 f1: 0.0 precision: 0.0\n",
      "0.565656565657 recall: 0.0 f1: 0.0 precision: 0.0\n",
      "0.575757575758 recall: 0.0 f1: 0.0 precision: 0.0\n",
      "0.585858585859 recall: 0.0 f1: 0.0 precision: 0.0\n",
      "0.59595959596 recall: 0.0 f1: 0.0 precision: 0.0\n",
      "0.606060606061 recall: 0.0 f1: 0.0 precision: 0.0\n",
      "0.616161616162 recall: 0.0 f1: 0.0 precision: 0.0\n",
      "0.626262626263 recall: 0.0 f1: 0.0 precision: 0.0\n",
      "0.636363636364 recall: 0.0 f1: 0.0 precision: 0.0\n",
      "0.646464646465 recall: 0.0 f1: 0.0 precision: 0.0\n",
      "0.656565656566 recall: 0.0 f1: 0.0 precision: 0.0\n",
      "0.666666666667 recall: 0.0 f1: 0.0 precision: 0.0\n",
      "0.676767676768 recall: 0.0 f1: 0.0 precision: 0.0\n",
      "0.686868686869 recall: 0.0 f1: 0.0 precision: 0.0\n",
      "0.69696969697 recall: 0.0 f1: 0.0 precision: 0.0\n",
      "0.707070707071 recall: 0.0 f1: 0.0 precision: 0.0\n",
      "0.717171717172 recall: 0.0212765957447 f1: 0.0416666666667 precision: 1.0\n",
      "0.727272727273 recall: 0.0212765957447 f1: 0.0416666666667 precision: 1.0\n",
      "0.737373737374 recall: 0.0212765957447 f1: 0.0416666666667 precision: 1.0\n",
      "0.747474747475 recall: 0.0212765957447 f1: 0.0416666666667 precision: 1.0\n",
      "0.757575757576 recall: 0.0212765957447 f1: 0.0416666666667 precision: 1.0\n",
      "0.767676767677 recall: 0.0212765957447 f1: 0.0416666666667 precision: 1.0\n",
      "0.777777777778 recall: 0.0212765957447 f1: 0.0416666666667 precision: 1.0\n",
      "0.787878787879 recall: 0.0212765957447 f1: 0.0416666666667 precision: 1.0\n",
      "0.79797979798 recall: 0.0212765957447 f1: 0.0416666666667 precision: 1.0\n",
      "0.808080808081 recall: 0.0212765957447 f1: 0.0416666666667 precision: 1.0\n",
      "0.818181818182 recall: 0.0212765957447 f1: 0.0408163265306 precision: 0.5\n",
      "0.828282828283 recall: 0.0212765957447 f1: 0.0377358490566 precision: 0.166666666667\n",
      "0.838383838384 recall: 0.0212765957447 f1: 0.037037037037 precision: 0.142857142857\n",
      "0.848484848485 recall: 0.0212765957447 f1: 0.037037037037 precision: 0.142857142857\n",
      "0.858585858586 recall: 0.0212765957447 f1: 0.0338983050847 precision: 0.0833333333333\n",
      "0.868686868687 recall: 0.0212765957447 f1: 0.0307692307692 precision: 0.0555555555556\n",
      "0.878787878788 recall: 0.0212765957447 f1: 0.0281690140845 precision: 0.0416666666667\n",
      "0.888888888889 recall: 0.0425531914894 f1: 0.0454545454545 precision: 0.0487804878049\n",
      "0.89898989899 recall: 0.127659574468 f1: 0.110091743119 precision: 0.0967741935484\n",
      "0.909090909091 recall: 0.212765957447 f1: 0.143884892086 precision: 0.108695652174\n",
      "0.919191919192 recall: 0.255319148936 f1: 0.14201183432 precision: 0.0983606557377\n",
      "0.929292929293 recall: 0.340425531915 f1: 0.145454545455 precision: 0.0924855491329\n",
      "0.939393939394 recall: 0.510638297872 f1: 0.155339805825 precision: 0.0916030534351\n",
      "0.949494949495 recall: 0.617021276596 f1: 0.158469945355 precision: 0.0909090909091\n",
      "0.959595959596 recall: 0.63829787234 f1: 0.136674259681 precision: 0.0765306122449\n",
      "0.969696969697 recall: 0.68085106383 f1: 0.121212121212 precision: 0.0665280665281\n",
      "0.979797979798 recall: 0.744680851064 f1: 0.106544901065 precision: 0.0573770491803\n",
      "0.989898989899 recall: 0.872340425532 f1: 0.0782442748092 precision: 0.040959040959\n",
      "1.0 recall: 1.0 f1: 0.031746031746 precision: 0.0161290322581\n",
      "0.0 recall: 0.0 f1: 0.0 precision: 0.0\n",
      "0.010101010101 recall: 0.0 f1: 0.0 precision: 0.0\n",
      "0.020202020202 recall: 0.0 f1: 0.0 precision: 0.0\n",
      "0.030303030303 recall: 0.0 f1: 0.0 precision: 0.0\n",
      "0.040404040404 recall: 0.0 f1: 0.0 precision: 0.0\n",
      "0.0505050505051 recall: 0.0 f1: 0.0 precision: 0.0\n",
      "0.0606060606061 recall: 0.0 f1: 0.0 precision: 0.0\n",
      "0.0707070707071 recall: 0.0 f1: 0.0 precision: 0.0\n",
      "0.0808080808081 recall: 0.0 f1: 0.0 precision: 0.0\n",
      "0.0909090909091 recall: 0.0 f1: 0.0 precision: 0.0\n",
      "0.10101010101 recall: 0.0 f1: 0.0 precision: 0.0\n",
      "0.111111111111 recall: 0.0 f1: 0.0 precision: 0.0\n",
      "0.121212121212 recall: 0.0 f1: 0.0 precision: 0.0\n",
      "0.131313131313 recall: 0.0 f1: 0.0 precision: 0.0\n",
      "0.141414141414 recall: 0.0 f1: 0.0 precision: 0.0\n",
      "0.151515151515 recall: 0.0 f1: 0.0 precision: 0.0\n",
      "0.161616161616 recall: 0.0 f1: 0.0 precision: 0.0\n",
      "0.171717171717 recall: 0.0 f1: 0.0 precision: 0.0\n",
      "0.181818181818 recall: 0.0 f1: 0.0 precision: 0.0\n",
      "0.191919191919 recall: 0.0 f1: 0.0 precision: 0.0\n",
      "0.20202020202 recall: 0.0 f1: 0.0 precision: 0.0\n",
      "0.212121212121 recall: 0.0 f1: 0.0 precision: 0.0\n",
      "0.222222222222 recall: 0.0 f1: 0.0 precision: 0.0\n",
      "0.232323232323 recall: 0.0 f1: 0.0 precision: 0.0\n",
      "0.242424242424 recall: 0.0 f1: 0.0 precision: 0.0\n",
      "0.252525252525 recall: 0.0 f1: 0.0 precision: 0.0\n",
      "0.262626262626 recall: 0.0 f1: 0.0 precision: 0.0\n",
      "0.272727272727 recall: 0.0 f1: 0.0 precision: 0.0\n",
      "0.282828282828 recall: 0.0 f1: 0.0 precision: 0.0\n",
      "0.292929292929 recall: 0.0 f1: 0.0 precision: 0.0\n",
      "0.30303030303 recall: 0.0 f1: 0.0 precision: 0.0\n",
      "0.313131313131 recall: 0.0 f1: 0.0 precision: 0.0\n",
      "0.323232323232 recall: 0.0 f1: 0.0 precision: 0.0\n",
      "0.333333333333 recall: 0.0 f1: 0.0 precision: 0.0\n",
      "0.343434343434 recall: 0.0 f1: 0.0 precision: 0.0\n",
      "0.353535353535 recall: 0.0 f1: 0.0 precision: 0.0\n",
      "0.363636363636 recall: 0.0 f1: 0.0 precision: 0.0\n",
      "0.373737373737 recall: 0.0 f1: 0.0 precision: 0.0\n",
      "0.383838383838 recall: 0.0 f1: 0.0 precision: 0.0\n",
      "0.393939393939 recall: 0.0 f1: 0.0 precision: 0.0\n",
      "0.40404040404 recall: 0.0 f1: 0.0 precision: 0.0\n",
      "0.414141414141 recall: 0.0 f1: 0.0 precision: 0.0\n",
      "0.424242424242 recall: 0.0 f1: 0.0 precision: 0.0\n",
      "0.434343434343 recall: 0.0 f1: 0.0 precision: 0.0\n",
      "0.444444444444 recall: 0.0 f1: 0.0 precision: 0.0\n",
      "0.454545454545 recall: 0.0 f1: 0.0 precision: 0.0\n",
      "0.464646464646 recall: 0.0 f1: 0.0 precision: 0.0\n",
      "0.474747474747 recall: 0.0 f1: 0.0 precision: 0.0\n",
      "0.484848484848 recall: 0.0 f1: 0.0 precision: 0.0\n",
      "0.494949494949 recall: 0.0 f1: 0.0 precision: 0.0\n",
      "0.505050505051 recall: 0.0 f1: 0.0 precision: 0.0\n",
      "0.515151515152 recall: 0.0 f1: 0.0 precision: 0.0\n",
      "0.525252525253 recall: 0.0 f1: 0.0 precision: 0.0\n",
      "0.535353535354 recall: 0.0 f1: 0.0 precision: 0.0\n",
      "0.545454545455 recall: 0.0 f1: 0.0 precision: 0.0\n",
      "0.555555555556 recall: 0.0 f1: 0.0 precision: 0.0\n",
      "0.565656565657 recall: 0.0 f1: 0.0 precision: 0.0\n",
      "0.575757575758 recall: 0.0 f1: 0.0 precision: 0.0\n",
      "0.585858585859 recall: 0.0 f1: 0.0 precision: 0.0\n",
      "0.59595959596 recall: 0.0 f1: 0.0 precision: 0.0\n",
      "0.606060606061 recall: 0.0 f1: 0.0 precision: 0.0\n",
      "0.616161616162 recall: 0.0 f1: 0.0 precision: 0.0\n",
      "0.626262626263 recall: 0.0 f1: 0.0 precision: 0.0\n",
      "0.636363636364 recall: 0.0 f1: 0.0 precision: 0.0\n",
      "0.646464646465 recall: 0.0 f1: 0.0 precision: 0.0\n",
      "0.656565656566 recall: 0.0 f1: 0.0 precision: 0.0\n",
      "0.666666666667 recall: 0.0 f1: 0.0 precision: 0.0\n",
      "0.676767676768 recall: 0.0 f1: 0.0 precision: 0.0\n",
      "0.686868686869 recall: 0.0 f1: 0.0 precision: 0.0\n",
      "0.69696969697 recall: 0.0 f1: 0.0 precision: 0.0\n",
      "0.707070707071 recall: 0.0 f1: 0.0 precision: 0.0\n",
      "0.717171717172 recall: 0.0 f1: 0.0 precision: 0.0\n"
     ]
    },
    {
     "name": "stdout",
     "output_type": "stream",
     "text": [
      "0.727272727273 recall: 0.0 f1: 0.0 precision: 0.0\n",
      "0.737373737374 recall: 0.0 f1: 0.0 precision: 0.0\n",
      "0.747474747475 recall: 0.0 f1: 0.0 precision: 0.0\n",
      "0.757575757576 recall: 0.0 f1: 0.0 precision: 0.0\n",
      "0.767676767677 recall: 0.0 f1: 0.0 precision: 0.0\n",
      "0.777777777778 recall: 0.0 f1: 0.0 precision: 0.0\n",
      "0.787878787879 recall: 0.0 f1: 0.0 precision: 0.0\n",
      "0.79797979798 recall: 0.0 f1: 0.0 precision: 0.0\n",
      "0.808080808081 recall: 0.0 f1: 0.0 precision: 0.0\n",
      "0.818181818182 recall: 0.0 f1: 0.0 precision: 0.0\n",
      "0.828282828283 recall: 0.0 f1: 0.0 precision: 0.0\n",
      "0.838383838384 recall: 0.0 f1: 0.0 precision: 0.0\n",
      "0.848484848485 recall: 0.0 f1: 0.0 precision: 0.0\n",
      "0.858585858586 recall: 0.0 f1: 0.0 precision: 0.0\n",
      "0.868686868687 recall: 0.0 f1: 0.0 precision: 0.0\n",
      "0.878787878788 recall: 0.0 f1: 0.0 precision: 0.0\n",
      "0.888888888889 recall: 0.0425531914894 f1: 0.0519480519481 precision: 0.0666666666667\n",
      "0.89898989899 recall: 0.0851063829787 f1: 0.0747663551402 precision: 0.0666666666667\n",
      "0.909090909091 recall: 0.170212765957 f1: 0.115942028986 precision: 0.0879120879121\n",
      "0.919191919192 recall: 0.31914893617 f1: 0.147058823529 precision: 0.0955414012739\n",
      "0.929292929293 recall: 0.382978723404 f1: 0.12676056338 precision: 0.0759493670886\n",
      "0.939393939394 recall: 0.468085106383 f1: 0.12324929972 precision: 0.0709677419355\n",
      "0.949494949495 recall: 0.531914893617 f1: 0.110619469027 precision: 0.0617283950617\n",
      "0.959595959596 recall: 0.595744680851 f1: 0.108108108108 precision: 0.0594479830149\n",
      "0.969696969697 recall: 0.659574468085 f1: 0.104026845638 precision: 0.0564663023679\n",
      "0.979797979798 recall: 0.723404255319 f1: 0.0906666666667 precision: 0.0483641536273\n",
      "0.989898989899 recall: 0.893617021277 f1: 0.0793950850662 precision: 0.0415430267062\n",
      "1.0 recall: 1.0 f1: 0.031746031746 precision: 0.0161290322581\n",
      "0.0 recall: 0.0 f1: 0.0 precision: 0.0\n",
      "0.010101010101 recall: 0.0 f1: 0.0 precision: 0.0\n",
      "0.020202020202 recall: 0.0 f1: 0.0 precision: 0.0\n",
      "0.030303030303 recall: 0.0 f1: 0.0 precision: 0.0\n",
      "0.040404040404 recall: 0.0 f1: 0.0 precision: 0.0\n",
      "0.0505050505051 recall: 0.0 f1: 0.0 precision: 0.0\n",
      "0.0606060606061 recall: 0.0 f1: 0.0 precision: 0.0\n",
      "0.0707070707071 recall: 0.0 f1: 0.0 precision: 0.0\n",
      "0.0808080808081 recall: 0.0 f1: 0.0 precision: 0.0\n",
      "0.0909090909091 recall: 0.0 f1: 0.0 precision: 0.0\n",
      "0.10101010101 recall: 0.0 f1: 0.0 precision: 0.0\n",
      "0.111111111111 recall: 0.0 f1: 0.0 precision: 0.0\n",
      "0.121212121212 recall: 0.0 f1: 0.0 precision: 0.0\n",
      "0.131313131313 recall: 0.0 f1: 0.0 precision: 0.0\n",
      "0.141414141414 recall: 0.0 f1: 0.0 precision: 0.0\n",
      "0.151515151515 recall: 0.0 f1: 0.0 precision: 0.0\n",
      "0.161616161616 recall: 0.0 f1: 0.0 precision: 0.0\n",
      "0.171717171717 recall: 0.0 f1: 0.0 precision: 0.0\n",
      "0.181818181818 recall: 0.0 f1: 0.0 precision: 0.0\n",
      "0.191919191919 recall: 0.0 f1: 0.0 precision: 0.0\n",
      "0.20202020202 recall: 0.0 f1: 0.0 precision: 0.0\n",
      "0.212121212121 recall: 0.0 f1: 0.0 precision: 0.0\n",
      "0.222222222222 recall: 0.0 f1: 0.0 precision: 0.0\n",
      "0.232323232323 recall: 0.0 f1: 0.0 precision: 0.0\n",
      "0.242424242424 recall: 0.0 f1: 0.0 precision: 0.0\n",
      "0.252525252525 recall: 0.0 f1: 0.0 precision: 0.0\n",
      "0.262626262626 recall: 0.0 f1: 0.0 precision: 0.0\n",
      "0.272727272727 recall: 0.0 f1: 0.0 precision: 0.0\n",
      "0.282828282828 recall: 0.0 f1: 0.0 precision: 0.0\n",
      "0.292929292929 recall: 0.0 f1: 0.0 precision: 0.0\n",
      "0.30303030303 recall: 0.0 f1: 0.0 precision: 0.0\n",
      "0.313131313131 recall: 0.0 f1: 0.0 precision: 0.0\n",
      "0.323232323232 recall: 0.0 f1: 0.0 precision: 0.0\n",
      "0.333333333333 recall: 0.0 f1: 0.0 precision: 0.0\n",
      "0.343434343434 recall: 0.0 f1: 0.0 precision: 0.0\n",
      "0.353535353535 recall: 0.0 f1: 0.0 precision: 0.0\n",
      "0.363636363636 recall: 0.0 f1: 0.0 precision: 0.0\n",
      "0.373737373737 recall: 0.0 f1: 0.0 precision: 0.0\n",
      "0.383838383838 recall: 0.0 f1: 0.0 precision: 0.0\n",
      "0.393939393939 recall: 0.0 f1: 0.0 precision: 0.0\n",
      "0.40404040404 recall: 0.0 f1: 0.0 precision: 0.0\n",
      "0.414141414141 recall: 0.0 f1: 0.0 precision: 0.0\n",
      "0.424242424242 recall: 0.0 f1: 0.0 precision: 0.0\n",
      "0.434343434343 recall: 0.0 f1: 0.0 precision: 0.0\n",
      "0.444444444444 recall: 0.0 f1: 0.0 precision: 0.0\n",
      "0.454545454545 recall: 0.0 f1: 0.0 precision: 0.0\n",
      "0.464646464646 recall: 0.0 f1: 0.0 precision: 0.0\n",
      "0.474747474747 recall: 0.0 f1: 0.0 precision: 0.0\n",
      "0.484848484848 recall: 0.0 f1: 0.0 precision: 0.0\n",
      "0.494949494949 recall: 0.0 f1: 0.0 precision: 0.0\n",
      "0.505050505051 recall: 0.0 f1: 0.0 precision: 0.0\n",
      "0.515151515152 recall: 0.0 f1: 0.0 precision: 0.0\n",
      "0.525252525253 recall: 0.0 f1: 0.0 precision: 0.0\n",
      "0.535353535354 recall: 0.0 f1: 0.0 precision: 0.0\n",
      "0.545454545455 recall: 0.0 f1: 0.0 precision: 0.0\n",
      "0.555555555556 recall: 0.0 f1: 0.0 precision: 0.0\n",
      "0.565656565657 recall: 0.0 f1: 0.0 precision: 0.0\n",
      "0.575757575758 recall: 0.0 f1: 0.0 precision: 0.0\n",
      "0.585858585859 recall: 0.0 f1: 0.0 precision: 0.0\n",
      "0.59595959596 recall: 0.0 f1: 0.0 precision: 0.0\n",
      "0.606060606061 recall: 0.0 f1: 0.0 precision: 0.0\n",
      "0.616161616162 recall: 0.0 f1: 0.0 precision: 0.0\n",
      "0.626262626263 recall: 0.0 f1: 0.0 precision: 0.0\n",
      "0.636363636364 recall: 0.0 f1: 0.0 precision: 0.0\n",
      "0.646464646465 recall: 0.0 f1: 0.0 precision: 0.0\n",
      "0.656565656566 recall: 0.0 f1: 0.0 precision: 0.0\n",
      "0.666666666667 recall: 0.0 f1: 0.0 precision: 0.0\n",
      "0.676767676768 recall: 0.0 f1: 0.0 precision: 0.0\n",
      "0.686868686869 recall: 0.0 f1: 0.0 precision: 0.0\n",
      "0.69696969697 recall: 0.0 f1: 0.0 precision: 0.0\n",
      "0.707070707071 recall: 0.0 f1: 0.0 precision: 0.0\n",
      "0.717171717172 recall: 0.0 f1: 0.0 precision: 0.0\n",
      "0.727272727273 recall: 0.0212765957447 f1: 0.0408163265306 precision: 0.5\n",
      "0.737373737374 recall: 0.0212765957447 f1: 0.0408163265306 precision: 0.5\n",
      "0.747474747475 recall: 0.0212765957447 f1: 0.0392156862745 precision: 0.25\n",
      "0.757575757576 recall: 0.0212765957447 f1: 0.0392156862745 precision: 0.25\n",
      "0.767676767677 recall: 0.0212765957447 f1: 0.0392156862745 precision: 0.25\n",
      "0.777777777778 recall: 0.0212765957447 f1: 0.0384615384615 precision: 0.2\n",
      "0.787878787879 recall: 0.0212765957447 f1: 0.037037037037 precision: 0.142857142857\n",
      "0.79797979798 recall: 0.0212765957447 f1: 0.037037037037 precision: 0.142857142857\n",
      "0.808080808081 recall: 0.0212765957447 f1: 0.0338983050847 precision: 0.0833333333333\n",
      "0.818181818182 recall: 0.0425531914894 f1: 0.0666666666667 precision: 0.153846153846\n",
      "0.828282828283 recall: 0.0425531914894 f1: 0.0634920634921 precision: 0.125\n",
      "0.838383838384 recall: 0.0425531914894 f1: 0.0606060606061 precision: 0.105263157895\n",
      "0.848484848485 recall: 0.0425531914894 f1: 0.056338028169 precision: 0.0833333333333\n",
      "0.858585858586 recall: 0.063829787234 f1: 0.0789473684211 precision: 0.103448275862\n",
      "0.868686868687 recall: 0.063829787234 f1: 0.0740740740741 precision: 0.0882352941176\n",
      "0.878787878788 recall: 0.106382978723 f1: 0.112359550562 precision: 0.119047619048\n",
      "0.888888888889 recall: 0.148936170213 f1: 0.141414141414 precision: 0.134615384615\n",
      "0.89898989899 recall: 0.170212765957 f1: 0.137931034483 precision: 0.115942028986\n",
      "0.909090909091 recall: 0.255319148936 f1: 0.164383561644 precision: 0.121212121212\n",
      "0.919191919192 recall: 0.31914893617 f1: 0.155440414508 precision: 0.102739726027\n",
      "0.929292929293 recall: 0.340425531915 f1: 0.139737991266 precision: 0.0879120879121\n",
      "0.939393939394 recall: 0.382978723404 f1: 0.12676056338 precision: 0.0759493670886\n",
      "0.949494949495 recall: 0.425531914894 f1: 0.109289617486 precision: 0.0626959247649\n",
      "0.959595959596 recall: 0.446808510638 f1: 0.0965517241379 precision: 0.0541237113402\n",
      "0.969696969697 recall: 0.595744680851 f1: 0.103512014787 precision: 0.0566801619433\n",
      "0.979797979798 recall: 0.702127659574 f1: 0.0951008645533 precision: 0.0510046367852\n",
      "0.989898989899 recall: 0.787234042553 f1: 0.0708812260536 precision: 0.037111334002\n",
      "1.0 recall: 1.0 f1: 0.031746031746 precision: 0.0161290322581\n",
      "0.0 recall: 0.0 f1: 0.0 precision: 0.0\n",
      "0.010101010101 recall: 0.0 f1: 0.0 precision: 0.0\n",
      "0.020202020202 recall: 0.0 f1: 0.0 precision: 0.0\n",
      "0.030303030303 recall: 0.0 f1: 0.0 precision: 0.0\n",
      "0.040404040404 recall: 0.0 f1: 0.0 precision: 0.0\n",
      "0.0505050505051 recall: 0.0 f1: 0.0 precision: 0.0\n",
      "0.0606060606061 recall: 0.0 f1: 0.0 precision: 0.0\n",
      "0.0707070707071 recall: 0.0 f1: 0.0 precision: 0.0\n",
      "0.0808080808081 recall: 0.0 f1: 0.0 precision: 0.0\n",
      "0.0909090909091 recall: 0.0 f1: 0.0 precision: 0.0\n",
      "0.10101010101 recall: 0.0 f1: 0.0 precision: 0.0\n",
      "0.111111111111 recall: 0.0 f1: 0.0 precision: 0.0\n",
      "0.121212121212 recall: 0.0 f1: 0.0 precision: 0.0\n"
     ]
    },
    {
     "name": "stdout",
     "output_type": "stream",
     "text": [
      "0.131313131313 recall: 0.0 f1: 0.0 precision: 0.0\n",
      "0.141414141414 recall: 0.0 f1: 0.0 precision: 0.0\n",
      "0.151515151515 recall: 0.0 f1: 0.0 precision: 0.0\n",
      "0.161616161616 recall: 0.0 f1: 0.0 precision: 0.0\n",
      "0.171717171717 recall: 0.0 f1: 0.0 precision: 0.0\n",
      "0.181818181818 recall: 0.0 f1: 0.0 precision: 0.0\n",
      "0.191919191919 recall: 0.0 f1: 0.0 precision: 0.0\n",
      "0.20202020202 recall: 0.0 f1: 0.0 precision: 0.0\n",
      "0.212121212121 recall: 0.0 f1: 0.0 precision: 0.0\n",
      "0.222222222222 recall: 0.0 f1: 0.0 precision: 0.0\n",
      "0.232323232323 recall: 0.0 f1: 0.0 precision: 0.0\n",
      "0.242424242424 recall: 0.0 f1: 0.0 precision: 0.0\n",
      "0.252525252525 recall: 0.0 f1: 0.0 precision: 0.0\n",
      "0.262626262626 recall: 0.0 f1: 0.0 precision: 0.0\n",
      "0.272727272727 recall: 0.0 f1: 0.0 precision: 0.0\n",
      "0.282828282828 recall: 0.0 f1: 0.0 precision: 0.0\n",
      "0.292929292929 recall: 0.0 f1: 0.0 precision: 0.0\n",
      "0.30303030303 recall: 0.0 f1: 0.0 precision: 0.0\n",
      "0.313131313131 recall: 0.0 f1: 0.0 precision: 0.0\n",
      "0.323232323232 recall: 0.0 f1: 0.0 precision: 0.0\n",
      "0.333333333333 recall: 0.0 f1: 0.0 precision: 0.0\n",
      "0.343434343434 recall: 0.0 f1: 0.0 precision: 0.0\n",
      "0.353535353535 recall: 0.0 f1: 0.0 precision: 0.0\n",
      "0.363636363636 recall: 0.0 f1: 0.0 precision: 0.0\n",
      "0.373737373737 recall: 0.0 f1: 0.0 precision: 0.0\n",
      "0.383838383838 recall: 0.0 f1: 0.0 precision: 0.0\n",
      "0.393939393939 recall: 0.0 f1: 0.0 precision: 0.0\n",
      "0.40404040404 recall: 0.0 f1: 0.0 precision: 0.0\n",
      "0.414141414141 recall: 0.0 f1: 0.0 precision: 0.0\n",
      "0.424242424242 recall: 0.0 f1: 0.0 precision: 0.0\n",
      "0.434343434343 recall: 0.0 f1: 0.0 precision: 0.0\n",
      "0.444444444444 recall: 0.0 f1: 0.0 precision: 0.0\n",
      "0.454545454545 recall: 0.0 f1: 0.0 precision: 0.0\n",
      "0.464646464646 recall: 0.0 f1: 0.0 precision: 0.0\n",
      "0.474747474747 recall: 0.0 f1: 0.0 precision: 0.0\n",
      "0.484848484848 recall: 0.0 f1: 0.0 precision: 0.0\n",
      "0.494949494949 recall: 0.0 f1: 0.0 precision: 0.0\n",
      "0.505050505051 recall: 0.0 f1: 0.0 precision: 0.0\n",
      "0.515151515152 recall: 0.0 f1: 0.0 precision: 0.0\n",
      "0.525252525253 recall: 0.0 f1: 0.0 precision: 0.0\n",
      "0.535353535354 recall: 0.0 f1: 0.0 precision: 0.0\n",
      "0.545454545455 recall: 0.0 f1: 0.0 precision: 0.0\n",
      "0.555555555556 recall: 0.0 f1: 0.0 precision: 0.0\n",
      "0.565656565657 recall: 0.0 f1: 0.0 precision: 0.0\n",
      "0.575757575758 recall: 0.0 f1: 0.0 precision: 0.0\n",
      "0.585858585859 recall: 0.0 f1: 0.0 precision: 0.0\n",
      "0.59595959596 recall: 0.0 f1: 0.0 precision: 0.0\n",
      "0.606060606061 recall: 0.0 f1: 0.0 precision: 0.0\n",
      "0.616161616162 recall: 0.0 f1: 0.0 precision: 0.0\n",
      "0.626262626263 recall: 0.0 f1: 0.0 precision: 0.0\n",
      "0.636363636364 recall: 0.0 f1: 0.0 precision: 0.0\n",
      "0.646464646465 recall: 0.0 f1: 0.0 precision: 0.0\n",
      "0.656565656566 recall: 0.0 f1: 0.0 precision: 0.0\n",
      "0.666666666667 recall: 0.0 f1: 0.0 precision: 0.0\n",
      "0.676767676768 recall: 0.0 f1: 0.0 precision: 0.0\n",
      "0.686868686869 recall: 0.0 f1: 0.0 precision: 0.0\n",
      "0.69696969697 recall: 0.0 f1: 0.0 precision: 0.0\n",
      "0.707070707071 recall: 0.0 f1: 0.0 precision: 0.0\n",
      "0.717171717172 recall: 0.0 f1: 0.0 precision: 0.0\n",
      "0.727272727273 recall: 0.0 f1: 0.0 precision: 0.0\n",
      "0.737373737374 recall: 0.0 f1: 0.0 precision: 0.0\n",
      "0.747474747475 recall: 0.0 f1: 0.0 precision: 0.0\n",
      "0.757575757576 recall: 0.0 f1: 0.0 precision: 0.0\n",
      "0.767676767677 recall: 0.0 f1: 0.0 precision: 0.0\n",
      "0.777777777778 recall: 0.0 f1: 0.0 precision: 0.0\n",
      "0.787878787879 recall: 0.0 f1: 0.0 precision: 0.0\n",
      "0.79797979798 recall: 0.0 f1: 0.0 precision: 0.0\n",
      "0.808080808081 recall: 0.0 f1: 0.0 precision: 0.0\n",
      "0.818181818182 recall: 0.0 f1: 0.0 precision: 0.0\n",
      "0.828282828283 recall: 0.0 f1: 0.0 precision: 0.0\n",
      "0.838383838384 recall: 0.0 f1: 0.0 precision: 0.0\n",
      "0.848484848485 recall: 0.0 f1: 0.0 precision: 0.0\n",
      "0.858585858586 recall: 0.0 f1: 0.0 precision: 0.0\n",
      "0.868686868687 recall: 0.0 f1: 0.0 precision: 0.0\n",
      "0.878787878788 recall: 0.0212765957447 f1: 0.037037037037 precision: 0.142857142857\n",
      "0.888888888889 recall: 0.063829787234 f1: 0.1 precision: 0.230769230769\n",
      "0.89898989899 recall: 0.127659574468 f1: 0.15 precision: 0.181818181818\n",
      "0.909090909091 recall: 0.148936170213 f1: 0.135922330097 precision: 0.125\n",
      "0.919191919192 recall: 0.234042553191 f1: 0.149659863946 precision: 0.11\n",
      "0.929292929293 recall: 0.425531914894 f1: 0.168067226891 precision: 0.104712041885\n",
      "0.939393939394 recall: 0.553191489362 f1: 0.150289017341 precision: 0.0869565217391\n",
      "0.949494949495 recall: 0.744680851064 f1: 0.160550458716 precision: 0.0899742930591\n",
      "0.959595959596 recall: 0.744680851064 f1: 0.137795275591 precision: 0.0759219088937\n",
      "0.969696969697 recall: 0.744680851064 f1: 0.114942528736 precision: 0.0622775800712\n",
      "0.979797979798 recall: 0.787234042553 f1: 0.0971128608924 precision: 0.0517482517483\n",
      "0.989898989899 recall: 0.808510638298 f1: 0.0633861551293 precision: 0.0329861111111\n",
      "1.0 recall: 1.0 f1: 0.031746031746 precision: 0.0161290322581\n"
     ]
    },
    {
     "data": {
      "image/png": "[encoded data removed]",
      "text/plain": [
       "<matplotlib.figure.Figure at 0x115f4cad0>"
      ]
     },
     "metadata": {},
     "output_type": "display_data"
    }
   ],
   "source": [
    "t = pr(snippet_x, snippet_y, len(annotations) - snippet_count)"
   ]
  },
  {
   "cell_type": "code",
   "execution_count": 248,
   "metadata": {},
   "outputs": [
    {
     "data": {
      "text/plain": [
       "[<matplotlib.lines.Line2D at 0x1151baf90>]"
      ]
     },
     "execution_count": 248,
     "metadata": {},
     "output_type": "execute_result"
    },
    {
     "data": {
      "image/png": "[encoded data removed]",
      "text/plain": [
       "<matplotlib.figure.Figure at 0x1151bab50>"
      ]
     },
     "metadata": {},
     "output_type": "display_data"
    }
   ],
   "source": [
    "plt.plot(np.linspace(0, 1, 1000), t)"
   ]
  },
  {
   "cell_type": "code",
   "execution_count": 215,
   "metadata": {
    "collapsed": true
   },
   "outputs": [],
   "source": [
    " t[np.isinf(t)] = 0.0"
   ]
  },
  {
   "cell_type": "code",
   "execution_count": 229,
   "metadata": {},
   "outputs": [
    {
     "data": {
      "text/plain": [
       "77"
      ]
     },
     "execution_count": 229,
     "metadata": {},
     "output_type": "execute_result"
    }
   ],
   "source": [
    "np.argmax(t[:114])"
   ]
  },
  {
   "cell_type": "code",
   "execution_count": 230,
   "metadata": {},
   "outputs": [
    {
     "data": {
      "text/plain": [
       "0.077077077077077075"
      ]
     },
     "execution_count": 230,
     "metadata": {},
     "output_type": "execute_result"
    }
   ],
   "source": [
    "np.linspace(0, 1, 1000)[77]"
   ]
  },
  {
   "cell_type": "code",
   "execution_count": 217,
   "metadata": {},
   "outputs": [
    {
     "data": {
      "text/plain": [
       "nan"
      ]
     },
     "execution_count": 217,
     "metadata": {},
     "output_type": "execute_result"
    }
   ],
   "source": [
    "np.max(zip(t, np.linspace(0, 1, 1000)))"
   ]
  },
  {
   "cell_type": "code",
   "execution_count": 184,
   "metadata": {},
   "outputs": [
    {
     "data": {
      "text/plain": [
       "array([ 0.        ,  0.01010101,  0.02020202,  0.03030303,  0.04040404,\n",
       "        0.05050505,  0.06060606,  0.07070707,  0.08080808,  0.09090909,\n",
       "        0.1010101 ,  0.11111111,  0.12121212,  0.13131313,  0.14141414,\n",
       "        0.15151515,  0.16161616,  0.17171717,  0.18181818,  0.19191919,\n",
       "        0.2020202 ,  0.21212121,  0.22222222,  0.23232323,  0.24242424,\n",
       "        0.25252525,  0.26262626,  0.27272727,  0.28282828,  0.29292929,\n",
       "        0.3030303 ,  0.31313131,  0.32323232,  0.33333333,  0.34343434,\n",
       "        0.35353535,  0.36363636,  0.37373737,  0.38383838,  0.39393939,\n",
       "        0.4040404 ,  0.41414141,  0.42424242,  0.43434343,  0.44444444,\n",
       "        0.45454545,  0.46464646,  0.47474747,  0.48484848,  0.49494949,\n",
       "        0.50505051,  0.51515152,  0.52525253,  0.53535354,  0.54545455,\n",
       "        0.55555556,  0.56565657,  0.57575758,  0.58585859,  0.5959596 ,\n",
       "        0.60606061,  0.61616162,  0.62626263,  0.63636364,  0.64646465,\n",
       "        0.65656566,  0.66666667,  0.67676768,  0.68686869,  0.6969697 ,\n",
       "        0.70707071,  0.71717172,  0.72727273,  0.73737374,  0.74747475,\n",
       "        0.75757576,  0.76767677,  0.77777778,  0.78787879,  0.7979798 ,\n",
       "        0.80808081,  0.81818182,  0.82828283,  0.83838384,  0.84848485,\n",
       "        0.85858586,  0.86868687,  0.87878788,  0.88888889,  0.8989899 ,\n",
       "        0.90909091,  0.91919192,  0.92929293,  0.93939394,  0.94949495,\n",
       "        0.95959596,  0.96969697,  0.97979798,  0.98989899,  1.        ])"
      ]
     },
     "execution_count": 184,
     "metadata": {},
     "output_type": "execute_result"
    }
   ],
   "source": [
    "np.linspace(0, 1, 100)"
   ]
  },
  {
   "cell_type": "code",
   "execution_count": 260,
   "metadata": {},
   "outputs": [
    {
     "data": {
      "text/plain": [
       "153"
      ]
     },
     "execution_count": 260,
     "metadata": {},
     "output_type": "execute_result"
    }
   ],
   "source": [
    "sum(full_y)"
   ]
  },
  {
   "cell_type": "code",
   "execution_count": null,
   "metadata": {
    "collapsed": true
   },
   "outputs": [],
   "source": []
  }
 ],
 "metadata": {
  "kernelspec": {
   "display_name": "Python 2",
   "language": "python",
   "name": "python2"
  },
  "language_info": {
   "codemirror_mode": {
    "name": "ipython",
    "version": 2
   },
   "file_extension": ".py",
   "mimetype": "text/x-python",
   "name": "python",
   "nbconvert_exporter": "python",
   "pygments_lexer": "ipython2",
   "version": "2.7.13"
  }
 },
 "nbformat": 4,
 "nbformat_minor": 2
}
