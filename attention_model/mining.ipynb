{
 "cells": [
  {
   "cell_type": "code",
   "execution_count": 1,
   "metadata": {
    "collapsed": true
   },
   "outputs": [],
   "source": [
    "%matplotlib inline\n",
    "import matplotlib.pyplot as plt\n",
    "import numpy as np\n",
    "import mpld3\n",
    "\n",
    "mpld3.enable_notebook()"
   ]
  },
  {
   "cell_type": "code",
   "execution_count": 2,
   "metadata": {
    "collapsed": true
   },
   "outputs": [],
   "source": [
    "from pygments import highlight\n",
    "from pygments.lexers import PythonLexer\n",
    "from pygments.formatters import HtmlFormatter"
   ]
  },
  {
   "cell_type": "code",
   "execution_count": 3,
   "metadata": {
    "collapsed": true
   },
   "outputs": [],
   "source": [
    "from attention import load_model\n",
    "from vocab import tokenize_nl, load_vocabs, tok_type2id, START, END, UNK, SKIP_TOKENS\n",
    "from py2_tokenize import tokenize_code\n",
    "import dynet as dy\n",
    "import math\n",
    "from itertools import chain, combinations\n",
    "from asttokens import ASTTokens\n",
    "from copy import deepcopy\n",
    "from itertools import product\n",
    "import astor\n",
    "import ast\n",
    "from _ast import stmt, Pass, If, TryExcept, TryFinally"
   ]
  },
  {
   "cell_type": "code",
   "execution_count": 4,
   "metadata": {
    "collapsed": true
   },
   "outputs": [],
   "source": [
    "from tokenize import generate_tokens\n",
    "from cStringIO import StringIO"
   ]
  },
  {
   "cell_type": "code",
   "execution_count": 5,
   "metadata": {
    "collapsed": true
   },
   "outputs": [],
   "source": [
    "code2nl_model, code2nl_translator = load_model('code2nl_0423084553_model_dmp')\n",
    "nl2code_model, nl2code_translator = load_model('nl2code_0423084559_model_dmp')"
   ]
  },
  {
   "cell_type": "code",
   "execution_count": 6,
   "metadata": {},
   "outputs": [],
   "source": [
    "nl_voc2wid, nl_wid2voc, code_voc2wid, code_wid2voc = load_vocabs('./vocab.dmp')"
   ]
  },
  {
   "cell_type": "code",
   "execution_count": 7,
   "metadata": {
    "collapsed": true
   },
   "outputs": [],
   "source": [
    "def lookup_nl(seqs):\n",
    "    return [[(START,)] + map(lambda w:(nl_voc2wid[w],), seq) + [(END,)] for seq in seqs]"
   ]
  },
  {
   "cell_type": "code",
   "execution_count": 8,
   "metadata": {
    "collapsed": true
   },
   "outputs": [],
   "source": [
    "def lookup_code(seqs):\n",
    "    return [[(0, START)] + map(lambda w:(tok_type2id[w[0]], nl_voc2wid[w[1]]), seq) + [(0, END)] for seq in seqs]"
   ]
  },
  {
   "cell_type": "code",
   "execution_count": 9,
   "metadata": {
    "collapsed": true
   },
   "outputs": [],
   "source": [
    "def lookup_code(seqs):\n",
    "    return [[(0, START)] + map(lambda w:(w[0], nl_voc2wid[w[1]]), seq) + [(0, END)] for seq in seqs]"
   ]
  },
  {
   "cell_type": "code",
   "execution_count": 10,
   "metadata": {
    "collapsed": true
   },
   "outputs": [],
   "source": [
    "def bi_likelihood(nl, code):\n",
    "    dy.renew_cg()\n",
    "    nl = tokenize_nl(nl)\n",
    "    code = [(token_type, token_literal) for token_type, token_literal in tokenize_code(code) if token_type not in SKIP_TOKENS]\n",
    "    nl = lookup_nl([nl])\n",
    "    code = lookup_code([code])\n",
    "    nl2code_prob = nl2code_translator.calc_loss(nl, code, training=False)\n",
    "    code2nl_prob = code2nl_translator.calc_loss(code, nl, training=False)\n",
    "    return (nl2code_prob.value() / sum(map(len, code)), code2nl_prob.value() / sum(map(len, nl)))"
   ]
  },
  {
   "cell_type": "code",
   "execution_count": 11,
   "metadata": {
    "collapsed": true
   },
   "outputs": [],
   "source": [
    "def powerset(iterable):\n",
    "    s = list(iterable)\n",
    "    return chain.from_iterable(combinations(s, r) for r in range(len(s)+1))"
   ]
  },
  {
   "cell_type": "code",
   "execution_count": 12,
   "metadata": {
    "collapsed": true
   },
   "outputs": [],
   "source": [
    "def subsets(s):\n",
    "    return map(list, powerset(s))"
   ]
  },
  {
   "cell_type": "code",
   "execution_count": 13,
   "metadata": {
    "collapsed": true
   },
   "outputs": [],
   "source": [
    "def sub_snippets(code_snippet):\n",
    "    tree = ast.parse(code_snippet)\n",
    "    \n",
    "    def _subs(node, name=None):\n",
    "        if isinstance(node, ast.AST):\n",
    "            field_values = []\n",
    "            field_names = []\n",
    "            for subname, subnode in ast.iter_fields(node):\n",
    "                subvalues = list(_subs(subnode, subname))\n",
    "                if len(subvalues) > 0:\n",
    "                    field_names.append(subname)\n",
    "                    field_values.append(subvalues)\n",
    "            count = 0\n",
    "            for values in product(*field_values):\n",
    "                newnode = deepcopy(node)\n",
    "                for name, value in zip(field_names, values):\n",
    "                    setattr(newnode, name, value)\n",
    "                count += 1\n",
    "                if isinstance(newnode, If) and len(newnode.orelse) == 0 and isinstance(newnode.body[0], Pass):\n",
    "                    yield newnode.test\n",
    "                    continue\n",
    "                if isinstance(newnode, TryExcept) and len(newnode.orelse) == 0 and isinstance(newnode.body[0], Pass):\n",
    "                    continue\n",
    "                if isinstance(newnode, TryFinally) and isinstance(newnode.body[0], Pass) and isinstance(newnode.finalbody[0], Pass):\n",
    "                    continue\n",
    "                yield newnode\n",
    "            if count == 0:\n",
    "                yield node\n",
    "        elif isinstance(node, list):\n",
    "            if len(node) == 0:\n",
    "                yield node\n",
    "                return\n",
    "            values = [list(_subs(x)) for x in node]\n",
    "            stat_count = len(node)\n",
    "            for subset in subsets(range(stat_count)) if isinstance(node[0], stmt) else [range(stat_count)]:\n",
    "                if stat_count >= len(subset) > 0:\n",
    "                    for stat_list in product(*map(lambda x:values[x], subset)):\n",
    "                        yield list(stat_list)\n",
    "                else:\n",
    "                    if name in ('body', 'finalbody') and len(node) > 0:\n",
    "                        yield [ast.parse(\"pass\").body[0]]\n",
    "                    if name == 'orelse':\n",
    "                        yield []\n",
    "        else:\n",
    "            yield node\n",
    "    \n",
    "    sub_snippet_set = set()\n",
    "    \n",
    "    for node in _subs(tree):\n",
    "        sub_snippet_set.add(astor.to_source(node))\n",
    "    \n",
    "    return sub_snippet_set"
   ]
  },
  {
   "cell_type": "code",
   "execution_count": 32,
   "metadata": {
    "collapsed": true
   },
   "outputs": [],
   "source": [
    "def sub_contiguous_snippets(code_snippet):\n",
    "    tokens = [token for _, token, _, _, _  in generate_tokens(StringIO(code_snippet).readline) if token]\n",
    "    sub_snippet_set = set()\n",
    "    for i in range(len(tokens)):\n",
    "        for j in range(i+1, len(tokens)+1):\n",
    "            con_tokens = tokens[i:j]\n",
    "            if con_tokens[-1] == ':':\n",
    "                con_tokens.append('pass')\n",
    "            sub_snippet = ''.join(con_tokens)\n",
    "            try:\n",
    "                root = ast.parse(sub_snippet)\n",
    "                sub_snippet_set.add(astor.to_source(root))\n",
    "            except:\n",
    "                pass\n",
    "    return [code for code in sub_snippet_set if code]"
   ]
  },
  {
   "cell_type": "code",
   "execution_count": 15,
   "metadata": {
    "collapsed": true
   },
   "outputs": [],
   "source": [
    "def getHtml(code):\n",
    "    formatter = HtmlFormatter(linenos=True)\n",
    "    return highlight(code, PythonLexer(), formatter)"
   ]
  },
  {
   "cell_type": "code",
   "execution_count": 16,
   "metadata": {
    "collapsed": true
   },
   "outputs": [],
   "source": [
    "def visiualize(nl, snippets, likelihoods):\n",
    "    fig, ax = plt.subplots(subplot_kw=dict(axisbg='#EEEEEE'), figsize=(10,5))\n",
    "    ax.set_xlabel('P ( Snippet | Intent )')\n",
    "    ax.set_ylabel('P ( Intent | Snippet )')\n",
    "    ax.set_title(nl)\n",
    "    n2c, c2n = map(list, zip(*likelihoods))\n",
    "    scatter = ax.scatter(n2c,\n",
    "                         c2n,\n",
    "                         alpha=0.3,\n",
    "                         cmap=plt.cm.jet)\n",
    "    ax.grid(color='white', linestyle='solid')\n",
    "    css = HtmlFormatter().get_style_defs('.highlight')\n",
    "    labels = map(lambda x:getHtml('#nl2code: %f\\n#code2nl: %f\\n%s' % (x[0][0], x[0][1], x[1])), zip(likelihoods, snippets))\n",
    "    tooltip = mpld3.plugins.PointHTMLTooltip(scatter, labels, css=css)\n",
    "    mpld3.plugins.connect(fig, tooltip)\n",
    "    return mpld3.display()"
   ]
  },
  {
   "cell_type": "code",
   "execution_count": 17,
   "metadata": {
    "collapsed": true
   },
   "outputs": [],
   "source": [
    "#http://162.243.20.48:7788/post/306400\n",
    "nl = '''How do I randomly select an item from a list using Python?'''\n",
    "code = '''import random\n",
    "\n",
    "foo = ['a', 'b', 'c', 'd', 'e']\n",
    "print(random.choice(foo))'''"
   ]
  },
  {
   "cell_type": "code",
   "execution_count": 18,
   "metadata": {
    "collapsed": true
   },
   "outputs": [],
   "source": [
    "#http://162.243.20.48:7788/post/120656\n",
    "nl = '''Directory listing in Python'''\n",
    "code = '''import os\n",
    "from os import listdir\n",
    "\n",
    "for filename in os.listdir(\"C:\\\\temp\"):\n",
    "    print  filename'''"
   ]
  },
  {
   "cell_type": "code",
   "execution_count": 19,
   "metadata": {
    "collapsed": true
   },
   "outputs": [],
   "source": [
    "#https://stackoverflow.com/questions/610883/how-to-know-if-an-object-has-an-attribute-in-python\n",
    "nl = '''How to know if an object has an attribute in Python'''\n",
    "code = '''if hasattr(a, 'property'):\n",
    "    a.property'''"
   ]
  },
  {
   "cell_type": "code",
   "execution_count": 20,
   "metadata": {
    "collapsed": true
   },
   "outputs": [],
   "source": [
    "#https://stackoverflow.com/questions/610883/how-to-know-if-an-object-has-an-attribute-in-python\n",
    "nl = '''How to know if an object has an attribute in Python'''\n",
    "code = '''if hasattr(a, 'property'):\n",
    "    doStuff(a.property)\n",
    "else:\n",
    "    otherStuff()'''"
   ]
  },
  {
   "cell_type": "code",
   "execution_count": 29,
   "metadata": {
    "collapsed": true
   },
   "outputs": [],
   "source": [
    "#http://162.243.20.48:7788/post/306400\n",
    "nl = '''Getting the length of an array in Python'''\n",
    "code = '''my_list = [1,2,3,4,5]\n",
    "print 'test'\n",
    "len(my_list)'''"
   ]
  },
  {
   "cell_type": "code",
   "execution_count": 30,
   "metadata": {
    "collapsed": true
   },
   "outputs": [],
   "source": [
    "snippets = list(sub_snippets(code))\n",
    "likelihoods = [bi_likelihood(nl, code) for code in snippets]"
   ]
  },
  {
   "cell_type": "code",
   "execution_count": 31,
   "metadata": {},
   "outputs": [
    {
     "data": {
      "text/html": [
       "\n",
       "\n",
       "<style>\n",
       ".highlight .hll { background-color: #ffffcc }\n",
       ".highlight  { background: #f8f8f8; }\n",
       ".highlight .c { color: #408080; font-style: italic } /* Comment */\n",
       ".highlight .err { border: 1px solid #FF0000 } /* Error */\n",
       ".highlight .k { color: #008000; font-weight: bold } /* Keyword */\n",
       ".highlight .o { color: #666666 } /* Operator */\n",
       ".highlight .ch { color: #408080; font-style: italic } /* Comment.Hashbang */\n",
       ".highlight .cm { color: #408080; font-style: italic } /* Comment.Multiline */\n",
       ".highlight .cp { color: #BC7A00 } /* Comment.Preproc */\n",
       ".highlight .cpf { color: #408080; font-style: italic } /* Comment.PreprocFile */\n",
       ".highlight .c1 { color: #408080; font-style: italic } /* Comment.Single */\n",
       ".highlight .cs { color: #408080; font-style: italic } /* Comment.Special */\n",
       ".highlight .gd { color: #A00000 } /* Generic.Deleted */\n",
       ".highlight .ge { font-style: italic } /* Generic.Emph */\n",
       ".highlight .gr { color: #FF0000 } /* Generic.Error */\n",
       ".highlight .gh { color: #000080; font-weight: bold } /* Generic.Heading */\n",
       ".highlight .gi { color: #00A000 } /* Generic.Inserted */\n",
       ".highlight .go { color: #888888 } /* Generic.Output */\n",
       ".highlight .gp { color: #000080; font-weight: bold } /* Generic.Prompt */\n",
       ".highlight .gs { font-weight: bold } /* Generic.Strong */\n",
       ".highlight .gu { color: #800080; font-weight: bold } /* Generic.Subheading */\n",
       ".highlight .gt { color: #0044DD } /* Generic.Traceback */\n",
       ".highlight .kc { color: #008000; font-weight: bold } /* Keyword.Constant */\n",
       ".highlight .kd { color: #008000; font-weight: bold } /* Keyword.Declaration */\n",
       ".highlight .kn { color: #008000; font-weight: bold } /* Keyword.Namespace */\n",
       ".highlight .kp { color: #008000 } /* Keyword.Pseudo */\n",
       ".highlight .kr { color: #008000; font-weight: bold } /* Keyword.Reserved */\n",
       ".highlight .kt { color: #B00040 } /* Keyword.Type */\n",
       ".highlight .m { color: #666666 } /* Literal.Number */\n",
       ".highlight .s { color: #BA2121 } /* Literal.String */\n",
       ".highlight .na { color: #7D9029 } /* Name.Attribute */\n",
       ".highlight .nb { color: #008000 } /* Name.Builtin */\n",
       ".highlight .nc { color: #0000FF; font-weight: bold } /* Name.Class */\n",
       ".highlight .no { color: #880000 } /* Name.Constant */\n",
       ".highlight .nd { color: #AA22FF } /* Name.Decorator */\n",
       ".highlight .ni { color: #999999; font-weight: bold } /* Name.Entity */\n",
       ".highlight .ne { color: #D2413A; font-weight: bold } /* Name.Exception */\n",
       ".highlight .nf { color: #0000FF } /* Name.Function */\n",
       ".highlight .nl { color: #A0A000 } /* Name.Label */\n",
       ".highlight .nn { color: #0000FF; font-weight: bold } /* Name.Namespace */\n",
       ".highlight .nt { color: #008000; font-weight: bold } /* Name.Tag */\n",
       ".highlight .nv { color: #19177C } /* Name.Variable */\n",
       ".highlight .ow { color: #AA22FF; font-weight: bold } /* Operator.Word */\n",
       ".highlight .w { color: #bbbbbb } /* Text.Whitespace */\n",
       ".highlight .mb { color: #666666 } /* Literal.Number.Bin */\n",
       ".highlight .mf { color: #666666 } /* Literal.Number.Float */\n",
       ".highlight .mh { color: #666666 } /* Literal.Number.Hex */\n",
       ".highlight .mi { color: #666666 } /* Literal.Number.Integer */\n",
       ".highlight .mo { color: #666666 } /* Literal.Number.Oct */\n",
       ".highlight .sa { color: #BA2121 } /* Literal.String.Affix */\n",
       ".highlight .sb { color: #BA2121 } /* Literal.String.Backtick */\n",
       ".highlight .sc { color: #BA2121 } /* Literal.String.Char */\n",
       ".highlight .dl { color: #BA2121 } /* Literal.String.Delimiter */\n",
       ".highlight .sd { color: #BA2121; font-style: italic } /* Literal.String.Doc */\n",
       ".highlight .s2 { color: #BA2121 } /* Literal.String.Double */\n",
       ".highlight .se { color: #BB6622; font-weight: bold } /* Literal.String.Escape */\n",
       ".highlight .sh { color: #BA2121 } /* Literal.String.Heredoc */\n",
       ".highlight .si { color: #BB6688; font-weight: bold } /* Literal.String.Interpol */\n",
       ".highlight .sx { color: #008000 } /* Literal.String.Other */\n",
       ".highlight .sr { color: #BB6688 } /* Literal.String.Regex */\n",
       ".highlight .s1 { color: #BA2121 } /* Literal.String.Single */\n",
       ".highlight .ss { color: #19177C } /* Literal.String.Symbol */\n",
       ".highlight .bp { color: #008000 } /* Name.Builtin.Pseudo */\n",
       ".highlight .fm { color: #0000FF } /* Name.Function.Magic */\n",
       ".highlight .vc { color: #19177C } /* Name.Variable.Class */\n",
       ".highlight .vg { color: #19177C } /* Name.Variable.Global */\n",
       ".highlight .vi { color: #19177C } /* Name.Variable.Instance */\n",
       ".highlight .vm { color: #19177C } /* Name.Variable.Magic */\n",
       ".highlight .il { color: #666666 } /* Literal.Number.Integer.Long */\n",
       "</style>\n",
       "\n",
       "<div id=\"fig_el2805346940863522008539274\"></div>\n",
       "<script>\n",
       "function mpld3_load_lib(url, callback){\n",
       "  var s = document.createElement('script');\n",
       "  s.src = url;\n",
       "  s.async = true;\n",
       "  s.onreadystatechange = s.onload = callback;\n",
       "  s.onerror = function(){console.warn(\"failed to load library \" + url);};\n",
       "  document.getElementsByTagName(\"head\")[0].appendChild(s);\n",
       "}\n",
       "\n",
       "if(typeof(mpld3) !== \"undefined\" && mpld3._mpld3IsLoaded){\n",
       "   // already loaded: just create the figure\n",
       "   !function(mpld3){\n",
       "       \n",
       "    mpld3.register_plugin(\"htmltooltip\", HtmlTooltipPlugin);\n",
       "    HtmlTooltipPlugin.prototype = Object.create(mpld3.Plugin.prototype);\n",
       "    HtmlTooltipPlugin.prototype.constructor = HtmlTooltipPlugin;\n",
       "    HtmlTooltipPlugin.prototype.requiredProps = [\"id\"];\n",
       "    HtmlTooltipPlugin.prototype.defaultProps = {labels:null,\n",
       "                                                hoffset:0,\n",
       "                                                voffset:10};\n",
       "    function HtmlTooltipPlugin(fig, props){\n",
       "        mpld3.Plugin.call(this, fig, props);\n",
       "    };\n",
       "\n",
       "    HtmlTooltipPlugin.prototype.draw = function(){\n",
       "       var obj = mpld3.get_element(this.props.id);\n",
       "       var labels = this.props.labels;\n",
       "       var tooltip = d3.select(\"body\").append(\"div\")\n",
       "                    .attr(\"class\", \"mpld3-tooltip\")\n",
       "                    .style(\"position\", \"absolute\")\n",
       "                    .style(\"z-index\", \"10\")\n",
       "                    .style(\"visibility\", \"hidden\");\n",
       "\n",
       "       obj.elements()\n",
       "           .on(\"mouseover\", function(d, i){\n",
       "                              tooltip.html(labels[i])\n",
       "                                     .style(\"visibility\", \"visible\");})\n",
       "           .on(\"mousemove\", function(d, i){\n",
       "                  tooltip\n",
       "                    .style(\"top\", d3.event.pageY + this.props.voffset + \"px\")\n",
       "                    .style(\"left\",d3.event.pageX + this.props.hoffset + \"px\");\n",
       "                 }.bind(this))\n",
       "           .on(\"mouseout\",  function(d, i){\n",
       "                           tooltip.style(\"visibility\", \"hidden\");});\n",
       "    };\n",
       "    \n",
       "       mpld3.draw_figure(\"fig_el2805346940863522008539274\", {\"axes\": [{\"xlim\": [7.644604486547491, 13.682672696985223], \"yscale\": \"linear\", \"axesbg\": \"#EEEEEE\", \"texts\": [{\"v_baseline\": \"hanging\", \"h_anchor\": \"middle\", \"color\": \"#000000\", \"text\": \"P ( Snippet | Intent )\", \"coordinates\": \"axes\", \"zorder\": 3, \"alpha\": 1, \"fontsize\": 10.0, \"position\": [0.5, -0.0772626931567329], \"rotation\": -0.0, \"id\": \"el280534691340240\"}, {\"v_baseline\": \"auto\", \"h_anchor\": \"middle\", \"color\": \"#000000\", \"text\": \"P ( Intent | Snippet )\", \"coordinates\": \"axes\", \"zorder\": 3, \"alpha\": 1, \"fontsize\": 10.0, \"position\": [-0.05981182795698925, 0.5], \"rotation\": -90.0, \"id\": \"el280534691249040\"}, {\"v_baseline\": \"auto\", \"h_anchor\": \"middle\", \"color\": \"#000000\", \"text\": \"Getting the length of an array in Python\", \"coordinates\": \"axes\", \"zorder\": 3, \"alpha\": 1, \"fontsize\": 12.0, \"position\": [0.5, 1.0220750551876379], \"rotation\": -0.0, \"id\": \"el280534691632720\"}], \"zoomable\": true, \"images\": [], \"xdomain\": [7.644604486547491, 13.682672696985223], \"ylim\": [1.7458080528377173, 2.15471379774822], \"paths\": [], \"sharey\": [], \"sharex\": [], \"axesbgalpha\": null, \"axes\": [{\"scale\": \"linear\", \"tickformat\": null, \"grid\": {\"color\": \"#FFFFFF\", \"alpha\": 1.0, \"dasharray\": \"none\", \"gridOn\": true}, \"visible\": true, \"fontsize\": 10.0, \"position\": \"bottom\", \"nticks\": 8, \"tickvalues\": null}, {\"scale\": \"linear\", \"tickformat\": null, \"grid\": {\"color\": \"#FFFFFF\", \"alpha\": 1.0, \"dasharray\": \"none\", \"gridOn\": true}, \"visible\": true, \"fontsize\": 10.0, \"position\": \"left\", \"nticks\": 11, \"tickvalues\": null}], \"lines\": [], \"markers\": [], \"id\": \"el280534690979408\", \"ydomain\": [1.7458080528377173, 2.15471379774822], \"collections\": [{\"paths\": [[[[0.0, -0.5], [0.13260155, -0.5], [0.25978993539242673, -0.44731684579412084], [0.3535533905932738, -0.3535533905932738], [0.44731684579412084, -0.25978993539242673], [0.5, -0.13260155], [0.5, 0.0], [0.5, 0.13260155], [0.44731684579412084, 0.25978993539242673], [0.3535533905932738, 0.3535533905932738], [0.25978993539242673, 0.44731684579412084], [0.13260155, 0.5], [0.0, 0.5], [-0.13260155, 0.5], [-0.25978993539242673, 0.44731684579412084], [-0.3535533905932738, 0.3535533905932738], [-0.44731684579412084, 0.25978993539242673], [-0.5, 0.13260155], [-0.5, 0.0], [-0.5, -0.13260155], [-0.44731684579412084, -0.25978993539242673], [-0.3535533905932738, -0.3535533905932738], [-0.25978993539242673, -0.44731684579412084], [-0.13260155, -0.5], [0.0, -0.5]], [\"M\", \"C\", \"C\", \"C\", \"C\", \"C\", \"C\", \"C\", \"C\", \"Z\"]]], \"edgecolors\": [\"#1F77B4\"], \"edgewidths\": [1.0], \"offsets\": \"data01\", \"yindex\": 1, \"id\": \"el280534691528784\", \"pathtransforms\": [[6.0, 0.0, 0.0, 6.0, 0.0, 0.0]], \"pathcoordinates\": \"display\", \"offsetcoordinates\": \"data\", \"zorder\": 1, \"xindex\": 0, \"alphas\": [0.3], \"facecolors\": [\"#1F77B4\"]}], \"xscale\": \"linear\", \"bbox\": [0.125, 0.125, 0.775, 0.755]}], \"height\": 360.0, \"width\": 720.0, \"plugins\": [{\"type\": \"reset\"}, {\"enabled\": false, \"button\": true, \"type\": \"zoom\"}, {\"enabled\": false, \"button\": true, \"type\": \"boxzoom\"}, {\"voffset\": 10, \"labels\": [\"<table class=\\\"highlighttable\\\"><tr><td class=\\\"linenos\\\"><div class=\\\"linenodiv\\\"><pre>1\\n2\\n3\\n4\\n5</pre></div></td><td class=\\\"code\\\"><div class=\\\"highlight\\\"><pre><span></span><span class=\\\"c1\\\">#nl2code: 9.752594</span>\\n<span class=\\\"c1\\\">#code2nl: 1.796191</span>\\n<span class=\\\"n\\\">my_list</span> <span class=\\\"o\\\">=</span> <span class=\\\"p\\\">[</span><span class=\\\"mi\\\">1</span><span class=\\\"p\\\">,</span> <span class=\\\"mi\\\">2</span><span class=\\\"p\\\">,</span> <span class=\\\"mi\\\">3</span><span class=\\\"p\\\">,</span> <span class=\\\"mi\\\">4</span><span class=\\\"p\\\">,</span> <span class=\\\"mi\\\">5</span><span class=\\\"p\\\">]</span>\\n<span class=\\\"k\\\">print</span> <span class=\\\"s1\\\">&#39;test&#39;</span>\\n<span class=\\\"nb\\\">len</span><span class=\\\"p\\\">(</span><span class=\\\"n\\\">my_list</span><span class=\\\"p\\\">)</span>\\n</pre></div>\\n</td></tr></table>\", \"<table class=\\\"highlighttable\\\"><tr><td class=\\\"linenos\\\"><div class=\\\"linenodiv\\\"><pre>1\\n2\\n3\\n4</pre></div></td><td class=\\\"code\\\"><div class=\\\"highlight\\\"><pre><span></span><span class=\\\"c1\\\">#nl2code: 7.924438</span>\\n<span class=\\\"c1\\\">#code2nl: 1.775432</span>\\n<span class=\\\"n\\\">my_list</span> <span class=\\\"o\\\">=</span> <span class=\\\"p\\\">[</span><span class=\\\"mi\\\">1</span><span class=\\\"p\\\">,</span> <span class=\\\"mi\\\">2</span><span class=\\\"p\\\">,</span> <span class=\\\"mi\\\">3</span><span class=\\\"p\\\">,</span> <span class=\\\"mi\\\">4</span><span class=\\\"p\\\">,</span> <span class=\\\"mi\\\">5</span><span class=\\\"p\\\">]</span>\\n<span class=\\\"k\\\">print</span> <span class=\\\"s1\\\">&#39;test&#39;</span>\\n</pre></div>\\n</td></tr></table>\", \"<table class=\\\"highlighttable\\\"><tr><td class=\\\"linenos\\\"><div class=\\\"linenodiv\\\"><pre>1\\n2\\n3</pre></div></td><td class=\\\"code\\\"><div class=\\\"highlight\\\"><pre><span></span><span class=\\\"c1\\\">#nl2code: 13.402839</span>\\n<span class=\\\"c1\\\">#code2nl: 1.831708</span>\\n<span class=\\\"nb\\\">len</span><span class=\\\"p\\\">(</span><span class=\\\"n\\\">my_list</span><span class=\\\"p\\\">)</span>\\n</pre></div>\\n</td></tr></table>\", \"<table class=\\\"highlighttable\\\"><tr><td class=\\\"linenos\\\"><div class=\\\"linenodiv\\\"><pre>1\\n2\\n3</pre></div></td><td class=\\\"code\\\"><div class=\\\"highlight\\\"><pre><span></span><span class=\\\"c1\\\">#nl2code: 8.653576</span>\\n<span class=\\\"c1\\\">#code2nl: 1.995346</span>\\n<span class=\\\"k\\\">print</span> <span class=\\\"s1\\\">&#39;test&#39;</span>\\n</pre></div>\\n</td></tr></table>\", \"<table class=\\\"highlighttable\\\"><tr><td class=\\\"linenos\\\"><div class=\\\"linenodiv\\\"><pre>1\\n2\\n3</pre></div></td><td class=\\\"code\\\"><div class=\\\"highlight\\\"><pre><span></span><span class=\\\"c1\\\">#nl2code: 10.239498</span>\\n<span class=\\\"c1\\\">#code2nl: 2.125090</span>\\n<span class=\\\"k\\\">pass</span>\\n</pre></div>\\n</td></tr></table>\", \"<table class=\\\"highlighttable\\\"><tr><td class=\\\"linenos\\\"><div class=\\\"linenodiv\\\"><pre>1\\n2\\n3</pre></div></td><td class=\\\"code\\\"><div class=\\\"highlight\\\"><pre><span></span><span class=\\\"c1\\\">#nl2code: 7.953687</span>\\n<span class=\\\"c1\\\">#code2nl: 1.813400</span>\\n<span class=\\\"n\\\">my_list</span> <span class=\\\"o\\\">=</span> <span class=\\\"p\\\">[</span><span class=\\\"mi\\\">1</span><span class=\\\"p\\\">,</span> <span class=\\\"mi\\\">2</span><span class=\\\"p\\\">,</span> <span class=\\\"mi\\\">3</span><span class=\\\"p\\\">,</span> <span class=\\\"mi\\\">4</span><span class=\\\"p\\\">,</span> <span class=\\\"mi\\\">5</span><span class=\\\"p\\\">]</span>\\n</pre></div>\\n</td></tr></table>\", \"<table class=\\\"highlighttable\\\"><tr><td class=\\\"linenos\\\"><div class=\\\"linenodiv\\\"><pre>1\\n2\\n3\\n4</pre></div></td><td class=\\\"code\\\"><div class=\\\"highlight\\\"><pre><span></span><span class=\\\"c1\\\">#nl2code: 12.850683</span>\\n<span class=\\\"c1\\\">#code2nl: 1.836693</span>\\n<span class=\\\"k\\\">print</span> <span class=\\\"s1\\\">&#39;test&#39;</span>\\n<span class=\\\"nb\\\">len</span><span class=\\\"p\\\">(</span><span class=\\\"n\\\">my_list</span><span class=\\\"p\\\">)</span>\\n</pre></div>\\n</td></tr></table>\", \"<table class=\\\"highlighttable\\\"><tr><td class=\\\"linenos\\\"><div class=\\\"linenodiv\\\"><pre>1\\n2\\n3\\n4</pre></div></td><td class=\\\"code\\\"><div class=\\\"highlight\\\"><pre><span></span><span class=\\\"c1\\\">#nl2code: 9.914488</span>\\n<span class=\\\"c1\\\">#code2nl: 1.829549</span>\\n<span class=\\\"n\\\">my_list</span> <span class=\\\"o\\\">=</span> <span class=\\\"p\\\">[</span><span class=\\\"mi\\\">1</span><span class=\\\"p\\\">,</span> <span class=\\\"mi\\\">2</span><span class=\\\"p\\\">,</span> <span class=\\\"mi\\\">3</span><span class=\\\"p\\\">,</span> <span class=\\\"mi\\\">4</span><span class=\\\"p\\\">,</span> <span class=\\\"mi\\\">5</span><span class=\\\"p\\\">]</span>\\n<span class=\\\"nb\\\">len</span><span class=\\\"p\\\">(</span><span class=\\\"n\\\">my_list</span><span class=\\\"p\\\">)</span>\\n</pre></div>\\n</td></tr></table>\"], \"type\": \"htmltooltip\", \"id\": \"el280534691528784\", \"hoffset\": 0}], \"data\": {\"data01\": [[9.752593994140625, 1.7961910247802735], [7.9244384765625, 1.7754322052001954], [13.402838706970215, 1.8317081451416015], [8.653575897216797, 1.995346450805664], [10.239498138427734, 2.125089645385742], [7.953686882467831, 1.813399887084961], [12.850683038884943, 1.8366928100585938], [9.914488474527994, 1.8295490264892578]]}, \"id\": \"el280534694086352\"});\n",
       "   }(mpld3);\n",
       "}else if(typeof define === \"function\" && define.amd){\n",
       "   // require.js is available: use it to load d3/mpld3\n",
       "   require.config({paths: {d3: \"https://mpld3.github.io/js/d3.v3.min\"}});\n",
       "   require([\"d3\"], function(d3){\n",
       "      window.d3 = d3;\n",
       "      mpld3_load_lib(\"https://mpld3.github.io/js/mpld3.v0.3.js\", function(){\n",
       "         \n",
       "    mpld3.register_plugin(\"htmltooltip\", HtmlTooltipPlugin);\n",
       "    HtmlTooltipPlugin.prototype = Object.create(mpld3.Plugin.prototype);\n",
       "    HtmlTooltipPlugin.prototype.constructor = HtmlTooltipPlugin;\n",
       "    HtmlTooltipPlugin.prototype.requiredProps = [\"id\"];\n",
       "    HtmlTooltipPlugin.prototype.defaultProps = {labels:null,\n",
       "                                                hoffset:0,\n",
       "                                                voffset:10};\n",
       "    function HtmlTooltipPlugin(fig, props){\n",
       "        mpld3.Plugin.call(this, fig, props);\n",
       "    };\n",
       "\n",
       "    HtmlTooltipPlugin.prototype.draw = function(){\n",
       "       var obj = mpld3.get_element(this.props.id);\n",
       "       var labels = this.props.labels;\n",
       "       var tooltip = d3.select(\"body\").append(\"div\")\n",
       "                    .attr(\"class\", \"mpld3-tooltip\")\n",
       "                    .style(\"position\", \"absolute\")\n",
       "                    .style(\"z-index\", \"10\")\n",
       "                    .style(\"visibility\", \"hidden\");\n",
       "\n",
       "       obj.elements()\n",
       "           .on(\"mouseover\", function(d, i){\n",
       "                              tooltip.html(labels[i])\n",
       "                                     .style(\"visibility\", \"visible\");})\n",
       "           .on(\"mousemove\", function(d, i){\n",
       "                  tooltip\n",
       "                    .style(\"top\", d3.event.pageY + this.props.voffset + \"px\")\n",
       "                    .style(\"left\",d3.event.pageX + this.props.hoffset + \"px\");\n",
       "                 }.bind(this))\n",
       "           .on(\"mouseout\",  function(d, i){\n",
       "                           tooltip.style(\"visibility\", \"hidden\");});\n",
       "    };\n",
       "    \n",
       "         mpld3.draw_figure(\"fig_el2805346940863522008539274\", {\"axes\": [{\"xlim\": [7.644604486547491, 13.682672696985223], \"yscale\": \"linear\", \"axesbg\": \"#EEEEEE\", \"texts\": [{\"v_baseline\": \"hanging\", \"h_anchor\": \"middle\", \"color\": \"#000000\", \"text\": \"P ( Snippet | Intent )\", \"coordinates\": \"axes\", \"zorder\": 3, \"alpha\": 1, \"fontsize\": 10.0, \"position\": [0.5, -0.0772626931567329], \"rotation\": -0.0, \"id\": \"el280534691340240\"}, {\"v_baseline\": \"auto\", \"h_anchor\": \"middle\", \"color\": \"#000000\", \"text\": \"P ( Intent | Snippet )\", \"coordinates\": \"axes\", \"zorder\": 3, \"alpha\": 1, \"fontsize\": 10.0, \"position\": [-0.05981182795698925, 0.5], \"rotation\": -90.0, \"id\": \"el280534691249040\"}, {\"v_baseline\": \"auto\", \"h_anchor\": \"middle\", \"color\": \"#000000\", \"text\": \"Getting the length of an array in Python\", \"coordinates\": \"axes\", \"zorder\": 3, \"alpha\": 1, \"fontsize\": 12.0, \"position\": [0.5, 1.0220750551876379], \"rotation\": -0.0, \"id\": \"el280534691632720\"}], \"zoomable\": true, \"images\": [], \"xdomain\": [7.644604486547491, 13.682672696985223], \"ylim\": [1.7458080528377173, 2.15471379774822], \"paths\": [], \"sharey\": [], \"sharex\": [], \"axesbgalpha\": null, \"axes\": [{\"scale\": \"linear\", \"tickformat\": null, \"grid\": {\"color\": \"#FFFFFF\", \"alpha\": 1.0, \"dasharray\": \"none\", \"gridOn\": true}, \"visible\": true, \"fontsize\": 10.0, \"position\": \"bottom\", \"nticks\": 8, \"tickvalues\": null}, {\"scale\": \"linear\", \"tickformat\": null, \"grid\": {\"color\": \"#FFFFFF\", \"alpha\": 1.0, \"dasharray\": \"none\", \"gridOn\": true}, \"visible\": true, \"fontsize\": 10.0, \"position\": \"left\", \"nticks\": 11, \"tickvalues\": null}], \"lines\": [], \"markers\": [], \"id\": \"el280534690979408\", \"ydomain\": [1.7458080528377173, 2.15471379774822], \"collections\": [{\"paths\": [[[[0.0, -0.5], [0.13260155, -0.5], [0.25978993539242673, -0.44731684579412084], [0.3535533905932738, -0.3535533905932738], [0.44731684579412084, -0.25978993539242673], [0.5, -0.13260155], [0.5, 0.0], [0.5, 0.13260155], [0.44731684579412084, 0.25978993539242673], [0.3535533905932738, 0.3535533905932738], [0.25978993539242673, 0.44731684579412084], [0.13260155, 0.5], [0.0, 0.5], [-0.13260155, 0.5], [-0.25978993539242673, 0.44731684579412084], [-0.3535533905932738, 0.3535533905932738], [-0.44731684579412084, 0.25978993539242673], [-0.5, 0.13260155], [-0.5, 0.0], [-0.5, -0.13260155], [-0.44731684579412084, -0.25978993539242673], [-0.3535533905932738, -0.3535533905932738], [-0.25978993539242673, -0.44731684579412084], [-0.13260155, -0.5], [0.0, -0.5]], [\"M\", \"C\", \"C\", \"C\", \"C\", \"C\", \"C\", \"C\", \"C\", \"Z\"]]], \"edgecolors\": [\"#1F77B4\"], \"edgewidths\": [1.0], \"offsets\": \"data01\", \"yindex\": 1, \"id\": \"el280534691528784\", \"pathtransforms\": [[6.0, 0.0, 0.0, 6.0, 0.0, 0.0]], \"pathcoordinates\": \"display\", \"offsetcoordinates\": \"data\", \"zorder\": 1, \"xindex\": 0, \"alphas\": [0.3], \"facecolors\": [\"#1F77B4\"]}], \"xscale\": \"linear\", \"bbox\": [0.125, 0.125, 0.775, 0.755]}], \"height\": 360.0, \"width\": 720.0, \"plugins\": [{\"type\": \"reset\"}, {\"enabled\": false, \"button\": true, \"type\": \"zoom\"}, {\"enabled\": false, \"button\": true, \"type\": \"boxzoom\"}, {\"voffset\": 10, \"labels\": [\"<table class=\\\"highlighttable\\\"><tr><td class=\\\"linenos\\\"><div class=\\\"linenodiv\\\"><pre>1\\n2\\n3\\n4\\n5</pre></div></td><td class=\\\"code\\\"><div class=\\\"highlight\\\"><pre><span></span><span class=\\\"c1\\\">#nl2code: 9.752594</span>\\n<span class=\\\"c1\\\">#code2nl: 1.796191</span>\\n<span class=\\\"n\\\">my_list</span> <span class=\\\"o\\\">=</span> <span class=\\\"p\\\">[</span><span class=\\\"mi\\\">1</span><span class=\\\"p\\\">,</span> <span class=\\\"mi\\\">2</span><span class=\\\"p\\\">,</span> <span class=\\\"mi\\\">3</span><span class=\\\"p\\\">,</span> <span class=\\\"mi\\\">4</span><span class=\\\"p\\\">,</span> <span class=\\\"mi\\\">5</span><span class=\\\"p\\\">]</span>\\n<span class=\\\"k\\\">print</span> <span class=\\\"s1\\\">&#39;test&#39;</span>\\n<span class=\\\"nb\\\">len</span><span class=\\\"p\\\">(</span><span class=\\\"n\\\">my_list</span><span class=\\\"p\\\">)</span>\\n</pre></div>\\n</td></tr></table>\", \"<table class=\\\"highlighttable\\\"><tr><td class=\\\"linenos\\\"><div class=\\\"linenodiv\\\"><pre>1\\n2\\n3\\n4</pre></div></td><td class=\\\"code\\\"><div class=\\\"highlight\\\"><pre><span></span><span class=\\\"c1\\\">#nl2code: 7.924438</span>\\n<span class=\\\"c1\\\">#code2nl: 1.775432</span>\\n<span class=\\\"n\\\">my_list</span> <span class=\\\"o\\\">=</span> <span class=\\\"p\\\">[</span><span class=\\\"mi\\\">1</span><span class=\\\"p\\\">,</span> <span class=\\\"mi\\\">2</span><span class=\\\"p\\\">,</span> <span class=\\\"mi\\\">3</span><span class=\\\"p\\\">,</span> <span class=\\\"mi\\\">4</span><span class=\\\"p\\\">,</span> <span class=\\\"mi\\\">5</span><span class=\\\"p\\\">]</span>\\n<span class=\\\"k\\\">print</span> <span class=\\\"s1\\\">&#39;test&#39;</span>\\n</pre></div>\\n</td></tr></table>\", \"<table class=\\\"highlighttable\\\"><tr><td class=\\\"linenos\\\"><div class=\\\"linenodiv\\\"><pre>1\\n2\\n3</pre></div></td><td class=\\\"code\\\"><div class=\\\"highlight\\\"><pre><span></span><span class=\\\"c1\\\">#nl2code: 13.402839</span>\\n<span class=\\\"c1\\\">#code2nl: 1.831708</span>\\n<span class=\\\"nb\\\">len</span><span class=\\\"p\\\">(</span><span class=\\\"n\\\">my_list</span><span class=\\\"p\\\">)</span>\\n</pre></div>\\n</td></tr></table>\", \"<table class=\\\"highlighttable\\\"><tr><td class=\\\"linenos\\\"><div class=\\\"linenodiv\\\"><pre>1\\n2\\n3</pre></div></td><td class=\\\"code\\\"><div class=\\\"highlight\\\"><pre><span></span><span class=\\\"c1\\\">#nl2code: 8.653576</span>\\n<span class=\\\"c1\\\">#code2nl: 1.995346</span>\\n<span class=\\\"k\\\">print</span> <span class=\\\"s1\\\">&#39;test&#39;</span>\\n</pre></div>\\n</td></tr></table>\", \"<table class=\\\"highlighttable\\\"><tr><td class=\\\"linenos\\\"><div class=\\\"linenodiv\\\"><pre>1\\n2\\n3</pre></div></td><td class=\\\"code\\\"><div class=\\\"highlight\\\"><pre><span></span><span class=\\\"c1\\\">#nl2code: 10.239498</span>\\n<span class=\\\"c1\\\">#code2nl: 2.125090</span>\\n<span class=\\\"k\\\">pass</span>\\n</pre></div>\\n</td></tr></table>\", \"<table class=\\\"highlighttable\\\"><tr><td class=\\\"linenos\\\"><div class=\\\"linenodiv\\\"><pre>1\\n2\\n3</pre></div></td><td class=\\\"code\\\"><div class=\\\"highlight\\\"><pre><span></span><span class=\\\"c1\\\">#nl2code: 7.953687</span>\\n<span class=\\\"c1\\\">#code2nl: 1.813400</span>\\n<span class=\\\"n\\\">my_list</span> <span class=\\\"o\\\">=</span> <span class=\\\"p\\\">[</span><span class=\\\"mi\\\">1</span><span class=\\\"p\\\">,</span> <span class=\\\"mi\\\">2</span><span class=\\\"p\\\">,</span> <span class=\\\"mi\\\">3</span><span class=\\\"p\\\">,</span> <span class=\\\"mi\\\">4</span><span class=\\\"p\\\">,</span> <span class=\\\"mi\\\">5</span><span class=\\\"p\\\">]</span>\\n</pre></div>\\n</td></tr></table>\", \"<table class=\\\"highlighttable\\\"><tr><td class=\\\"linenos\\\"><div class=\\\"linenodiv\\\"><pre>1\\n2\\n3\\n4</pre></div></td><td class=\\\"code\\\"><div class=\\\"highlight\\\"><pre><span></span><span class=\\\"c1\\\">#nl2code: 12.850683</span>\\n<span class=\\\"c1\\\">#code2nl: 1.836693</span>\\n<span class=\\\"k\\\">print</span> <span class=\\\"s1\\\">&#39;test&#39;</span>\\n<span class=\\\"nb\\\">len</span><span class=\\\"p\\\">(</span><span class=\\\"n\\\">my_list</span><span class=\\\"p\\\">)</span>\\n</pre></div>\\n</td></tr></table>\", \"<table class=\\\"highlighttable\\\"><tr><td class=\\\"linenos\\\"><div class=\\\"linenodiv\\\"><pre>1\\n2\\n3\\n4</pre></div></td><td class=\\\"code\\\"><div class=\\\"highlight\\\"><pre><span></span><span class=\\\"c1\\\">#nl2code: 9.914488</span>\\n<span class=\\\"c1\\\">#code2nl: 1.829549</span>\\n<span class=\\\"n\\\">my_list</span> <span class=\\\"o\\\">=</span> <span class=\\\"p\\\">[</span><span class=\\\"mi\\\">1</span><span class=\\\"p\\\">,</span> <span class=\\\"mi\\\">2</span><span class=\\\"p\\\">,</span> <span class=\\\"mi\\\">3</span><span class=\\\"p\\\">,</span> <span class=\\\"mi\\\">4</span><span class=\\\"p\\\">,</span> <span class=\\\"mi\\\">5</span><span class=\\\"p\\\">]</span>\\n<span class=\\\"nb\\\">len</span><span class=\\\"p\\\">(</span><span class=\\\"n\\\">my_list</span><span class=\\\"p\\\">)</span>\\n</pre></div>\\n</td></tr></table>\"], \"type\": \"htmltooltip\", \"id\": \"el280534691528784\", \"hoffset\": 0}], \"data\": {\"data01\": [[9.752593994140625, 1.7961910247802735], [7.9244384765625, 1.7754322052001954], [13.402838706970215, 1.8317081451416015], [8.653575897216797, 1.995346450805664], [10.239498138427734, 2.125089645385742], [7.953686882467831, 1.813399887084961], [12.850683038884943, 1.8366928100585938], [9.914488474527994, 1.8295490264892578]]}, \"id\": \"el280534694086352\"});\n",
       "      });\n",
       "    });\n",
       "}else{\n",
       "    // require.js not available: dynamically load d3 & mpld3\n",
       "    mpld3_load_lib(\"https://mpld3.github.io/js/d3.v3.min.js\", function(){\n",
       "         mpld3_load_lib(\"https://mpld3.github.io/js/mpld3.v0.3.js\", function(){\n",
       "                 \n",
       "    mpld3.register_plugin(\"htmltooltip\", HtmlTooltipPlugin);\n",
       "    HtmlTooltipPlugin.prototype = Object.create(mpld3.Plugin.prototype);\n",
       "    HtmlTooltipPlugin.prototype.constructor = HtmlTooltipPlugin;\n",
       "    HtmlTooltipPlugin.prototype.requiredProps = [\"id\"];\n",
       "    HtmlTooltipPlugin.prototype.defaultProps = {labels:null,\n",
       "                                                hoffset:0,\n",
       "                                                voffset:10};\n",
       "    function HtmlTooltipPlugin(fig, props){\n",
       "        mpld3.Plugin.call(this, fig, props);\n",
       "    };\n",
       "\n",
       "    HtmlTooltipPlugin.prototype.draw = function(){\n",
       "       var obj = mpld3.get_element(this.props.id);\n",
       "       var labels = this.props.labels;\n",
       "       var tooltip = d3.select(\"body\").append(\"div\")\n",
       "                    .attr(\"class\", \"mpld3-tooltip\")\n",
       "                    .style(\"position\", \"absolute\")\n",
       "                    .style(\"z-index\", \"10\")\n",
       "                    .style(\"visibility\", \"hidden\");\n",
       "\n",
       "       obj.elements()\n",
       "           .on(\"mouseover\", function(d, i){\n",
       "                              tooltip.html(labels[i])\n",
       "                                     .style(\"visibility\", \"visible\");})\n",
       "           .on(\"mousemove\", function(d, i){\n",
       "                  tooltip\n",
       "                    .style(\"top\", d3.event.pageY + this.props.voffset + \"px\")\n",
       "                    .style(\"left\",d3.event.pageX + this.props.hoffset + \"px\");\n",
       "                 }.bind(this))\n",
       "           .on(\"mouseout\",  function(d, i){\n",
       "                           tooltip.style(\"visibility\", \"hidden\");});\n",
       "    };\n",
       "    \n",
       "                 mpld3.draw_figure(\"fig_el2805346940863522008539274\", {\"axes\": [{\"xlim\": [7.644604486547491, 13.682672696985223], \"yscale\": \"linear\", \"axesbg\": \"#EEEEEE\", \"texts\": [{\"v_baseline\": \"hanging\", \"h_anchor\": \"middle\", \"color\": \"#000000\", \"text\": \"P ( Snippet | Intent )\", \"coordinates\": \"axes\", \"zorder\": 3, \"alpha\": 1, \"fontsize\": 10.0, \"position\": [0.5, -0.0772626931567329], \"rotation\": -0.0, \"id\": \"el280534691340240\"}, {\"v_baseline\": \"auto\", \"h_anchor\": \"middle\", \"color\": \"#000000\", \"text\": \"P ( Intent | Snippet )\", \"coordinates\": \"axes\", \"zorder\": 3, \"alpha\": 1, \"fontsize\": 10.0, \"position\": [-0.05981182795698925, 0.5], \"rotation\": -90.0, \"id\": \"el280534691249040\"}, {\"v_baseline\": \"auto\", \"h_anchor\": \"middle\", \"color\": \"#000000\", \"text\": \"Getting the length of an array in Python\", \"coordinates\": \"axes\", \"zorder\": 3, \"alpha\": 1, \"fontsize\": 12.0, \"position\": [0.5, 1.0220750551876379], \"rotation\": -0.0, \"id\": \"el280534691632720\"}], \"zoomable\": true, \"images\": [], \"xdomain\": [7.644604486547491, 13.682672696985223], \"ylim\": [1.7458080528377173, 2.15471379774822], \"paths\": [], \"sharey\": [], \"sharex\": [], \"axesbgalpha\": null, \"axes\": [{\"scale\": \"linear\", \"tickformat\": null, \"grid\": {\"color\": \"#FFFFFF\", \"alpha\": 1.0, \"dasharray\": \"none\", \"gridOn\": true}, \"visible\": true, \"fontsize\": 10.0, \"position\": \"bottom\", \"nticks\": 8, \"tickvalues\": null}, {\"scale\": \"linear\", \"tickformat\": null, \"grid\": {\"color\": \"#FFFFFF\", \"alpha\": 1.0, \"dasharray\": \"none\", \"gridOn\": true}, \"visible\": true, \"fontsize\": 10.0, \"position\": \"left\", \"nticks\": 11, \"tickvalues\": null}], \"lines\": [], \"markers\": [], \"id\": \"el280534690979408\", \"ydomain\": [1.7458080528377173, 2.15471379774822], \"collections\": [{\"paths\": [[[[0.0, -0.5], [0.13260155, -0.5], [0.25978993539242673, -0.44731684579412084], [0.3535533905932738, -0.3535533905932738], [0.44731684579412084, -0.25978993539242673], [0.5, -0.13260155], [0.5, 0.0], [0.5, 0.13260155], [0.44731684579412084, 0.25978993539242673], [0.3535533905932738, 0.3535533905932738], [0.25978993539242673, 0.44731684579412084], [0.13260155, 0.5], [0.0, 0.5], [-0.13260155, 0.5], [-0.25978993539242673, 0.44731684579412084], [-0.3535533905932738, 0.3535533905932738], [-0.44731684579412084, 0.25978993539242673], [-0.5, 0.13260155], [-0.5, 0.0], [-0.5, -0.13260155], [-0.44731684579412084, -0.25978993539242673], [-0.3535533905932738, -0.3535533905932738], [-0.25978993539242673, -0.44731684579412084], [-0.13260155, -0.5], [0.0, -0.5]], [\"M\", \"C\", \"C\", \"C\", \"C\", \"C\", \"C\", \"C\", \"C\", \"Z\"]]], \"edgecolors\": [\"#1F77B4\"], \"edgewidths\": [1.0], \"offsets\": \"data01\", \"yindex\": 1, \"id\": \"el280534691528784\", \"pathtransforms\": [[6.0, 0.0, 0.0, 6.0, 0.0, 0.0]], \"pathcoordinates\": \"display\", \"offsetcoordinates\": \"data\", \"zorder\": 1, \"xindex\": 0, \"alphas\": [0.3], \"facecolors\": [\"#1F77B4\"]}], \"xscale\": \"linear\", \"bbox\": [0.125, 0.125, 0.775, 0.755]}], \"height\": 360.0, \"width\": 720.0, \"plugins\": [{\"type\": \"reset\"}, {\"enabled\": false, \"button\": true, \"type\": \"zoom\"}, {\"enabled\": false, \"button\": true, \"type\": \"boxzoom\"}, {\"voffset\": 10, \"labels\": [\"<table class=\\\"highlighttable\\\"><tr><td class=\\\"linenos\\\"><div class=\\\"linenodiv\\\"><pre>1\\n2\\n3\\n4\\n5</pre></div></td><td class=\\\"code\\\"><div class=\\\"highlight\\\"><pre><span></span><span class=\\\"c1\\\">#nl2code: 9.752594</span>\\n<span class=\\\"c1\\\">#code2nl: 1.796191</span>\\n<span class=\\\"n\\\">my_list</span> <span class=\\\"o\\\">=</span> <span class=\\\"p\\\">[</span><span class=\\\"mi\\\">1</span><span class=\\\"p\\\">,</span> <span class=\\\"mi\\\">2</span><span class=\\\"p\\\">,</span> <span class=\\\"mi\\\">3</span><span class=\\\"p\\\">,</span> <span class=\\\"mi\\\">4</span><span class=\\\"p\\\">,</span> <span class=\\\"mi\\\">5</span><span class=\\\"p\\\">]</span>\\n<span class=\\\"k\\\">print</span> <span class=\\\"s1\\\">&#39;test&#39;</span>\\n<span class=\\\"nb\\\">len</span><span class=\\\"p\\\">(</span><span class=\\\"n\\\">my_list</span><span class=\\\"p\\\">)</span>\\n</pre></div>\\n</td></tr></table>\", \"<table class=\\\"highlighttable\\\"><tr><td class=\\\"linenos\\\"><div class=\\\"linenodiv\\\"><pre>1\\n2\\n3\\n4</pre></div></td><td class=\\\"code\\\"><div class=\\\"highlight\\\"><pre><span></span><span class=\\\"c1\\\">#nl2code: 7.924438</span>\\n<span class=\\\"c1\\\">#code2nl: 1.775432</span>\\n<span class=\\\"n\\\">my_list</span> <span class=\\\"o\\\">=</span> <span class=\\\"p\\\">[</span><span class=\\\"mi\\\">1</span><span class=\\\"p\\\">,</span> <span class=\\\"mi\\\">2</span><span class=\\\"p\\\">,</span> <span class=\\\"mi\\\">3</span><span class=\\\"p\\\">,</span> <span class=\\\"mi\\\">4</span><span class=\\\"p\\\">,</span> <span class=\\\"mi\\\">5</span><span class=\\\"p\\\">]</span>\\n<span class=\\\"k\\\">print</span> <span class=\\\"s1\\\">&#39;test&#39;</span>\\n</pre></div>\\n</td></tr></table>\", \"<table class=\\\"highlighttable\\\"><tr><td class=\\\"linenos\\\"><div class=\\\"linenodiv\\\"><pre>1\\n2\\n3</pre></div></td><td class=\\\"code\\\"><div class=\\\"highlight\\\"><pre><span></span><span class=\\\"c1\\\">#nl2code: 13.402839</span>\\n<span class=\\\"c1\\\">#code2nl: 1.831708</span>\\n<span class=\\\"nb\\\">len</span><span class=\\\"p\\\">(</span><span class=\\\"n\\\">my_list</span><span class=\\\"p\\\">)</span>\\n</pre></div>\\n</td></tr></table>\", \"<table class=\\\"highlighttable\\\"><tr><td class=\\\"linenos\\\"><div class=\\\"linenodiv\\\"><pre>1\\n2\\n3</pre></div></td><td class=\\\"code\\\"><div class=\\\"highlight\\\"><pre><span></span><span class=\\\"c1\\\">#nl2code: 8.653576</span>\\n<span class=\\\"c1\\\">#code2nl: 1.995346</span>\\n<span class=\\\"k\\\">print</span> <span class=\\\"s1\\\">&#39;test&#39;</span>\\n</pre></div>\\n</td></tr></table>\", \"<table class=\\\"highlighttable\\\"><tr><td class=\\\"linenos\\\"><div class=\\\"linenodiv\\\"><pre>1\\n2\\n3</pre></div></td><td class=\\\"code\\\"><div class=\\\"highlight\\\"><pre><span></span><span class=\\\"c1\\\">#nl2code: 10.239498</span>\\n<span class=\\\"c1\\\">#code2nl: 2.125090</span>\\n<span class=\\\"k\\\">pass</span>\\n</pre></div>\\n</td></tr></table>\", \"<table class=\\\"highlighttable\\\"><tr><td class=\\\"linenos\\\"><div class=\\\"linenodiv\\\"><pre>1\\n2\\n3</pre></div></td><td class=\\\"code\\\"><div class=\\\"highlight\\\"><pre><span></span><span class=\\\"c1\\\">#nl2code: 7.953687</span>\\n<span class=\\\"c1\\\">#code2nl: 1.813400</span>\\n<span class=\\\"n\\\">my_list</span> <span class=\\\"o\\\">=</span> <span class=\\\"p\\\">[</span><span class=\\\"mi\\\">1</span><span class=\\\"p\\\">,</span> <span class=\\\"mi\\\">2</span><span class=\\\"p\\\">,</span> <span class=\\\"mi\\\">3</span><span class=\\\"p\\\">,</span> <span class=\\\"mi\\\">4</span><span class=\\\"p\\\">,</span> <span class=\\\"mi\\\">5</span><span class=\\\"p\\\">]</span>\\n</pre></div>\\n</td></tr></table>\", \"<table class=\\\"highlighttable\\\"><tr><td class=\\\"linenos\\\"><div class=\\\"linenodiv\\\"><pre>1\\n2\\n3\\n4</pre></div></td><td class=\\\"code\\\"><div class=\\\"highlight\\\"><pre><span></span><span class=\\\"c1\\\">#nl2code: 12.850683</span>\\n<span class=\\\"c1\\\">#code2nl: 1.836693</span>\\n<span class=\\\"k\\\">print</span> <span class=\\\"s1\\\">&#39;test&#39;</span>\\n<span class=\\\"nb\\\">len</span><span class=\\\"p\\\">(</span><span class=\\\"n\\\">my_list</span><span class=\\\"p\\\">)</span>\\n</pre></div>\\n</td></tr></table>\", \"<table class=\\\"highlighttable\\\"><tr><td class=\\\"linenos\\\"><div class=\\\"linenodiv\\\"><pre>1\\n2\\n3\\n4</pre></div></td><td class=\\\"code\\\"><div class=\\\"highlight\\\"><pre><span></span><span class=\\\"c1\\\">#nl2code: 9.914488</span>\\n<span class=\\\"c1\\\">#code2nl: 1.829549</span>\\n<span class=\\\"n\\\">my_list</span> <span class=\\\"o\\\">=</span> <span class=\\\"p\\\">[</span><span class=\\\"mi\\\">1</span><span class=\\\"p\\\">,</span> <span class=\\\"mi\\\">2</span><span class=\\\"p\\\">,</span> <span class=\\\"mi\\\">3</span><span class=\\\"p\\\">,</span> <span class=\\\"mi\\\">4</span><span class=\\\"p\\\">,</span> <span class=\\\"mi\\\">5</span><span class=\\\"p\\\">]</span>\\n<span class=\\\"nb\\\">len</span><span class=\\\"p\\\">(</span><span class=\\\"n\\\">my_list</span><span class=\\\"p\\\">)</span>\\n</pre></div>\\n</td></tr></table>\"], \"type\": \"htmltooltip\", \"id\": \"el280534691528784\", \"hoffset\": 0}], \"data\": {\"data01\": [[9.752593994140625, 1.7961910247802735], [7.9244384765625, 1.7754322052001954], [13.402838706970215, 1.8317081451416015], [8.653575897216797, 1.995346450805664], [10.239498138427734, 2.125089645385742], [7.953686882467831, 1.813399887084961], [12.850683038884943, 1.8366928100585938], [9.914488474527994, 1.8295490264892578]]}, \"id\": \"el280534694086352\"});\n",
       "            })\n",
       "         });\n",
       "}\n",
       "</script>"
      ],
      "text/plain": [
       "<IPython.core.display.HTML object>"
      ]
     },
     "execution_count": 31,
     "metadata": {},
     "output_type": "execute_result"
    }
   ],
   "source": [
    "visiualize(nl, snippets, likelihoods)"
   ]
  },
  {
   "cell_type": "code",
   "execution_count": 33,
   "metadata": {
    "collapsed": true
   },
   "outputs": [],
   "source": [
    "snippets = list(sub_contiguous_snippets(code))\n",
    "likelihoods = [bi_likelihood(nl, code) for code in snippets]"
   ]
  },
  {
   "cell_type": "code",
   "execution_count": 34,
   "metadata": {},
   "outputs": [
    {
     "data": {
      "text/html": [
       "\n",
       "\n",
       "<style>\n",
       ".highlight .hll { background-color: #ffffcc }\n",
       ".highlight  { background: #f8f8f8; }\n",
       ".highlight .c { color: #408080; font-style: italic } /* Comment */\n",
       ".highlight .err { border: 1px solid #FF0000 } /* Error */\n",
       ".highlight .k { color: #008000; font-weight: bold } /* Keyword */\n",
       ".highlight .o { color: #666666 } /* Operator */\n",
       ".highlight .ch { color: #408080; font-style: italic } /* Comment.Hashbang */\n",
       ".highlight .cm { color: #408080; font-style: italic } /* Comment.Multiline */\n",
       ".highlight .cp { color: #BC7A00 } /* Comment.Preproc */\n",
       ".highlight .cpf { color: #408080; font-style: italic } /* Comment.PreprocFile */\n",
       ".highlight .c1 { color: #408080; font-style: italic } /* Comment.Single */\n",
       ".highlight .cs { color: #408080; font-style: italic } /* Comment.Special */\n",
       ".highlight .gd { color: #A00000 } /* Generic.Deleted */\n",
       ".highlight .ge { font-style: italic } /* Generic.Emph */\n",
       ".highlight .gr { color: #FF0000 } /* Generic.Error */\n",
       ".highlight .gh { color: #000080; font-weight: bold } /* Generic.Heading */\n",
       ".highlight .gi { color: #00A000 } /* Generic.Inserted */\n",
       ".highlight .go { color: #888888 } /* Generic.Output */\n",
       ".highlight .gp { color: #000080; font-weight: bold } /* Generic.Prompt */\n",
       ".highlight .gs { font-weight: bold } /* Generic.Strong */\n",
       ".highlight .gu { color: #800080; font-weight: bold } /* Generic.Subheading */\n",
       ".highlight .gt { color: #0044DD } /* Generic.Traceback */\n",
       ".highlight .kc { color: #008000; font-weight: bold } /* Keyword.Constant */\n",
       ".highlight .kd { color: #008000; font-weight: bold } /* Keyword.Declaration */\n",
       ".highlight .kn { color: #008000; font-weight: bold } /* Keyword.Namespace */\n",
       ".highlight .kp { color: #008000 } /* Keyword.Pseudo */\n",
       ".highlight .kr { color: #008000; font-weight: bold } /* Keyword.Reserved */\n",
       ".highlight .kt { color: #B00040 } /* Keyword.Type */\n",
       ".highlight .m { color: #666666 } /* Literal.Number */\n",
       ".highlight .s { color: #BA2121 } /* Literal.String */\n",
       ".highlight .na { color: #7D9029 } /* Name.Attribute */\n",
       ".highlight .nb { color: #008000 } /* Name.Builtin */\n",
       ".highlight .nc { color: #0000FF; font-weight: bold } /* Name.Class */\n",
       ".highlight .no { color: #880000 } /* Name.Constant */\n",
       ".highlight .nd { color: #AA22FF } /* Name.Decorator */\n",
       ".highlight .ni { color: #999999; font-weight: bold } /* Name.Entity */\n",
       ".highlight .ne { color: #D2413A; font-weight: bold } /* Name.Exception */\n",
       ".highlight .nf { color: #0000FF } /* Name.Function */\n",
       ".highlight .nl { color: #A0A000 } /* Name.Label */\n",
       ".highlight .nn { color: #0000FF; font-weight: bold } /* Name.Namespace */\n",
       ".highlight .nt { color: #008000; font-weight: bold } /* Name.Tag */\n",
       ".highlight .nv { color: #19177C } /* Name.Variable */\n",
       ".highlight .ow { color: #AA22FF; font-weight: bold } /* Operator.Word */\n",
       ".highlight .w { color: #bbbbbb } /* Text.Whitespace */\n",
       ".highlight .mb { color: #666666 } /* Literal.Number.Bin */\n",
       ".highlight .mf { color: #666666 } /* Literal.Number.Float */\n",
       ".highlight .mh { color: #666666 } /* Literal.Number.Hex */\n",
       ".highlight .mi { color: #666666 } /* Literal.Number.Integer */\n",
       ".highlight .mo { color: #666666 } /* Literal.Number.Oct */\n",
       ".highlight .sa { color: #BA2121 } /* Literal.String.Affix */\n",
       ".highlight .sb { color: #BA2121 } /* Literal.String.Backtick */\n",
       ".highlight .sc { color: #BA2121 } /* Literal.String.Char */\n",
       ".highlight .dl { color: #BA2121 } /* Literal.String.Delimiter */\n",
       ".highlight .sd { color: #BA2121; font-style: italic } /* Literal.String.Doc */\n",
       ".highlight .s2 { color: #BA2121 } /* Literal.String.Double */\n",
       ".highlight .se { color: #BB6622; font-weight: bold } /* Literal.String.Escape */\n",
       ".highlight .sh { color: #BA2121 } /* Literal.String.Heredoc */\n",
       ".highlight .si { color: #BB6688; font-weight: bold } /* Literal.String.Interpol */\n",
       ".highlight .sx { color: #008000 } /* Literal.String.Other */\n",
       ".highlight .sr { color: #BB6688 } /* Literal.String.Regex */\n",
       ".highlight .s1 { color: #BA2121 } /* Literal.String.Single */\n",
       ".highlight .ss { color: #19177C } /* Literal.String.Symbol */\n",
       ".highlight .bp { color: #008000 } /* Name.Builtin.Pseudo */\n",
       ".highlight .fm { color: #0000FF } /* Name.Function.Magic */\n",
       ".highlight .vc { color: #19177C } /* Name.Variable.Class */\n",
       ".highlight .vg { color: #19177C } /* Name.Variable.Global */\n",
       ".highlight .vi { color: #19177C } /* Name.Variable.Instance */\n",
       ".highlight .vm { color: #19177C } /* Name.Variable.Magic */\n",
       ".highlight .il { color: #666666 } /* Literal.Number.Integer.Long */\n",
       "</style>\n",
       "\n",
       "<div id=\"fig_el2805346976822565117752629\"></div>\n",
       "<script>\n",
       "function mpld3_load_lib(url, callback){\n",
       "  var s = document.createElement('script');\n",
       "  s.src = url;\n",
       "  s.async = true;\n",
       "  s.onreadystatechange = s.onload = callback;\n",
       "  s.onerror = function(){console.warn(\"failed to load library \" + url);};\n",
       "  document.getElementsByTagName(\"head\")[0].appendChild(s);\n",
       "}\n",
       "\n",
       "if(typeof(mpld3) !== \"undefined\" && mpld3._mpld3IsLoaded){\n",
       "   // already loaded: just create the figure\n",
       "   !function(mpld3){\n",
       "       \n",
       "    mpld3.register_plugin(\"htmltooltip\", HtmlTooltipPlugin);\n",
       "    HtmlTooltipPlugin.prototype = Object.create(mpld3.Plugin.prototype);\n",
       "    HtmlTooltipPlugin.prototype.constructor = HtmlTooltipPlugin;\n",
       "    HtmlTooltipPlugin.prototype.requiredProps = [\"id\"];\n",
       "    HtmlTooltipPlugin.prototype.defaultProps = {labels:null,\n",
       "                                                hoffset:0,\n",
       "                                                voffset:10};\n",
       "    function HtmlTooltipPlugin(fig, props){\n",
       "        mpld3.Plugin.call(this, fig, props);\n",
       "    };\n",
       "\n",
       "    HtmlTooltipPlugin.prototype.draw = function(){\n",
       "       var obj = mpld3.get_element(this.props.id);\n",
       "       var labels = this.props.labels;\n",
       "       var tooltip = d3.select(\"body\").append(\"div\")\n",
       "                    .attr(\"class\", \"mpld3-tooltip\")\n",
       "                    .style(\"position\", \"absolute\")\n",
       "                    .style(\"z-index\", \"10\")\n",
       "                    .style(\"visibility\", \"hidden\");\n",
       "\n",
       "       obj.elements()\n",
       "           .on(\"mouseover\", function(d, i){\n",
       "                              tooltip.html(labels[i])\n",
       "                                     .style(\"visibility\", \"visible\");})\n",
       "           .on(\"mousemove\", function(d, i){\n",
       "                  tooltip\n",
       "                    .style(\"top\", d3.event.pageY + this.props.voffset + \"px\")\n",
       "                    .style(\"left\",d3.event.pageX + this.props.hoffset + \"px\");\n",
       "                 }.bind(this))\n",
       "           .on(\"mouseout\",  function(d, i){\n",
       "                           tooltip.style(\"visibility\", \"hidden\");});\n",
       "    };\n",
       "    \n",
       "       mpld3.draw_figure(\"fig_el2805346976822565117752629\", {\"axes\": [{\"xlim\": [3.080101932607671, 17.643644939340575], \"yscale\": \"linear\", \"axesbg\": \"#EEEEEE\", \"texts\": [{\"v_baseline\": \"hanging\", \"h_anchor\": \"middle\", \"color\": \"#000000\", \"text\": \"P ( Snippet | Intent )\", \"coordinates\": \"axes\", \"zorder\": 3, \"alpha\": 1, \"fontsize\": 10.0, \"position\": [0.5, -0.0772626931567329], \"rotation\": -0.0, \"id\": \"el280534697638224\"}, {\"v_baseline\": \"auto\", \"h_anchor\": \"middle\", \"color\": \"#000000\", \"text\": \"P ( Intent | Snippet )\", \"coordinates\": \"axes\", \"zorder\": 3, \"alpha\": 1, \"fontsize\": 10.0, \"position\": [-0.05981182795698925, 0.5], \"rotation\": -90.0, \"id\": \"el280534697785424\"}, {\"v_baseline\": \"auto\", \"h_anchor\": \"middle\", \"color\": \"#000000\", \"text\": \"Getting the length of an array in Python\", \"coordinates\": \"axes\", \"zorder\": 3, \"alpha\": 1, \"fontsize\": 12.0, \"position\": [0.5, 1.0220750551876379], \"rotation\": -0.0, \"id\": \"el280534697824208\"}], \"zoomable\": true, \"images\": [], \"xdomain\": [3.080101932607671, 17.643644939340575], \"ylim\": [1.6877743385432837, 1.9291892387272243], \"paths\": [], \"sharey\": [], \"sharex\": [], \"axesbgalpha\": null, \"axes\": [{\"scale\": \"linear\", \"tickformat\": null, \"grid\": {\"color\": \"#FFFFFF\", \"alpha\": 1.0, \"dasharray\": \"none\", \"gridOn\": true}, \"visible\": true, \"fontsize\": 10.0, \"position\": \"bottom\", \"nticks\": 9, \"tickvalues\": null}, {\"scale\": \"linear\", \"tickformat\": null, \"grid\": {\"color\": \"#FFFFFF\", \"alpha\": 1.0, \"dasharray\": \"none\", \"gridOn\": true}, \"visible\": true, \"fontsize\": 10.0, \"position\": \"left\", \"nticks\": 7, \"tickvalues\": null}], \"lines\": [], \"markers\": [], \"id\": \"el280534693585872\", \"ydomain\": [1.6877743385432837, 1.9291892387272243], \"collections\": [{\"paths\": [[[[0.0, -0.5], [0.13260155, -0.5], [0.25978993539242673, -0.44731684579412084], [0.3535533905932738, -0.3535533905932738], [0.44731684579412084, -0.25978993539242673], [0.5, -0.13260155], [0.5, 0.0], [0.5, 0.13260155], [0.44731684579412084, 0.25978993539242673], [0.3535533905932738, 0.3535533905932738], [0.25978993539242673, 0.44731684579412084], [0.13260155, 0.5], [0.0, 0.5], [-0.13260155, 0.5], [-0.25978993539242673, 0.44731684579412084], [-0.3535533905932738, 0.3535533905932738], [-0.44731684579412084, 0.25978993539242673], [-0.5, 0.13260155], [-0.5, 0.0], [-0.5, -0.13260155], [-0.44731684579412084, -0.25978993539242673], [-0.3535533905932738, -0.3535533905932738], [-0.25978993539242673, -0.44731684579412084], [-0.13260155, -0.5], [0.0, -0.5]], [\"M\", \"C\", \"C\", \"C\", \"C\", \"C\", \"C\", \"C\", \"C\", \"Z\"]]], \"edgecolors\": [\"#1F77B4\"], \"edgewidths\": [1.0], \"offsets\": \"data01\", \"yindex\": 1, \"id\": \"el280534698183376\", \"pathtransforms\": [[6.0, 0.0, 0.0, 6.0, 0.0, 0.0]], \"pathcoordinates\": \"display\", \"offsetcoordinates\": \"data\", \"zorder\": 1, \"xindex\": 0, \"alphas\": [0.3], \"facecolors\": [\"#1F77B4\"]}], \"xscale\": \"linear\", \"bbox\": [0.125, 0.125, 0.775, 0.755]}], \"height\": 360.0, \"width\": 720.0, \"plugins\": [{\"type\": \"reset\"}, {\"enabled\": false, \"button\": true, \"type\": \"zoom\"}, {\"enabled\": false, \"button\": true, \"type\": \"boxzoom\"}, {\"voffset\": 10, \"labels\": [\"<table class=\\\"highlighttable\\\"><tr><td class=\\\"linenos\\\"><div class=\\\"linenodiv\\\"><pre>1\\n2\\n3</pre></div></td><td class=\\\"code\\\"><div class=\\\"highlight\\\"><pre><span></span><span class=\\\"c1\\\">#nl2code: 3.747458</span>\\n<span class=\\\"c1\\\">#code2nl: 1.770336</span>\\n<span class=\\\"p\\\">(</span><span class=\\\"mi\\\">3</span><span class=\\\"p\\\">,</span> <span class=\\\"mi\\\">4</span><span class=\\\"p\\\">)</span>\\n</pre></div>\\n</td></tr></table>\", \"<table class=\\\"highlighttable\\\"><tr><td class=\\\"linenos\\\"><div class=\\\"linenodiv\\\"><pre>1\\n2\\n3</pre></div></td><td class=\\\"code\\\"><div class=\\\"highlight\\\"><pre><span></span><span class=\\\"c1\\\">#nl2code: 4.282646</span>\\n<span class=\\\"c1\\\">#code2nl: 1.835933</span>\\n<span class=\\\"p\\\">(</span><span class=\\\"mi\\\">3</span><span class=\\\"p\\\">,</span> <span class=\\\"mi\\\">4</span><span class=\\\"p\\\">,</span> <span class=\\\"mi\\\">5</span><span class=\\\"p\\\">)</span>\\n</pre></div>\\n</td></tr></table>\", \"<table class=\\\"highlighttable\\\"><tr><td class=\\\"linenos\\\"><div class=\\\"linenodiv\\\"><pre>1\\n2\\n3</pre></div></td><td class=\\\"code\\\"><div class=\\\"highlight\\\"><pre><span></span><span class=\\\"c1\\\">#nl2code: 7.953687</span>\\n<span class=\\\"c1\\\">#code2nl: 1.813400</span>\\n<span class=\\\"n\\\">my_list</span> <span class=\\\"o\\\">=</span> <span class=\\\"p\\\">[</span><span class=\\\"mi\\\">1</span><span class=\\\"p\\\">,</span> <span class=\\\"mi\\\">2</span><span class=\\\"p\\\">,</span> <span class=\\\"mi\\\">3</span><span class=\\\"p\\\">,</span> <span class=\\\"mi\\\">4</span><span class=\\\"p\\\">,</span> <span class=\\\"mi\\\">5</span><span class=\\\"p\\\">]</span>\\n</pre></div>\\n</td></tr></table>\", \"<table class=\\\"highlighttable\\\"><tr><td class=\\\"linenos\\\"><div class=\\\"linenodiv\\\"><pre>1\\n2\\n3</pre></div></td><td class=\\\"code\\\"><div class=\\\"highlight\\\"><pre><span></span><span class=\\\"c1\\\">#nl2code: 3.779751</span>\\n<span class=\\\"c1\\\">#code2nl: 1.738702</span>\\n<span class=\\\"p\\\">(</span><span class=\\\"mi\\\">2</span><span class=\\\"p\\\">,</span> <span class=\\\"mi\\\">3</span><span class=\\\"p\\\">)</span>\\n</pre></div>\\n</td></tr></table>\", \"<table class=\\\"highlighttable\\\"><tr><td class=\\\"linenos\\\"><div class=\\\"linenodiv\\\"><pre>1\\n2\\n3</pre></div></td><td class=\\\"code\\\"><div class=\\\"highlight\\\"><pre><span></span><span class=\\\"c1\\\">#nl2code: 4.263830</span>\\n<span class=\\\"c1\\\">#code2nl: 1.756998</span>\\n<span class=\\\"p\\\">(</span><span class=\\\"mi\\\">2</span><span class=\\\"p\\\">,</span> <span class=\\\"mi\\\">3</span><span class=\\\"p\\\">,</span> <span class=\\\"mi\\\">4</span><span class=\\\"p\\\">)</span>\\n</pre></div>\\n</td></tr></table>\", \"<table class=\\\"highlighttable\\\"><tr><td class=\\\"linenos\\\"><div class=\\\"linenodiv\\\"><pre>1\\n2\\n3</pre></div></td><td class=\\\"code\\\"><div class=\\\"highlight\\\"><pre><span></span><span class=\\\"c1\\\">#nl2code: 4.669266</span>\\n<span class=\\\"c1\\\">#code2nl: 1.816118</span>\\n<span class=\\\"p\\\">(</span><span class=\\\"mi\\\">2</span><span class=\\\"p\\\">,</span> <span class=\\\"mi\\\">3</span><span class=\\\"p\\\">,</span> <span class=\\\"mi\\\">4</span><span class=\\\"p\\\">,</span> <span class=\\\"mi\\\">5</span><span class=\\\"p\\\">)</span>\\n</pre></div>\\n</td></tr></table>\", \"<table class=\\\"highlighttable\\\"><tr><td class=\\\"linenos\\\"><div class=\\\"linenodiv\\\"><pre>1\\n2\\n3</pre></div></td><td class=\\\"code\\\"><div class=\\\"highlight\\\"><pre><span></span><span class=\\\"c1\\\">#nl2code: 6.679527</span>\\n<span class=\\\"c1\\\">#code2nl: 1.777128</span>\\n<span class=\\\"mi\\\">1</span>\\n</pre></div>\\n</td></tr></table>\", \"<table class=\\\"highlighttable\\\"><tr><td class=\\\"linenos\\\"><div class=\\\"linenodiv\\\"><pre>1\\n2\\n3</pre></div></td><td class=\\\"code\\\"><div class=\\\"highlight\\\"><pre><span></span><span class=\\\"c1\\\">#nl2code: 7.837972</span>\\n<span class=\\\"c1\\\">#code2nl: 1.858759</span>\\n<span class=\\\"mi\\\">3</span>\\n</pre></div>\\n</td></tr></table>\", \"<table class=\\\"highlighttable\\\"><tr><td class=\\\"linenos\\\"><div class=\\\"linenodiv\\\"><pre>1\\n2\\n3\\n4</pre></div></td><td class=\\\"code\\\"><div class=\\\"highlight\\\"><pre><span></span><span class=\\\"c1\\\">#nl2code: 9.039751</span>\\n<span class=\\\"c1\\\">#code2nl: 1.810925</span>\\n<span class=\\\"n\\\">my_list</span> <span class=\\\"o\\\">=</span> <span class=\\\"p\\\">[</span><span class=\\\"mi\\\">1</span><span class=\\\"p\\\">,</span> <span class=\\\"mi\\\">2</span><span class=\\\"p\\\">,</span> <span class=\\\"mi\\\">3</span><span class=\\\"p\\\">,</span> <span class=\\\"mi\\\">4</span><span class=\\\"p\\\">,</span> <span class=\\\"mi\\\">5</span><span class=\\\"p\\\">]</span>\\n<span class=\\\"nb\\\">len</span>\\n</pre></div>\\n</td></tr></table>\", \"<table class=\\\"highlighttable\\\"><tr><td class=\\\"linenos\\\"><div class=\\\"linenodiv\\\"><pre>1\\n2\\n3</pre></div></td><td class=\\\"code\\\"><div class=\\\"highlight\\\"><pre><span></span><span class=\\\"c1\\\">#nl2code: 8.738105</span>\\n<span class=\\\"c1\\\">#code2nl: 1.825367</span>\\n<span class=\\\"mi\\\">5</span>\\n</pre></div>\\n</td></tr></table>\", \"<table class=\\\"highlighttable\\\"><tr><td class=\\\"linenos\\\"><div class=\\\"linenodiv\\\"><pre>1\\n2\\n3</pre></div></td><td class=\\\"code\\\"><div class=\\\"highlight\\\"><pre><span></span><span class=\\\"c1\\\">#nl2code: 4.565303</span>\\n<span class=\\\"c1\\\">#code2nl: 1.800122</span>\\n<span class=\\\"p\\\">(</span><span class=\\\"mi\\\">1</span><span class=\\\"p\\\">,</span> <span class=\\\"mi\\\">2</span><span class=\\\"p\\\">,</span> <span class=\\\"mi\\\">3</span><span class=\\\"p\\\">,</span> <span class=\\\"mi\\\">4</span><span class=\\\"p\\\">,</span> <span class=\\\"mi\\\">5</span><span class=\\\"p\\\">)</span>\\n</pre></div>\\n</td></tr></table>\", \"<table class=\\\"highlighttable\\\"><tr><td class=\\\"linenos\\\"><div class=\\\"linenodiv\\\"><pre>1\\n2\\n3</pre></div></td><td class=\\\"code\\\"><div class=\\\"highlight\\\"><pre><span></span><span class=\\\"c1\\\">#nl2code: 3.959084</span>\\n<span class=\\\"c1\\\">#code2nl: 1.811417</span>\\n<span class=\\\"p\\\">[</span><span class=\\\"mi\\\">1</span><span class=\\\"p\\\">,</span> <span class=\\\"mi\\\">2</span><span class=\\\"p\\\">,</span> <span class=\\\"mi\\\">3</span><span class=\\\"p\\\">,</span> <span class=\\\"mi\\\">4</span><span class=\\\"p\\\">,</span> <span class=\\\"mi\\\">5</span><span class=\\\"p\\\">]</span>\\n</pre></div>\\n</td></tr></table>\", \"<table class=\\\"highlighttable\\\"><tr><td class=\\\"linenos\\\"><div class=\\\"linenodiv\\\"><pre>1\\n2\\n3</pre></div></td><td class=\\\"code\\\"><div class=\\\"highlight\\\"><pre><span></span><span class=\\\"c1\\\">#nl2code: 5.896603</span>\\n<span class=\\\"c1\\\">#code2nl: 1.835042</span>\\n<span class=\\\"p\\\">(</span><span class=\\\"mi\\\">3</span><span class=\\\"p\\\">,)</span>\\n</pre></div>\\n</td></tr></table>\", \"<table class=\\\"highlighttable\\\"><tr><td class=\\\"linenos\\\"><div class=\\\"linenodiv\\\"><pre>1\\n2\\n3\\n4</pre></div></td><td class=\\\"code\\\"><div class=\\\"highlight\\\"><pre><span></span><span class=\\\"c1\\\">#nl2code: 9.914488</span>\\n<span class=\\\"c1\\\">#code2nl: 1.829549</span>\\n<span class=\\\"n\\\">my_list</span> <span class=\\\"o\\\">=</span> <span class=\\\"p\\\">[</span><span class=\\\"mi\\\">1</span><span class=\\\"p\\\">,</span> <span class=\\\"mi\\\">2</span><span class=\\\"p\\\">,</span> <span class=\\\"mi\\\">3</span><span class=\\\"p\\\">,</span> <span class=\\\"mi\\\">4</span><span class=\\\"p\\\">,</span> <span class=\\\"mi\\\">5</span><span class=\\\"p\\\">]</span>\\n<span class=\\\"nb\\\">len</span><span class=\\\"p\\\">(</span><span class=\\\"n\\\">my_list</span><span class=\\\"p\\\">)</span>\\n</pre></div>\\n</td></tr></table>\", \"<table class=\\\"highlighttable\\\"><tr><td class=\\\"linenos\\\"><div class=\\\"linenodiv\\\"><pre>1\\n2\\n3</pre></div></td><td class=\\\"code\\\"><div class=\\\"highlight\\\"><pre><span></span><span class=\\\"c1\\\">#nl2code: 7.844758</span>\\n<span class=\\\"c1\\\">#code2nl: 1.772217</span>\\n<span class=\\\"mi\\\">4</span>\\n</pre></div>\\n</td></tr></table>\", \"<table class=\\\"highlighttable\\\"><tr><td class=\\\"linenos\\\"><div class=\\\"linenodiv\\\"><pre>1\\n2\\n3</pre></div></td><td class=\\\"code\\\"><div class=\\\"highlight\\\"><pre><span></span><span class=\\\"c1\\\">#nl2code: 3.948320</span>\\n<span class=\\\"c1\\\">#code2nl: 1.709785</span>\\n<span class=\\\"p\\\">(</span><span class=\\\"mi\\\">1</span><span class=\\\"p\\\">,</span> <span class=\\\"mi\\\">2</span><span class=\\\"p\\\">,</span> <span class=\\\"mi\\\">3</span><span class=\\\"p\\\">)</span>\\n</pre></div>\\n</td></tr></table>\", \"<table class=\\\"highlighttable\\\"><tr><td class=\\\"linenos\\\"><div class=\\\"linenodiv\\\"><pre>1\\n2\\n3</pre></div></td><td class=\\\"code\\\"><div class=\\\"highlight\\\"><pre><span></span><span class=\\\"c1\\\">#nl2code: 5.824556</span>\\n<span class=\\\"c1\\\">#code2nl: 1.813120</span>\\n<span class=\\\"p\\\">(</span><span class=\\\"mi\\\">1</span><span class=\\\"p\\\">,)</span>\\n</pre></div>\\n</td></tr></table>\", \"<table class=\\\"highlighttable\\\"><tr><td class=\\\"linenos\\\"><div class=\\\"linenodiv\\\"><pre>1\\n2\\n3</pre></div></td><td class=\\\"code\\\"><div class=\\\"highlight\\\"><pre><span></span><span class=\\\"c1\\\">#nl2code: 16.976289</span>\\n<span class=\\\"c1\\\">#code2nl: 1.907178</span>\\n<span class=\\\"n\\\">my_list</span>\\n</pre></div>\\n</td></tr></table>\", \"<table class=\\\"highlighttable\\\"><tr><td class=\\\"linenos\\\"><div class=\\\"linenodiv\\\"><pre>1\\n2\\n3</pre></div></td><td class=\\\"code\\\"><div class=\\\"highlight\\\"><pre><span></span><span class=\\\"c1\\\">#nl2code: 4.263480</span>\\n<span class=\\\"c1\\\">#code2nl: 1.731453</span>\\n<span class=\\\"p\\\">(</span><span class=\\\"mi\\\">1</span><span class=\\\"p\\\">,</span> <span class=\\\"mi\\\">2</span><span class=\\\"p\\\">,</span> <span class=\\\"mi\\\">3</span><span class=\\\"p\\\">,</span> <span class=\\\"mi\\\">4</span><span class=\\\"p\\\">)</span>\\n</pre></div>\\n</td></tr></table>\", \"<table class=\\\"highlighttable\\\"><tr><td class=\\\"linenos\\\"><div class=\\\"linenodiv\\\"><pre>1\\n2\\n3</pre></div></td><td class=\\\"code\\\"><div class=\\\"highlight\\\"><pre><span></span><span class=\\\"c1\\\">#nl2code: 15.685317</span>\\n<span class=\\\"c1\\\">#code2nl: 1.820405</span>\\n<span class=\\\"nb\\\">len</span>\\n</pre></div>\\n</td></tr></table>\", \"<table class=\\\"highlighttable\\\"><tr><td class=\\\"linenos\\\"><div class=\\\"linenodiv\\\"><pre>1\\n2\\n3</pre></div></td><td class=\\\"code\\\"><div class=\\\"highlight\\\"><pre><span></span><span class=\\\"c1\\\">#nl2code: 13.402839</span>\\n<span class=\\\"c1\\\">#code2nl: 1.831708</span>\\n<span class=\\\"nb\\\">len</span><span class=\\\"p\\\">(</span><span class=\\\"n\\\">my_list</span><span class=\\\"p\\\">)</span>\\n</pre></div>\\n</td></tr></table>\", \"<table class=\\\"highlighttable\\\"><tr><td class=\\\"linenos\\\"><div class=\\\"linenodiv\\\"><pre>1\\n2\\n3</pre></div></td><td class=\\\"code\\\"><div class=\\\"highlight\\\"><pre><span></span><span class=\\\"c1\\\">#nl2code: 3.786064</span>\\n<span class=\\\"c1\\\">#code2nl: 1.753930</span>\\n<span class=\\\"p\\\">(</span><span class=\\\"mi\\\">1</span><span class=\\\"p\\\">,</span> <span class=\\\"mi\\\">2</span><span class=\\\"p\\\">)</span>\\n</pre></div>\\n</td></tr></table>\", \"<table class=\\\"highlighttable\\\"><tr><td class=\\\"linenos\\\"><div class=\\\"linenodiv\\\"><pre>1\\n2\\n3</pre></div></td><td class=\\\"code\\\"><div class=\\\"highlight\\\"><pre><span></span><span class=\\\"c1\\\">#nl2code: 7.677587</span>\\n<span class=\\\"c1\\\">#code2nl: 1.772567</span>\\n<span class=\\\"mi\\\">2</span>\\n</pre></div>\\n</td></tr></table>\", \"<table class=\\\"highlighttable\\\"><tr><td class=\\\"linenos\\\"><div class=\\\"linenodiv\\\"><pre>1\\n2\\n3\\n4</pre></div></td><td class=\\\"code\\\"><div class=\\\"highlight\\\"><pre><span></span><span class=\\\"c1\\\">#nl2code: 6.413996</span>\\n<span class=\\\"c1\\\">#code2nl: 1.815096</span>\\n<span class=\\\"p\\\">[</span><span class=\\\"mi\\\">1</span><span class=\\\"p\\\">,</span> <span class=\\\"mi\\\">2</span><span class=\\\"p\\\">,</span> <span class=\\\"mi\\\">3</span><span class=\\\"p\\\">,</span> <span class=\\\"mi\\\">4</span><span class=\\\"p\\\">,</span> <span class=\\\"mi\\\">5</span><span class=\\\"p\\\">]</span>\\n<span class=\\\"nb\\\">len</span>\\n</pre></div>\\n</td></tr></table>\", \"<table class=\\\"highlighttable\\\"><tr><td class=\\\"linenos\\\"><div class=\\\"linenodiv\\\"><pre>1\\n2\\n3</pre></div></td><td class=\\\"code\\\"><div class=\\\"highlight\\\"><pre><span></span><span class=\\\"c1\\\">#nl2code: 6.212602</span>\\n<span class=\\\"c1\\\">#code2nl: 1.757841</span>\\n<span class=\\\"p\\\">(</span><span class=\\\"mi\\\">4</span><span class=\\\"p\\\">,)</span>\\n</pre></div>\\n</td></tr></table>\", \"<table class=\\\"highlighttable\\\"><tr><td class=\\\"linenos\\\"><div class=\\\"linenodiv\\\"><pre>1\\n2\\n3</pre></div></td><td class=\\\"code\\\"><div class=\\\"highlight\\\"><pre><span></span><span class=\\\"c1\\\">#nl2code: 4.095625</span>\\n<span class=\\\"c1\\\">#code2nl: 1.804043</span>\\n<span class=\\\"p\\\">(</span><span class=\\\"mi\\\">4</span><span class=\\\"p\\\">,</span> <span class=\\\"mi\\\">5</span><span class=\\\"p\\\">)</span>\\n</pre></div>\\n</td></tr></table>\", \"<table class=\\\"highlighttable\\\"><tr><td class=\\\"linenos\\\"><div class=\\\"linenodiv\\\"><pre>1\\n2\\n3</pre></div></td><td class=\\\"code\\\"><div class=\\\"highlight\\\"><pre><span></span><span class=\\\"c1\\\">#nl2code: 5.721272</span>\\n<span class=\\\"c1\\\">#code2nl: 1.801987</span>\\n<span class=\\\"p\\\">(</span><span class=\\\"mi\\\">2</span><span class=\\\"p\\\">,)</span>\\n</pre></div>\\n</td></tr></table>\", \"<table class=\\\"highlighttable\\\"><tr><td class=\\\"linenos\\\"><div class=\\\"linenodiv\\\"><pre>1\\n2\\n3\\n4</pre></div></td><td class=\\\"code\\\"><div class=\\\"highlight\\\"><pre><span></span><span class=\\\"c1\\\">#nl2code: 8.097720</span>\\n<span class=\\\"c1\\\">#code2nl: 1.828560</span>\\n<span class=\\\"p\\\">[</span><span class=\\\"mi\\\">1</span><span class=\\\"p\\\">,</span> <span class=\\\"mi\\\">2</span><span class=\\\"p\\\">,</span> <span class=\\\"mi\\\">3</span><span class=\\\"p\\\">,</span> <span class=\\\"mi\\\">4</span><span class=\\\"p\\\">,</span> <span class=\\\"mi\\\">5</span><span class=\\\"p\\\">]</span>\\n<span class=\\\"nb\\\">len</span><span class=\\\"p\\\">(</span><span class=\\\"n\\\">my_list</span><span class=\\\"p\\\">)</span>\\n</pre></div>\\n</td></tr></table>\"], \"type\": \"htmltooltip\", \"id\": \"el280534698183376\", \"hoffset\": 0}], \"data\": {\"data01\": [[3.747457504272461, 1.770335578918457], [4.282646179199219, 1.8359325408935547], [7.953686882467831, 1.813399887084961], [3.7797508239746094, 1.7387018203735352], [4.263830396864149, 1.756998062133789], [4.669266093860973, 1.8161184310913085], [6.679526646931966, 1.7771276473999023], [7.837972005208333, 1.8587589263916016], [9.039750751696134, 1.8109249114990233], [8.738104502360025, 1.8253669738769531], [4.565302628737229, 1.8001220703125], [3.9590841440054088, 1.8114168167114257], [5.896603266398112, 1.835041618347168], [9.914488474527994, 1.8295490264892578], [7.84475835164388, 1.77221736907959], [3.9483201768663196, 1.709785270690918], [5.82455571492513, 1.8131195068359376], [16.976289367675783, 1.9071783065795898], [4.263480099764737, 1.7314525604248048], [15.685316721598307, 1.8204053878784179], [13.402838706970215, 1.8317081451416015], [3.7860636029924666, 1.7539302825927734], [7.6775868733723955, 1.772566795349121], [6.4139963785807295, 1.8150955200195313], [6.212601979573567, 1.7578414916992187], [4.095624651227679, 1.8040431976318358], [5.721271514892578, 1.801987075805664], [8.09771957397461, 1.8285604476928712]]}, \"id\": \"el280534697682256\"});\n",
       "   }(mpld3);\n",
       "}else if(typeof define === \"function\" && define.amd){\n",
       "   // require.js is available: use it to load d3/mpld3\n",
       "   require.config({paths: {d3: \"https://mpld3.github.io/js/d3.v3.min\"}});\n",
       "   require([\"d3\"], function(d3){\n",
       "      window.d3 = d3;\n",
       "      mpld3_load_lib(\"https://mpld3.github.io/js/mpld3.v0.3.js\", function(){\n",
       "         \n",
       "    mpld3.register_plugin(\"htmltooltip\", HtmlTooltipPlugin);\n",
       "    HtmlTooltipPlugin.prototype = Object.create(mpld3.Plugin.prototype);\n",
       "    HtmlTooltipPlugin.prototype.constructor = HtmlTooltipPlugin;\n",
       "    HtmlTooltipPlugin.prototype.requiredProps = [\"id\"];\n",
       "    HtmlTooltipPlugin.prototype.defaultProps = {labels:null,\n",
       "                                                hoffset:0,\n",
       "                                                voffset:10};\n",
       "    function HtmlTooltipPlugin(fig, props){\n",
       "        mpld3.Plugin.call(this, fig, props);\n",
       "    };\n",
       "\n",
       "    HtmlTooltipPlugin.prototype.draw = function(){\n",
       "       var obj = mpld3.get_element(this.props.id);\n",
       "       var labels = this.props.labels;\n",
       "       var tooltip = d3.select(\"body\").append(\"div\")\n",
       "                    .attr(\"class\", \"mpld3-tooltip\")\n",
       "                    .style(\"position\", \"absolute\")\n",
       "                    .style(\"z-index\", \"10\")\n",
       "                    .style(\"visibility\", \"hidden\");\n",
       "\n",
       "       obj.elements()\n",
       "           .on(\"mouseover\", function(d, i){\n",
       "                              tooltip.html(labels[i])\n",
       "                                     .style(\"visibility\", \"visible\");})\n",
       "           .on(\"mousemove\", function(d, i){\n",
       "                  tooltip\n",
       "                    .style(\"top\", d3.event.pageY + this.props.voffset + \"px\")\n",
       "                    .style(\"left\",d3.event.pageX + this.props.hoffset + \"px\");\n",
       "                 }.bind(this))\n",
       "           .on(\"mouseout\",  function(d, i){\n",
       "                           tooltip.style(\"visibility\", \"hidden\");});\n",
       "    };\n",
       "    \n",
       "         mpld3.draw_figure(\"fig_el2805346976822565117752629\", {\"axes\": [{\"xlim\": [3.080101932607671, 17.643644939340575], \"yscale\": \"linear\", \"axesbg\": \"#EEEEEE\", \"texts\": [{\"v_baseline\": \"hanging\", \"h_anchor\": \"middle\", \"color\": \"#000000\", \"text\": \"P ( Snippet | Intent )\", \"coordinates\": \"axes\", \"zorder\": 3, \"alpha\": 1, \"fontsize\": 10.0, \"position\": [0.5, -0.0772626931567329], \"rotation\": -0.0, \"id\": \"el280534697638224\"}, {\"v_baseline\": \"auto\", \"h_anchor\": \"middle\", \"color\": \"#000000\", \"text\": \"P ( Intent | Snippet )\", \"coordinates\": \"axes\", \"zorder\": 3, \"alpha\": 1, \"fontsize\": 10.0, \"position\": [-0.05981182795698925, 0.5], \"rotation\": -90.0, \"id\": \"el280534697785424\"}, {\"v_baseline\": \"auto\", \"h_anchor\": \"middle\", \"color\": \"#000000\", \"text\": \"Getting the length of an array in Python\", \"coordinates\": \"axes\", \"zorder\": 3, \"alpha\": 1, \"fontsize\": 12.0, \"position\": [0.5, 1.0220750551876379], \"rotation\": -0.0, \"id\": \"el280534697824208\"}], \"zoomable\": true, \"images\": [], \"xdomain\": [3.080101932607671, 17.643644939340575], \"ylim\": [1.6877743385432837, 1.9291892387272243], \"paths\": [], \"sharey\": [], \"sharex\": [], \"axesbgalpha\": null, \"axes\": [{\"scale\": \"linear\", \"tickformat\": null, \"grid\": {\"color\": \"#FFFFFF\", \"alpha\": 1.0, \"dasharray\": \"none\", \"gridOn\": true}, \"visible\": true, \"fontsize\": 10.0, \"position\": \"bottom\", \"nticks\": 9, \"tickvalues\": null}, {\"scale\": \"linear\", \"tickformat\": null, \"grid\": {\"color\": \"#FFFFFF\", \"alpha\": 1.0, \"dasharray\": \"none\", \"gridOn\": true}, \"visible\": true, \"fontsize\": 10.0, \"position\": \"left\", \"nticks\": 7, \"tickvalues\": null}], \"lines\": [], \"markers\": [], \"id\": \"el280534693585872\", \"ydomain\": [1.6877743385432837, 1.9291892387272243], \"collections\": [{\"paths\": [[[[0.0, -0.5], [0.13260155, -0.5], [0.25978993539242673, -0.44731684579412084], [0.3535533905932738, -0.3535533905932738], [0.44731684579412084, -0.25978993539242673], [0.5, -0.13260155], [0.5, 0.0], [0.5, 0.13260155], [0.44731684579412084, 0.25978993539242673], [0.3535533905932738, 0.3535533905932738], [0.25978993539242673, 0.44731684579412084], [0.13260155, 0.5], [0.0, 0.5], [-0.13260155, 0.5], [-0.25978993539242673, 0.44731684579412084], [-0.3535533905932738, 0.3535533905932738], [-0.44731684579412084, 0.25978993539242673], [-0.5, 0.13260155], [-0.5, 0.0], [-0.5, -0.13260155], [-0.44731684579412084, -0.25978993539242673], [-0.3535533905932738, -0.3535533905932738], [-0.25978993539242673, -0.44731684579412084], [-0.13260155, -0.5], [0.0, -0.5]], [\"M\", \"C\", \"C\", \"C\", \"C\", \"C\", \"C\", \"C\", \"C\", \"Z\"]]], \"edgecolors\": [\"#1F77B4\"], \"edgewidths\": [1.0], \"offsets\": \"data01\", \"yindex\": 1, \"id\": \"el280534698183376\", \"pathtransforms\": [[6.0, 0.0, 0.0, 6.0, 0.0, 0.0]], \"pathcoordinates\": \"display\", \"offsetcoordinates\": \"data\", \"zorder\": 1, \"xindex\": 0, \"alphas\": [0.3], \"facecolors\": [\"#1F77B4\"]}], \"xscale\": \"linear\", \"bbox\": [0.125, 0.125, 0.775, 0.755]}], \"height\": 360.0, \"width\": 720.0, \"plugins\": [{\"type\": \"reset\"}, {\"enabled\": false, \"button\": true, \"type\": \"zoom\"}, {\"enabled\": false, \"button\": true, \"type\": \"boxzoom\"}, {\"voffset\": 10, \"labels\": [\"<table class=\\\"highlighttable\\\"><tr><td class=\\\"linenos\\\"><div class=\\\"linenodiv\\\"><pre>1\\n2\\n3</pre></div></td><td class=\\\"code\\\"><div class=\\\"highlight\\\"><pre><span></span><span class=\\\"c1\\\">#nl2code: 3.747458</span>\\n<span class=\\\"c1\\\">#code2nl: 1.770336</span>\\n<span class=\\\"p\\\">(</span><span class=\\\"mi\\\">3</span><span class=\\\"p\\\">,</span> <span class=\\\"mi\\\">4</span><span class=\\\"p\\\">)</span>\\n</pre></div>\\n</td></tr></table>\", \"<table class=\\\"highlighttable\\\"><tr><td class=\\\"linenos\\\"><div class=\\\"linenodiv\\\"><pre>1\\n2\\n3</pre></div></td><td class=\\\"code\\\"><div class=\\\"highlight\\\"><pre><span></span><span class=\\\"c1\\\">#nl2code: 4.282646</span>\\n<span class=\\\"c1\\\">#code2nl: 1.835933</span>\\n<span class=\\\"p\\\">(</span><span class=\\\"mi\\\">3</span><span class=\\\"p\\\">,</span> <span class=\\\"mi\\\">4</span><span class=\\\"p\\\">,</span> <span class=\\\"mi\\\">5</span><span class=\\\"p\\\">)</span>\\n</pre></div>\\n</td></tr></table>\", \"<table class=\\\"highlighttable\\\"><tr><td class=\\\"linenos\\\"><div class=\\\"linenodiv\\\"><pre>1\\n2\\n3</pre></div></td><td class=\\\"code\\\"><div class=\\\"highlight\\\"><pre><span></span><span class=\\\"c1\\\">#nl2code: 7.953687</span>\\n<span class=\\\"c1\\\">#code2nl: 1.813400</span>\\n<span class=\\\"n\\\">my_list</span> <span class=\\\"o\\\">=</span> <span class=\\\"p\\\">[</span><span class=\\\"mi\\\">1</span><span class=\\\"p\\\">,</span> <span class=\\\"mi\\\">2</span><span class=\\\"p\\\">,</span> <span class=\\\"mi\\\">3</span><span class=\\\"p\\\">,</span> <span class=\\\"mi\\\">4</span><span class=\\\"p\\\">,</span> <span class=\\\"mi\\\">5</span><span class=\\\"p\\\">]</span>\\n</pre></div>\\n</td></tr></table>\", \"<table class=\\\"highlighttable\\\"><tr><td class=\\\"linenos\\\"><div class=\\\"linenodiv\\\"><pre>1\\n2\\n3</pre></div></td><td class=\\\"code\\\"><div class=\\\"highlight\\\"><pre><span></span><span class=\\\"c1\\\">#nl2code: 3.779751</span>\\n<span class=\\\"c1\\\">#code2nl: 1.738702</span>\\n<span class=\\\"p\\\">(</span><span class=\\\"mi\\\">2</span><span class=\\\"p\\\">,</span> <span class=\\\"mi\\\">3</span><span class=\\\"p\\\">)</span>\\n</pre></div>\\n</td></tr></table>\", \"<table class=\\\"highlighttable\\\"><tr><td class=\\\"linenos\\\"><div class=\\\"linenodiv\\\"><pre>1\\n2\\n3</pre></div></td><td class=\\\"code\\\"><div class=\\\"highlight\\\"><pre><span></span><span class=\\\"c1\\\">#nl2code: 4.263830</span>\\n<span class=\\\"c1\\\">#code2nl: 1.756998</span>\\n<span class=\\\"p\\\">(</span><span class=\\\"mi\\\">2</span><span class=\\\"p\\\">,</span> <span class=\\\"mi\\\">3</span><span class=\\\"p\\\">,</span> <span class=\\\"mi\\\">4</span><span class=\\\"p\\\">)</span>\\n</pre></div>\\n</td></tr></table>\", \"<table class=\\\"highlighttable\\\"><tr><td class=\\\"linenos\\\"><div class=\\\"linenodiv\\\"><pre>1\\n2\\n3</pre></div></td><td class=\\\"code\\\"><div class=\\\"highlight\\\"><pre><span></span><span class=\\\"c1\\\">#nl2code: 4.669266</span>\\n<span class=\\\"c1\\\">#code2nl: 1.816118</span>\\n<span class=\\\"p\\\">(</span><span class=\\\"mi\\\">2</span><span class=\\\"p\\\">,</span> <span class=\\\"mi\\\">3</span><span class=\\\"p\\\">,</span> <span class=\\\"mi\\\">4</span><span class=\\\"p\\\">,</span> <span class=\\\"mi\\\">5</span><span class=\\\"p\\\">)</span>\\n</pre></div>\\n</td></tr></table>\", \"<table class=\\\"highlighttable\\\"><tr><td class=\\\"linenos\\\"><div class=\\\"linenodiv\\\"><pre>1\\n2\\n3</pre></div></td><td class=\\\"code\\\"><div class=\\\"highlight\\\"><pre><span></span><span class=\\\"c1\\\">#nl2code: 6.679527</span>\\n<span class=\\\"c1\\\">#code2nl: 1.777128</span>\\n<span class=\\\"mi\\\">1</span>\\n</pre></div>\\n</td></tr></table>\", \"<table class=\\\"highlighttable\\\"><tr><td class=\\\"linenos\\\"><div class=\\\"linenodiv\\\"><pre>1\\n2\\n3</pre></div></td><td class=\\\"code\\\"><div class=\\\"highlight\\\"><pre><span></span><span class=\\\"c1\\\">#nl2code: 7.837972</span>\\n<span class=\\\"c1\\\">#code2nl: 1.858759</span>\\n<span class=\\\"mi\\\">3</span>\\n</pre></div>\\n</td></tr></table>\", \"<table class=\\\"highlighttable\\\"><tr><td class=\\\"linenos\\\"><div class=\\\"linenodiv\\\"><pre>1\\n2\\n3\\n4</pre></div></td><td class=\\\"code\\\"><div class=\\\"highlight\\\"><pre><span></span><span class=\\\"c1\\\">#nl2code: 9.039751</span>\\n<span class=\\\"c1\\\">#code2nl: 1.810925</span>\\n<span class=\\\"n\\\">my_list</span> <span class=\\\"o\\\">=</span> <span class=\\\"p\\\">[</span><span class=\\\"mi\\\">1</span><span class=\\\"p\\\">,</span> <span class=\\\"mi\\\">2</span><span class=\\\"p\\\">,</span> <span class=\\\"mi\\\">3</span><span class=\\\"p\\\">,</span> <span class=\\\"mi\\\">4</span><span class=\\\"p\\\">,</span> <span class=\\\"mi\\\">5</span><span class=\\\"p\\\">]</span>\\n<span class=\\\"nb\\\">len</span>\\n</pre></div>\\n</td></tr></table>\", \"<table class=\\\"highlighttable\\\"><tr><td class=\\\"linenos\\\"><div class=\\\"linenodiv\\\"><pre>1\\n2\\n3</pre></div></td><td class=\\\"code\\\"><div class=\\\"highlight\\\"><pre><span></span><span class=\\\"c1\\\">#nl2code: 8.738105</span>\\n<span class=\\\"c1\\\">#code2nl: 1.825367</span>\\n<span class=\\\"mi\\\">5</span>\\n</pre></div>\\n</td></tr></table>\", \"<table class=\\\"highlighttable\\\"><tr><td class=\\\"linenos\\\"><div class=\\\"linenodiv\\\"><pre>1\\n2\\n3</pre></div></td><td class=\\\"code\\\"><div class=\\\"highlight\\\"><pre><span></span><span class=\\\"c1\\\">#nl2code: 4.565303</span>\\n<span class=\\\"c1\\\">#code2nl: 1.800122</span>\\n<span class=\\\"p\\\">(</span><span class=\\\"mi\\\">1</span><span class=\\\"p\\\">,</span> <span class=\\\"mi\\\">2</span><span class=\\\"p\\\">,</span> <span class=\\\"mi\\\">3</span><span class=\\\"p\\\">,</span> <span class=\\\"mi\\\">4</span><span class=\\\"p\\\">,</span> <span class=\\\"mi\\\">5</span><span class=\\\"p\\\">)</span>\\n</pre></div>\\n</td></tr></table>\", \"<table class=\\\"highlighttable\\\"><tr><td class=\\\"linenos\\\"><div class=\\\"linenodiv\\\"><pre>1\\n2\\n3</pre></div></td><td class=\\\"code\\\"><div class=\\\"highlight\\\"><pre><span></span><span class=\\\"c1\\\">#nl2code: 3.959084</span>\\n<span class=\\\"c1\\\">#code2nl: 1.811417</span>\\n<span class=\\\"p\\\">[</span><span class=\\\"mi\\\">1</span><span class=\\\"p\\\">,</span> <span class=\\\"mi\\\">2</span><span class=\\\"p\\\">,</span> <span class=\\\"mi\\\">3</span><span class=\\\"p\\\">,</span> <span class=\\\"mi\\\">4</span><span class=\\\"p\\\">,</span> <span class=\\\"mi\\\">5</span><span class=\\\"p\\\">]</span>\\n</pre></div>\\n</td></tr></table>\", \"<table class=\\\"highlighttable\\\"><tr><td class=\\\"linenos\\\"><div class=\\\"linenodiv\\\"><pre>1\\n2\\n3</pre></div></td><td class=\\\"code\\\"><div class=\\\"highlight\\\"><pre><span></span><span class=\\\"c1\\\">#nl2code: 5.896603</span>\\n<span class=\\\"c1\\\">#code2nl: 1.835042</span>\\n<span class=\\\"p\\\">(</span><span class=\\\"mi\\\">3</span><span class=\\\"p\\\">,)</span>\\n</pre></div>\\n</td></tr></table>\", \"<table class=\\\"highlighttable\\\"><tr><td class=\\\"linenos\\\"><div class=\\\"linenodiv\\\"><pre>1\\n2\\n3\\n4</pre></div></td><td class=\\\"code\\\"><div class=\\\"highlight\\\"><pre><span></span><span class=\\\"c1\\\">#nl2code: 9.914488</span>\\n<span class=\\\"c1\\\">#code2nl: 1.829549</span>\\n<span class=\\\"n\\\">my_list</span> <span class=\\\"o\\\">=</span> <span class=\\\"p\\\">[</span><span class=\\\"mi\\\">1</span><span class=\\\"p\\\">,</span> <span class=\\\"mi\\\">2</span><span class=\\\"p\\\">,</span> <span class=\\\"mi\\\">3</span><span class=\\\"p\\\">,</span> <span class=\\\"mi\\\">4</span><span class=\\\"p\\\">,</span> <span class=\\\"mi\\\">5</span><span class=\\\"p\\\">]</span>\\n<span class=\\\"nb\\\">len</span><span class=\\\"p\\\">(</span><span class=\\\"n\\\">my_list</span><span class=\\\"p\\\">)</span>\\n</pre></div>\\n</td></tr></table>\", \"<table class=\\\"highlighttable\\\"><tr><td class=\\\"linenos\\\"><div class=\\\"linenodiv\\\"><pre>1\\n2\\n3</pre></div></td><td class=\\\"code\\\"><div class=\\\"highlight\\\"><pre><span></span><span class=\\\"c1\\\">#nl2code: 7.844758</span>\\n<span class=\\\"c1\\\">#code2nl: 1.772217</span>\\n<span class=\\\"mi\\\">4</span>\\n</pre></div>\\n</td></tr></table>\", \"<table class=\\\"highlighttable\\\"><tr><td class=\\\"linenos\\\"><div class=\\\"linenodiv\\\"><pre>1\\n2\\n3</pre></div></td><td class=\\\"code\\\"><div class=\\\"highlight\\\"><pre><span></span><span class=\\\"c1\\\">#nl2code: 3.948320</span>\\n<span class=\\\"c1\\\">#code2nl: 1.709785</span>\\n<span class=\\\"p\\\">(</span><span class=\\\"mi\\\">1</span><span class=\\\"p\\\">,</span> <span class=\\\"mi\\\">2</span><span class=\\\"p\\\">,</span> <span class=\\\"mi\\\">3</span><span class=\\\"p\\\">)</span>\\n</pre></div>\\n</td></tr></table>\", \"<table class=\\\"highlighttable\\\"><tr><td class=\\\"linenos\\\"><div class=\\\"linenodiv\\\"><pre>1\\n2\\n3</pre></div></td><td class=\\\"code\\\"><div class=\\\"highlight\\\"><pre><span></span><span class=\\\"c1\\\">#nl2code: 5.824556</span>\\n<span class=\\\"c1\\\">#code2nl: 1.813120</span>\\n<span class=\\\"p\\\">(</span><span class=\\\"mi\\\">1</span><span class=\\\"p\\\">,)</span>\\n</pre></div>\\n</td></tr></table>\", \"<table class=\\\"highlighttable\\\"><tr><td class=\\\"linenos\\\"><div class=\\\"linenodiv\\\"><pre>1\\n2\\n3</pre></div></td><td class=\\\"code\\\"><div class=\\\"highlight\\\"><pre><span></span><span class=\\\"c1\\\">#nl2code: 16.976289</span>\\n<span class=\\\"c1\\\">#code2nl: 1.907178</span>\\n<span class=\\\"n\\\">my_list</span>\\n</pre></div>\\n</td></tr></table>\", \"<table class=\\\"highlighttable\\\"><tr><td class=\\\"linenos\\\"><div class=\\\"linenodiv\\\"><pre>1\\n2\\n3</pre></div></td><td class=\\\"code\\\"><div class=\\\"highlight\\\"><pre><span></span><span class=\\\"c1\\\">#nl2code: 4.263480</span>\\n<span class=\\\"c1\\\">#code2nl: 1.731453</span>\\n<span class=\\\"p\\\">(</span><span class=\\\"mi\\\">1</span><span class=\\\"p\\\">,</span> <span class=\\\"mi\\\">2</span><span class=\\\"p\\\">,</span> <span class=\\\"mi\\\">3</span><span class=\\\"p\\\">,</span> <span class=\\\"mi\\\">4</span><span class=\\\"p\\\">)</span>\\n</pre></div>\\n</td></tr></table>\", \"<table class=\\\"highlighttable\\\"><tr><td class=\\\"linenos\\\"><div class=\\\"linenodiv\\\"><pre>1\\n2\\n3</pre></div></td><td class=\\\"code\\\"><div class=\\\"highlight\\\"><pre><span></span><span class=\\\"c1\\\">#nl2code: 15.685317</span>\\n<span class=\\\"c1\\\">#code2nl: 1.820405</span>\\n<span class=\\\"nb\\\">len</span>\\n</pre></div>\\n</td></tr></table>\", \"<table class=\\\"highlighttable\\\"><tr><td class=\\\"linenos\\\"><div class=\\\"linenodiv\\\"><pre>1\\n2\\n3</pre></div></td><td class=\\\"code\\\"><div class=\\\"highlight\\\"><pre><span></span><span class=\\\"c1\\\">#nl2code: 13.402839</span>\\n<span class=\\\"c1\\\">#code2nl: 1.831708</span>\\n<span class=\\\"nb\\\">len</span><span class=\\\"p\\\">(</span><span class=\\\"n\\\">my_list</span><span class=\\\"p\\\">)</span>\\n</pre></div>\\n</td></tr></table>\", \"<table class=\\\"highlighttable\\\"><tr><td class=\\\"linenos\\\"><div class=\\\"linenodiv\\\"><pre>1\\n2\\n3</pre></div></td><td class=\\\"code\\\"><div class=\\\"highlight\\\"><pre><span></span><span class=\\\"c1\\\">#nl2code: 3.786064</span>\\n<span class=\\\"c1\\\">#code2nl: 1.753930</span>\\n<span class=\\\"p\\\">(</span><span class=\\\"mi\\\">1</span><span class=\\\"p\\\">,</span> <span class=\\\"mi\\\">2</span><span class=\\\"p\\\">)</span>\\n</pre></div>\\n</td></tr></table>\", \"<table class=\\\"highlighttable\\\"><tr><td class=\\\"linenos\\\"><div class=\\\"linenodiv\\\"><pre>1\\n2\\n3</pre></div></td><td class=\\\"code\\\"><div class=\\\"highlight\\\"><pre><span></span><span class=\\\"c1\\\">#nl2code: 7.677587</span>\\n<span class=\\\"c1\\\">#code2nl: 1.772567</span>\\n<span class=\\\"mi\\\">2</span>\\n</pre></div>\\n</td></tr></table>\", \"<table class=\\\"highlighttable\\\"><tr><td class=\\\"linenos\\\"><div class=\\\"linenodiv\\\"><pre>1\\n2\\n3\\n4</pre></div></td><td class=\\\"code\\\"><div class=\\\"highlight\\\"><pre><span></span><span class=\\\"c1\\\">#nl2code: 6.413996</span>\\n<span class=\\\"c1\\\">#code2nl: 1.815096</span>\\n<span class=\\\"p\\\">[</span><span class=\\\"mi\\\">1</span><span class=\\\"p\\\">,</span> <span class=\\\"mi\\\">2</span><span class=\\\"p\\\">,</span> <span class=\\\"mi\\\">3</span><span class=\\\"p\\\">,</span> <span class=\\\"mi\\\">4</span><span class=\\\"p\\\">,</span> <span class=\\\"mi\\\">5</span><span class=\\\"p\\\">]</span>\\n<span class=\\\"nb\\\">len</span>\\n</pre></div>\\n</td></tr></table>\", \"<table class=\\\"highlighttable\\\"><tr><td class=\\\"linenos\\\"><div class=\\\"linenodiv\\\"><pre>1\\n2\\n3</pre></div></td><td class=\\\"code\\\"><div class=\\\"highlight\\\"><pre><span></span><span class=\\\"c1\\\">#nl2code: 6.212602</span>\\n<span class=\\\"c1\\\">#code2nl: 1.757841</span>\\n<span class=\\\"p\\\">(</span><span class=\\\"mi\\\">4</span><span class=\\\"p\\\">,)</span>\\n</pre></div>\\n</td></tr></table>\", \"<table class=\\\"highlighttable\\\"><tr><td class=\\\"linenos\\\"><div class=\\\"linenodiv\\\"><pre>1\\n2\\n3</pre></div></td><td class=\\\"code\\\"><div class=\\\"highlight\\\"><pre><span></span><span class=\\\"c1\\\">#nl2code: 4.095625</span>\\n<span class=\\\"c1\\\">#code2nl: 1.804043</span>\\n<span class=\\\"p\\\">(</span><span class=\\\"mi\\\">4</span><span class=\\\"p\\\">,</span> <span class=\\\"mi\\\">5</span><span class=\\\"p\\\">)</span>\\n</pre></div>\\n</td></tr></table>\", \"<table class=\\\"highlighttable\\\"><tr><td class=\\\"linenos\\\"><div class=\\\"linenodiv\\\"><pre>1\\n2\\n3</pre></div></td><td class=\\\"code\\\"><div class=\\\"highlight\\\"><pre><span></span><span class=\\\"c1\\\">#nl2code: 5.721272</span>\\n<span class=\\\"c1\\\">#code2nl: 1.801987</span>\\n<span class=\\\"p\\\">(</span><span class=\\\"mi\\\">2</span><span class=\\\"p\\\">,)</span>\\n</pre></div>\\n</td></tr></table>\", \"<table class=\\\"highlighttable\\\"><tr><td class=\\\"linenos\\\"><div class=\\\"linenodiv\\\"><pre>1\\n2\\n3\\n4</pre></div></td><td class=\\\"code\\\"><div class=\\\"highlight\\\"><pre><span></span><span class=\\\"c1\\\">#nl2code: 8.097720</span>\\n<span class=\\\"c1\\\">#code2nl: 1.828560</span>\\n<span class=\\\"p\\\">[</span><span class=\\\"mi\\\">1</span><span class=\\\"p\\\">,</span> <span class=\\\"mi\\\">2</span><span class=\\\"p\\\">,</span> <span class=\\\"mi\\\">3</span><span class=\\\"p\\\">,</span> <span class=\\\"mi\\\">4</span><span class=\\\"p\\\">,</span> <span class=\\\"mi\\\">5</span><span class=\\\"p\\\">]</span>\\n<span class=\\\"nb\\\">len</span><span class=\\\"p\\\">(</span><span class=\\\"n\\\">my_list</span><span class=\\\"p\\\">)</span>\\n</pre></div>\\n</td></tr></table>\"], \"type\": \"htmltooltip\", \"id\": \"el280534698183376\", \"hoffset\": 0}], \"data\": {\"data01\": [[3.747457504272461, 1.770335578918457], [4.282646179199219, 1.8359325408935547], [7.953686882467831, 1.813399887084961], [3.7797508239746094, 1.7387018203735352], [4.263830396864149, 1.756998062133789], [4.669266093860973, 1.8161184310913085], [6.679526646931966, 1.7771276473999023], [7.837972005208333, 1.8587589263916016], [9.039750751696134, 1.8109249114990233], [8.738104502360025, 1.8253669738769531], [4.565302628737229, 1.8001220703125], [3.9590841440054088, 1.8114168167114257], [5.896603266398112, 1.835041618347168], [9.914488474527994, 1.8295490264892578], [7.84475835164388, 1.77221736907959], [3.9483201768663196, 1.709785270690918], [5.82455571492513, 1.8131195068359376], [16.976289367675783, 1.9071783065795898], [4.263480099764737, 1.7314525604248048], [15.685316721598307, 1.8204053878784179], [13.402838706970215, 1.8317081451416015], [3.7860636029924666, 1.7539302825927734], [7.6775868733723955, 1.772566795349121], [6.4139963785807295, 1.8150955200195313], [6.212601979573567, 1.7578414916992187], [4.095624651227679, 1.8040431976318358], [5.721271514892578, 1.801987075805664], [8.09771957397461, 1.8285604476928712]]}, \"id\": \"el280534697682256\"});\n",
       "      });\n",
       "    });\n",
       "}else{\n",
       "    // require.js not available: dynamically load d3 & mpld3\n",
       "    mpld3_load_lib(\"https://mpld3.github.io/js/d3.v3.min.js\", function(){\n",
       "         mpld3_load_lib(\"https://mpld3.github.io/js/mpld3.v0.3.js\", function(){\n",
       "                 \n",
       "    mpld3.register_plugin(\"htmltooltip\", HtmlTooltipPlugin);\n",
       "    HtmlTooltipPlugin.prototype = Object.create(mpld3.Plugin.prototype);\n",
       "    HtmlTooltipPlugin.prototype.constructor = HtmlTooltipPlugin;\n",
       "    HtmlTooltipPlugin.prototype.requiredProps = [\"id\"];\n",
       "    HtmlTooltipPlugin.prototype.defaultProps = {labels:null,\n",
       "                                                hoffset:0,\n",
       "                                                voffset:10};\n",
       "    function HtmlTooltipPlugin(fig, props){\n",
       "        mpld3.Plugin.call(this, fig, props);\n",
       "    };\n",
       "\n",
       "    HtmlTooltipPlugin.prototype.draw = function(){\n",
       "       var obj = mpld3.get_element(this.props.id);\n",
       "       var labels = this.props.labels;\n",
       "       var tooltip = d3.select(\"body\").append(\"div\")\n",
       "                    .attr(\"class\", \"mpld3-tooltip\")\n",
       "                    .style(\"position\", \"absolute\")\n",
       "                    .style(\"z-index\", \"10\")\n",
       "                    .style(\"visibility\", \"hidden\");\n",
       "\n",
       "       obj.elements()\n",
       "           .on(\"mouseover\", function(d, i){\n",
       "                              tooltip.html(labels[i])\n",
       "                                     .style(\"visibility\", \"visible\");})\n",
       "           .on(\"mousemove\", function(d, i){\n",
       "                  tooltip\n",
       "                    .style(\"top\", d3.event.pageY + this.props.voffset + \"px\")\n",
       "                    .style(\"left\",d3.event.pageX + this.props.hoffset + \"px\");\n",
       "                 }.bind(this))\n",
       "           .on(\"mouseout\",  function(d, i){\n",
       "                           tooltip.style(\"visibility\", \"hidden\");});\n",
       "    };\n",
       "    \n",
       "                 mpld3.draw_figure(\"fig_el2805346976822565117752629\", {\"axes\": [{\"xlim\": [3.080101932607671, 17.643644939340575], \"yscale\": \"linear\", \"axesbg\": \"#EEEEEE\", \"texts\": [{\"v_baseline\": \"hanging\", \"h_anchor\": \"middle\", \"color\": \"#000000\", \"text\": \"P ( Snippet | Intent )\", \"coordinates\": \"axes\", \"zorder\": 3, \"alpha\": 1, \"fontsize\": 10.0, \"position\": [0.5, -0.0772626931567329], \"rotation\": -0.0, \"id\": \"el280534697638224\"}, {\"v_baseline\": \"auto\", \"h_anchor\": \"middle\", \"color\": \"#000000\", \"text\": \"P ( Intent | Snippet )\", \"coordinates\": \"axes\", \"zorder\": 3, \"alpha\": 1, \"fontsize\": 10.0, \"position\": [-0.05981182795698925, 0.5], \"rotation\": -90.0, \"id\": \"el280534697785424\"}, {\"v_baseline\": \"auto\", \"h_anchor\": \"middle\", \"color\": \"#000000\", \"text\": \"Getting the length of an array in Python\", \"coordinates\": \"axes\", \"zorder\": 3, \"alpha\": 1, \"fontsize\": 12.0, \"position\": [0.5, 1.0220750551876379], \"rotation\": -0.0, \"id\": \"el280534697824208\"}], \"zoomable\": true, \"images\": [], \"xdomain\": [3.080101932607671, 17.643644939340575], \"ylim\": [1.6877743385432837, 1.9291892387272243], \"paths\": [], \"sharey\": [], \"sharex\": [], \"axesbgalpha\": null, \"axes\": [{\"scale\": \"linear\", \"tickformat\": null, \"grid\": {\"color\": \"#FFFFFF\", \"alpha\": 1.0, \"dasharray\": \"none\", \"gridOn\": true}, \"visible\": true, \"fontsize\": 10.0, \"position\": \"bottom\", \"nticks\": 9, \"tickvalues\": null}, {\"scale\": \"linear\", \"tickformat\": null, \"grid\": {\"color\": \"#FFFFFF\", \"alpha\": 1.0, \"dasharray\": \"none\", \"gridOn\": true}, \"visible\": true, \"fontsize\": 10.0, \"position\": \"left\", \"nticks\": 7, \"tickvalues\": null}], \"lines\": [], \"markers\": [], \"id\": \"el280534693585872\", \"ydomain\": [1.6877743385432837, 1.9291892387272243], \"collections\": [{\"paths\": [[[[0.0, -0.5], [0.13260155, -0.5], [0.25978993539242673, -0.44731684579412084], [0.3535533905932738, -0.3535533905932738], [0.44731684579412084, -0.25978993539242673], [0.5, -0.13260155], [0.5, 0.0], [0.5, 0.13260155], [0.44731684579412084, 0.25978993539242673], [0.3535533905932738, 0.3535533905932738], [0.25978993539242673, 0.44731684579412084], [0.13260155, 0.5], [0.0, 0.5], [-0.13260155, 0.5], [-0.25978993539242673, 0.44731684579412084], [-0.3535533905932738, 0.3535533905932738], [-0.44731684579412084, 0.25978993539242673], [-0.5, 0.13260155], [-0.5, 0.0], [-0.5, -0.13260155], [-0.44731684579412084, -0.25978993539242673], [-0.3535533905932738, -0.3535533905932738], [-0.25978993539242673, -0.44731684579412084], [-0.13260155, -0.5], [0.0, -0.5]], [\"M\", \"C\", \"C\", \"C\", \"C\", \"C\", \"C\", \"C\", \"C\", \"Z\"]]], \"edgecolors\": [\"#1F77B4\"], \"edgewidths\": [1.0], \"offsets\": \"data01\", \"yindex\": 1, \"id\": \"el280534698183376\", \"pathtransforms\": [[6.0, 0.0, 0.0, 6.0, 0.0, 0.0]], \"pathcoordinates\": \"display\", \"offsetcoordinates\": \"data\", \"zorder\": 1, \"xindex\": 0, \"alphas\": [0.3], \"facecolors\": [\"#1F77B4\"]}], \"xscale\": \"linear\", \"bbox\": [0.125, 0.125, 0.775, 0.755]}], \"height\": 360.0, \"width\": 720.0, \"plugins\": [{\"type\": \"reset\"}, {\"enabled\": false, \"button\": true, \"type\": \"zoom\"}, {\"enabled\": false, \"button\": true, \"type\": \"boxzoom\"}, {\"voffset\": 10, \"labels\": [\"<table class=\\\"highlighttable\\\"><tr><td class=\\\"linenos\\\"><div class=\\\"linenodiv\\\"><pre>1\\n2\\n3</pre></div></td><td class=\\\"code\\\"><div class=\\\"highlight\\\"><pre><span></span><span class=\\\"c1\\\">#nl2code: 3.747458</span>\\n<span class=\\\"c1\\\">#code2nl: 1.770336</span>\\n<span class=\\\"p\\\">(</span><span class=\\\"mi\\\">3</span><span class=\\\"p\\\">,</span> <span class=\\\"mi\\\">4</span><span class=\\\"p\\\">)</span>\\n</pre></div>\\n</td></tr></table>\", \"<table class=\\\"highlighttable\\\"><tr><td class=\\\"linenos\\\"><div class=\\\"linenodiv\\\"><pre>1\\n2\\n3</pre></div></td><td class=\\\"code\\\"><div class=\\\"highlight\\\"><pre><span></span><span class=\\\"c1\\\">#nl2code: 4.282646</span>\\n<span class=\\\"c1\\\">#code2nl: 1.835933</span>\\n<span class=\\\"p\\\">(</span><span class=\\\"mi\\\">3</span><span class=\\\"p\\\">,</span> <span class=\\\"mi\\\">4</span><span class=\\\"p\\\">,</span> <span class=\\\"mi\\\">5</span><span class=\\\"p\\\">)</span>\\n</pre></div>\\n</td></tr></table>\", \"<table class=\\\"highlighttable\\\"><tr><td class=\\\"linenos\\\"><div class=\\\"linenodiv\\\"><pre>1\\n2\\n3</pre></div></td><td class=\\\"code\\\"><div class=\\\"highlight\\\"><pre><span></span><span class=\\\"c1\\\">#nl2code: 7.953687</span>\\n<span class=\\\"c1\\\">#code2nl: 1.813400</span>\\n<span class=\\\"n\\\">my_list</span> <span class=\\\"o\\\">=</span> <span class=\\\"p\\\">[</span><span class=\\\"mi\\\">1</span><span class=\\\"p\\\">,</span> <span class=\\\"mi\\\">2</span><span class=\\\"p\\\">,</span> <span class=\\\"mi\\\">3</span><span class=\\\"p\\\">,</span> <span class=\\\"mi\\\">4</span><span class=\\\"p\\\">,</span> <span class=\\\"mi\\\">5</span><span class=\\\"p\\\">]</span>\\n</pre></div>\\n</td></tr></table>\", \"<table class=\\\"highlighttable\\\"><tr><td class=\\\"linenos\\\"><div class=\\\"linenodiv\\\"><pre>1\\n2\\n3</pre></div></td><td class=\\\"code\\\"><div class=\\\"highlight\\\"><pre><span></span><span class=\\\"c1\\\">#nl2code: 3.779751</span>\\n<span class=\\\"c1\\\">#code2nl: 1.738702</span>\\n<span class=\\\"p\\\">(</span><span class=\\\"mi\\\">2</span><span class=\\\"p\\\">,</span> <span class=\\\"mi\\\">3</span><span class=\\\"p\\\">)</span>\\n</pre></div>\\n</td></tr></table>\", \"<table class=\\\"highlighttable\\\"><tr><td class=\\\"linenos\\\"><div class=\\\"linenodiv\\\"><pre>1\\n2\\n3</pre></div></td><td class=\\\"code\\\"><div class=\\\"highlight\\\"><pre><span></span><span class=\\\"c1\\\">#nl2code: 4.263830</span>\\n<span class=\\\"c1\\\">#code2nl: 1.756998</span>\\n<span class=\\\"p\\\">(</span><span class=\\\"mi\\\">2</span><span class=\\\"p\\\">,</span> <span class=\\\"mi\\\">3</span><span class=\\\"p\\\">,</span> <span class=\\\"mi\\\">4</span><span class=\\\"p\\\">)</span>\\n</pre></div>\\n</td></tr></table>\", \"<table class=\\\"highlighttable\\\"><tr><td class=\\\"linenos\\\"><div class=\\\"linenodiv\\\"><pre>1\\n2\\n3</pre></div></td><td class=\\\"code\\\"><div class=\\\"highlight\\\"><pre><span></span><span class=\\\"c1\\\">#nl2code: 4.669266</span>\\n<span class=\\\"c1\\\">#code2nl: 1.816118</span>\\n<span class=\\\"p\\\">(</span><span class=\\\"mi\\\">2</span><span class=\\\"p\\\">,</span> <span class=\\\"mi\\\">3</span><span class=\\\"p\\\">,</span> <span class=\\\"mi\\\">4</span><span class=\\\"p\\\">,</span> <span class=\\\"mi\\\">5</span><span class=\\\"p\\\">)</span>\\n</pre></div>\\n</td></tr></table>\", \"<table class=\\\"highlighttable\\\"><tr><td class=\\\"linenos\\\"><div class=\\\"linenodiv\\\"><pre>1\\n2\\n3</pre></div></td><td class=\\\"code\\\"><div class=\\\"highlight\\\"><pre><span></span><span class=\\\"c1\\\">#nl2code: 6.679527</span>\\n<span class=\\\"c1\\\">#code2nl: 1.777128</span>\\n<span class=\\\"mi\\\">1</span>\\n</pre></div>\\n</td></tr></table>\", \"<table class=\\\"highlighttable\\\"><tr><td class=\\\"linenos\\\"><div class=\\\"linenodiv\\\"><pre>1\\n2\\n3</pre></div></td><td class=\\\"code\\\"><div class=\\\"highlight\\\"><pre><span></span><span class=\\\"c1\\\">#nl2code: 7.837972</span>\\n<span class=\\\"c1\\\">#code2nl: 1.858759</span>\\n<span class=\\\"mi\\\">3</span>\\n</pre></div>\\n</td></tr></table>\", \"<table class=\\\"highlighttable\\\"><tr><td class=\\\"linenos\\\"><div class=\\\"linenodiv\\\"><pre>1\\n2\\n3\\n4</pre></div></td><td class=\\\"code\\\"><div class=\\\"highlight\\\"><pre><span></span><span class=\\\"c1\\\">#nl2code: 9.039751</span>\\n<span class=\\\"c1\\\">#code2nl: 1.810925</span>\\n<span class=\\\"n\\\">my_list</span> <span class=\\\"o\\\">=</span> <span class=\\\"p\\\">[</span><span class=\\\"mi\\\">1</span><span class=\\\"p\\\">,</span> <span class=\\\"mi\\\">2</span><span class=\\\"p\\\">,</span> <span class=\\\"mi\\\">3</span><span class=\\\"p\\\">,</span> <span class=\\\"mi\\\">4</span><span class=\\\"p\\\">,</span> <span class=\\\"mi\\\">5</span><span class=\\\"p\\\">]</span>\\n<span class=\\\"nb\\\">len</span>\\n</pre></div>\\n</td></tr></table>\", \"<table class=\\\"highlighttable\\\"><tr><td class=\\\"linenos\\\"><div class=\\\"linenodiv\\\"><pre>1\\n2\\n3</pre></div></td><td class=\\\"code\\\"><div class=\\\"highlight\\\"><pre><span></span><span class=\\\"c1\\\">#nl2code: 8.738105</span>\\n<span class=\\\"c1\\\">#code2nl: 1.825367</span>\\n<span class=\\\"mi\\\">5</span>\\n</pre></div>\\n</td></tr></table>\", \"<table class=\\\"highlighttable\\\"><tr><td class=\\\"linenos\\\"><div class=\\\"linenodiv\\\"><pre>1\\n2\\n3</pre></div></td><td class=\\\"code\\\"><div class=\\\"highlight\\\"><pre><span></span><span class=\\\"c1\\\">#nl2code: 4.565303</span>\\n<span class=\\\"c1\\\">#code2nl: 1.800122</span>\\n<span class=\\\"p\\\">(</span><span class=\\\"mi\\\">1</span><span class=\\\"p\\\">,</span> <span class=\\\"mi\\\">2</span><span class=\\\"p\\\">,</span> <span class=\\\"mi\\\">3</span><span class=\\\"p\\\">,</span> <span class=\\\"mi\\\">4</span><span class=\\\"p\\\">,</span> <span class=\\\"mi\\\">5</span><span class=\\\"p\\\">)</span>\\n</pre></div>\\n</td></tr></table>\", \"<table class=\\\"highlighttable\\\"><tr><td class=\\\"linenos\\\"><div class=\\\"linenodiv\\\"><pre>1\\n2\\n3</pre></div></td><td class=\\\"code\\\"><div class=\\\"highlight\\\"><pre><span></span><span class=\\\"c1\\\">#nl2code: 3.959084</span>\\n<span class=\\\"c1\\\">#code2nl: 1.811417</span>\\n<span class=\\\"p\\\">[</span><span class=\\\"mi\\\">1</span><span class=\\\"p\\\">,</span> <span class=\\\"mi\\\">2</span><span class=\\\"p\\\">,</span> <span class=\\\"mi\\\">3</span><span class=\\\"p\\\">,</span> <span class=\\\"mi\\\">4</span><span class=\\\"p\\\">,</span> <span class=\\\"mi\\\">5</span><span class=\\\"p\\\">]</span>\\n</pre></div>\\n</td></tr></table>\", \"<table class=\\\"highlighttable\\\"><tr><td class=\\\"linenos\\\"><div class=\\\"linenodiv\\\"><pre>1\\n2\\n3</pre></div></td><td class=\\\"code\\\"><div class=\\\"highlight\\\"><pre><span></span><span class=\\\"c1\\\">#nl2code: 5.896603</span>\\n<span class=\\\"c1\\\">#code2nl: 1.835042</span>\\n<span class=\\\"p\\\">(</span><span class=\\\"mi\\\">3</span><span class=\\\"p\\\">,)</span>\\n</pre></div>\\n</td></tr></table>\", \"<table class=\\\"highlighttable\\\"><tr><td class=\\\"linenos\\\"><div class=\\\"linenodiv\\\"><pre>1\\n2\\n3\\n4</pre></div></td><td class=\\\"code\\\"><div class=\\\"highlight\\\"><pre><span></span><span class=\\\"c1\\\">#nl2code: 9.914488</span>\\n<span class=\\\"c1\\\">#code2nl: 1.829549</span>\\n<span class=\\\"n\\\">my_list</span> <span class=\\\"o\\\">=</span> <span class=\\\"p\\\">[</span><span class=\\\"mi\\\">1</span><span class=\\\"p\\\">,</span> <span class=\\\"mi\\\">2</span><span class=\\\"p\\\">,</span> <span class=\\\"mi\\\">3</span><span class=\\\"p\\\">,</span> <span class=\\\"mi\\\">4</span><span class=\\\"p\\\">,</span> <span class=\\\"mi\\\">5</span><span class=\\\"p\\\">]</span>\\n<span class=\\\"nb\\\">len</span><span class=\\\"p\\\">(</span><span class=\\\"n\\\">my_list</span><span class=\\\"p\\\">)</span>\\n</pre></div>\\n</td></tr></table>\", \"<table class=\\\"highlighttable\\\"><tr><td class=\\\"linenos\\\"><div class=\\\"linenodiv\\\"><pre>1\\n2\\n3</pre></div></td><td class=\\\"code\\\"><div class=\\\"highlight\\\"><pre><span></span><span class=\\\"c1\\\">#nl2code: 7.844758</span>\\n<span class=\\\"c1\\\">#code2nl: 1.772217</span>\\n<span class=\\\"mi\\\">4</span>\\n</pre></div>\\n</td></tr></table>\", \"<table class=\\\"highlighttable\\\"><tr><td class=\\\"linenos\\\"><div class=\\\"linenodiv\\\"><pre>1\\n2\\n3</pre></div></td><td class=\\\"code\\\"><div class=\\\"highlight\\\"><pre><span></span><span class=\\\"c1\\\">#nl2code: 3.948320</span>\\n<span class=\\\"c1\\\">#code2nl: 1.709785</span>\\n<span class=\\\"p\\\">(</span><span class=\\\"mi\\\">1</span><span class=\\\"p\\\">,</span> <span class=\\\"mi\\\">2</span><span class=\\\"p\\\">,</span> <span class=\\\"mi\\\">3</span><span class=\\\"p\\\">)</span>\\n</pre></div>\\n</td></tr></table>\", \"<table class=\\\"highlighttable\\\"><tr><td class=\\\"linenos\\\"><div class=\\\"linenodiv\\\"><pre>1\\n2\\n3</pre></div></td><td class=\\\"code\\\"><div class=\\\"highlight\\\"><pre><span></span><span class=\\\"c1\\\">#nl2code: 5.824556</span>\\n<span class=\\\"c1\\\">#code2nl: 1.813120</span>\\n<span class=\\\"p\\\">(</span><span class=\\\"mi\\\">1</span><span class=\\\"p\\\">,)</span>\\n</pre></div>\\n</td></tr></table>\", \"<table class=\\\"highlighttable\\\"><tr><td class=\\\"linenos\\\"><div class=\\\"linenodiv\\\"><pre>1\\n2\\n3</pre></div></td><td class=\\\"code\\\"><div class=\\\"highlight\\\"><pre><span></span><span class=\\\"c1\\\">#nl2code: 16.976289</span>\\n<span class=\\\"c1\\\">#code2nl: 1.907178</span>\\n<span class=\\\"n\\\">my_list</span>\\n</pre></div>\\n</td></tr></table>\", \"<table class=\\\"highlighttable\\\"><tr><td class=\\\"linenos\\\"><div class=\\\"linenodiv\\\"><pre>1\\n2\\n3</pre></div></td><td class=\\\"code\\\"><div class=\\\"highlight\\\"><pre><span></span><span class=\\\"c1\\\">#nl2code: 4.263480</span>\\n<span class=\\\"c1\\\">#code2nl: 1.731453</span>\\n<span class=\\\"p\\\">(</span><span class=\\\"mi\\\">1</span><span class=\\\"p\\\">,</span> <span class=\\\"mi\\\">2</span><span class=\\\"p\\\">,</span> <span class=\\\"mi\\\">3</span><span class=\\\"p\\\">,</span> <span class=\\\"mi\\\">4</span><span class=\\\"p\\\">)</span>\\n</pre></div>\\n</td></tr></table>\", \"<table class=\\\"highlighttable\\\"><tr><td class=\\\"linenos\\\"><div class=\\\"linenodiv\\\"><pre>1\\n2\\n3</pre></div></td><td class=\\\"code\\\"><div class=\\\"highlight\\\"><pre><span></span><span class=\\\"c1\\\">#nl2code: 15.685317</span>\\n<span class=\\\"c1\\\">#code2nl: 1.820405</span>\\n<span class=\\\"nb\\\">len</span>\\n</pre></div>\\n</td></tr></table>\", \"<table class=\\\"highlighttable\\\"><tr><td class=\\\"linenos\\\"><div class=\\\"linenodiv\\\"><pre>1\\n2\\n3</pre></div></td><td class=\\\"code\\\"><div class=\\\"highlight\\\"><pre><span></span><span class=\\\"c1\\\">#nl2code: 13.402839</span>\\n<span class=\\\"c1\\\">#code2nl: 1.831708</span>\\n<span class=\\\"nb\\\">len</span><span class=\\\"p\\\">(</span><span class=\\\"n\\\">my_list</span><span class=\\\"p\\\">)</span>\\n</pre></div>\\n</td></tr></table>\", \"<table class=\\\"highlighttable\\\"><tr><td class=\\\"linenos\\\"><div class=\\\"linenodiv\\\"><pre>1\\n2\\n3</pre></div></td><td class=\\\"code\\\"><div class=\\\"highlight\\\"><pre><span></span><span class=\\\"c1\\\">#nl2code: 3.786064</span>\\n<span class=\\\"c1\\\">#code2nl: 1.753930</span>\\n<span class=\\\"p\\\">(</span><span class=\\\"mi\\\">1</span><span class=\\\"p\\\">,</span> <span class=\\\"mi\\\">2</span><span class=\\\"p\\\">)</span>\\n</pre></div>\\n</td></tr></table>\", \"<table class=\\\"highlighttable\\\"><tr><td class=\\\"linenos\\\"><div class=\\\"linenodiv\\\"><pre>1\\n2\\n3</pre></div></td><td class=\\\"code\\\"><div class=\\\"highlight\\\"><pre><span></span><span class=\\\"c1\\\">#nl2code: 7.677587</span>\\n<span class=\\\"c1\\\">#code2nl: 1.772567</span>\\n<span class=\\\"mi\\\">2</span>\\n</pre></div>\\n</td></tr></table>\", \"<table class=\\\"highlighttable\\\"><tr><td class=\\\"linenos\\\"><div class=\\\"linenodiv\\\"><pre>1\\n2\\n3\\n4</pre></div></td><td class=\\\"code\\\"><div class=\\\"highlight\\\"><pre><span></span><span class=\\\"c1\\\">#nl2code: 6.413996</span>\\n<span class=\\\"c1\\\">#code2nl: 1.815096</span>\\n<span class=\\\"p\\\">[</span><span class=\\\"mi\\\">1</span><span class=\\\"p\\\">,</span> <span class=\\\"mi\\\">2</span><span class=\\\"p\\\">,</span> <span class=\\\"mi\\\">3</span><span class=\\\"p\\\">,</span> <span class=\\\"mi\\\">4</span><span class=\\\"p\\\">,</span> <span class=\\\"mi\\\">5</span><span class=\\\"p\\\">]</span>\\n<span class=\\\"nb\\\">len</span>\\n</pre></div>\\n</td></tr></table>\", \"<table class=\\\"highlighttable\\\"><tr><td class=\\\"linenos\\\"><div class=\\\"linenodiv\\\"><pre>1\\n2\\n3</pre></div></td><td class=\\\"code\\\"><div class=\\\"highlight\\\"><pre><span></span><span class=\\\"c1\\\">#nl2code: 6.212602</span>\\n<span class=\\\"c1\\\">#code2nl: 1.757841</span>\\n<span class=\\\"p\\\">(</span><span class=\\\"mi\\\">4</span><span class=\\\"p\\\">,)</span>\\n</pre></div>\\n</td></tr></table>\", \"<table class=\\\"highlighttable\\\"><tr><td class=\\\"linenos\\\"><div class=\\\"linenodiv\\\"><pre>1\\n2\\n3</pre></div></td><td class=\\\"code\\\"><div class=\\\"highlight\\\"><pre><span></span><span class=\\\"c1\\\">#nl2code: 4.095625</span>\\n<span class=\\\"c1\\\">#code2nl: 1.804043</span>\\n<span class=\\\"p\\\">(</span><span class=\\\"mi\\\">4</span><span class=\\\"p\\\">,</span> <span class=\\\"mi\\\">5</span><span class=\\\"p\\\">)</span>\\n</pre></div>\\n</td></tr></table>\", \"<table class=\\\"highlighttable\\\"><tr><td class=\\\"linenos\\\"><div class=\\\"linenodiv\\\"><pre>1\\n2\\n3</pre></div></td><td class=\\\"code\\\"><div class=\\\"highlight\\\"><pre><span></span><span class=\\\"c1\\\">#nl2code: 5.721272</span>\\n<span class=\\\"c1\\\">#code2nl: 1.801987</span>\\n<span class=\\\"p\\\">(</span><span class=\\\"mi\\\">2</span><span class=\\\"p\\\">,)</span>\\n</pre></div>\\n</td></tr></table>\", \"<table class=\\\"highlighttable\\\"><tr><td class=\\\"linenos\\\"><div class=\\\"linenodiv\\\"><pre>1\\n2\\n3\\n4</pre></div></td><td class=\\\"code\\\"><div class=\\\"highlight\\\"><pre><span></span><span class=\\\"c1\\\">#nl2code: 8.097720</span>\\n<span class=\\\"c1\\\">#code2nl: 1.828560</span>\\n<span class=\\\"p\\\">[</span><span class=\\\"mi\\\">1</span><span class=\\\"p\\\">,</span> <span class=\\\"mi\\\">2</span><span class=\\\"p\\\">,</span> <span class=\\\"mi\\\">3</span><span class=\\\"p\\\">,</span> <span class=\\\"mi\\\">4</span><span class=\\\"p\\\">,</span> <span class=\\\"mi\\\">5</span><span class=\\\"p\\\">]</span>\\n<span class=\\\"nb\\\">len</span><span class=\\\"p\\\">(</span><span class=\\\"n\\\">my_list</span><span class=\\\"p\\\">)</span>\\n</pre></div>\\n</td></tr></table>\"], \"type\": \"htmltooltip\", \"id\": \"el280534698183376\", \"hoffset\": 0}], \"data\": {\"data01\": [[3.747457504272461, 1.770335578918457], [4.282646179199219, 1.8359325408935547], [7.953686882467831, 1.813399887084961], [3.7797508239746094, 1.7387018203735352], [4.263830396864149, 1.756998062133789], [4.669266093860973, 1.8161184310913085], [6.679526646931966, 1.7771276473999023], [7.837972005208333, 1.8587589263916016], [9.039750751696134, 1.8109249114990233], [8.738104502360025, 1.8253669738769531], [4.565302628737229, 1.8001220703125], [3.9590841440054088, 1.8114168167114257], [5.896603266398112, 1.835041618347168], [9.914488474527994, 1.8295490264892578], [7.84475835164388, 1.77221736907959], [3.9483201768663196, 1.709785270690918], [5.82455571492513, 1.8131195068359376], [16.976289367675783, 1.9071783065795898], [4.263480099764737, 1.7314525604248048], [15.685316721598307, 1.8204053878784179], [13.402838706970215, 1.8317081451416015], [3.7860636029924666, 1.7539302825927734], [7.6775868733723955, 1.772566795349121], [6.4139963785807295, 1.8150955200195313], [6.212601979573567, 1.7578414916992187], [4.095624651227679, 1.8040431976318358], [5.721271514892578, 1.801987075805664], [8.09771957397461, 1.8285604476928712]]}, \"id\": \"el280534697682256\"});\n",
       "            })\n",
       "         });\n",
       "}\n",
       "</script>"
      ],
      "text/plain": [
       "<IPython.core.display.HTML object>"
      ]
     },
     "execution_count": 34,
     "metadata": {},
     "output_type": "execute_result"
    }
   ],
   "source": [
    "visiualize(nl, snippets, likelihoods)"
   ]
  },
  {
   "cell_type": "code",
   "execution_count": null,
   "metadata": {
    "collapsed": true
   },
   "outputs": [],
   "source": []
  }
 ],
 "metadata": {
  "kernelspec": {
   "display_name": "Python 2",
   "language": "python",
   "name": "python2"
  },
  "language_info": {
   "codemirror_mode": {
    "name": "ipython",
    "version": 2
   },
   "file_extension": ".py",
   "mimetype": "text/x-python",
   "name": "python",
   "nbconvert_exporter": "python",
   "pygments_lexer": "ipython2",
   "version": "2.7.13"
  }
 },
 "nbformat": 4,
 "nbformat_minor": 2
}
