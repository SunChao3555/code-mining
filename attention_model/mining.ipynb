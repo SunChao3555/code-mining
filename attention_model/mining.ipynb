{
 "cells": [
  {
   "cell_type": "code",
   "execution_count": 1,
   "metadata": {
    "collapsed": true
   },
   "outputs": [],
   "source": [
    "%matplotlib inline\n",
    "import matplotlib.pyplot as plt\n",
    "import numpy as np\n",
    "import mpld3\n",
    "\n",
    "mpld3.enable_notebook()"
   ]
  },
  {
   "cell_type": "code",
   "execution_count": 2,
   "metadata": {
    "collapsed": true
   },
   "outputs": [],
   "source": [
    "from pygments import highlight\n",
    "from pygments.lexers import PythonLexer\n",
    "from pygments.formatters import HtmlFormatter"
   ]
  },
  {
   "cell_type": "code",
   "execution_count": 3,
   "metadata": {},
   "outputs": [],
   "source": [
    "from attention import load_model\n",
    "from vocab import tokenize_nl, load_vocabs, tok_type2id, START, END, UNK, SKIP_TOKENS\n",
    "from py2_tokenize import tokenize_code\n",
    "import dynet as dy\n",
    "import math\n",
    "from itertools import chain, combinations\n",
    "from asttokens import ASTTokens\n",
    "from copy import deepcopy\n",
    "from itertools import product\n",
    "import astor\n",
    "import ast\n",
    "from _ast import stmt, Pass, If, TryExcept, TryFinally"
   ]
  },
  {
   "cell_type": "code",
   "execution_count": 4,
   "metadata": {
    "collapsed": true
   },
   "outputs": [],
   "source": [
    "code2nl_model, code2nl_translator = load_model('code2nl_0419113212_model_dmp')\n",
    "nl2code_model, nl2code_translator = load_model('nl2code_0419113223_model_dmp')"
   ]
  },
  {
   "cell_type": "code",
   "execution_count": 5,
   "metadata": {
    "collapsed": true
   },
   "outputs": [],
   "source": [
    "nl_voc2wid, nl_wid2voc, code_voc2wid, code_wid2voc = load_vocabs('./vocab.dmp')"
   ]
  },
  {
   "cell_type": "code",
   "execution_count": 6,
   "metadata": {
    "collapsed": true
   },
   "outputs": [],
   "source": [
    "def lookup_nl(seqs):\n",
    "    return [[(START,)] + map(lambda w:(nl_voc2wid[w],), seq) + [(END,)] for seq in seqs]"
   ]
  },
  {
   "cell_type": "code",
   "execution_count": 7,
   "metadata": {
    "collapsed": true
   },
   "outputs": [],
   "source": [
    "def lookup_code(seqs):\n",
    "    return [[(0, START)] + map(lambda w:(tok_type2id[w[0]], nl_voc2wid[w[1]]), seq) + [(0, END)] for seq in seqs]"
   ]
  },
  {
   "cell_type": "code",
   "execution_count": 8,
   "metadata": {
    "collapsed": true
   },
   "outputs": [],
   "source": [
    "def lookup_code(seqs):\n",
    "    return [[(0, START)] + map(lambda w:(w[0], nl_voc2wid[w[1]]), seq) + [(0, END)] for seq in seqs]"
   ]
  },
  {
   "cell_type": "code",
   "execution_count": 9,
   "metadata": {
    "collapsed": true
   },
   "outputs": [],
   "source": [
    "def bi_likelihood(nl, code):\n",
    "    dy.renew_cg()\n",
    "    nl = tokenize_nl(nl)\n",
    "    code = [(token_type, token_literal) for token_type, token_literal in tokenize_code(code) if token_type not in SKIP_TOKENS]\n",
    "    nl = lookup_nl([nl])\n",
    "    code = lookup_code([code])\n",
    "    nl2code_prob = nl2code_translator.calc_loss(nl, code, training=False)\n",
    "    code2nl_prob = code2nl_translator.calc_loss(code, nl, training=False)\n",
    "    return (nl2code_prob.value() / sum(map(len, code)), code2nl_prob.value() / sum(map(len, nl)))"
   ]
  },
  {
   "cell_type": "code",
   "execution_count": 10,
   "metadata": {
    "collapsed": true
   },
   "outputs": [],
   "source": [
    "def powerset(iterable):\n",
    "    s = list(iterable)\n",
    "    return chain.from_iterable(combinations(s, r) for r in range(len(s)+1))"
   ]
  },
  {
   "cell_type": "code",
   "execution_count": 11,
   "metadata": {
    "collapsed": true
   },
   "outputs": [],
   "source": [
    "def subsets(s):\n",
    "    return map(list, powerset(s))"
   ]
  },
  {
   "cell_type": "code",
   "execution_count": 12,
   "metadata": {
    "collapsed": true
   },
   "outputs": [],
   "source": [
    "def sub_snippets(code_snippet):\n",
    "    tree = ast.parse(code_snippet)\n",
    "    \n",
    "    def _subs(node, name=None):\n",
    "        if isinstance(node, ast.AST):\n",
    "            field_values = []\n",
    "            field_names = []\n",
    "            for subname, subnode in ast.iter_fields(node):\n",
    "                subvalues = list(_subs(subnode, subname))\n",
    "                if len(subvalues) > 0:\n",
    "                    field_names.append(subname)\n",
    "                    field_values.append(subvalues)\n",
    "            count = 0\n",
    "            for values in product(*field_values):\n",
    "                newnode = deepcopy(node)\n",
    "                for name, value in zip(field_names, values):\n",
    "                    setattr(newnode, name, value)\n",
    "                count += 1\n",
    "                if isinstance(newnode, If) and len(newnode.orelse) == 0 and isinstance(newnode.body[0], Pass):\n",
    "                    yield newnode.test\n",
    "                    continue\n",
    "                if isinstance(newnode, TryExcept) and len(newnode.orelse) == 0 and isinstance(newnode.body[0], Pass):\n",
    "                    continue\n",
    "                if isinstance(newnode, TryFinally) and isinstance(newnode.body[0], Pass) and isinstance(newnode.finalbody[0], Pass):\n",
    "                    continue\n",
    "                yield newnode\n",
    "            if count == 0:\n",
    "                yield node\n",
    "        elif isinstance(node, list):\n",
    "            if len(node) == 0:\n",
    "                yield node\n",
    "                return\n",
    "            values = [list(_subs(x)) for x in node]\n",
    "            stat_count = len(node)\n",
    "            for subset in subsets(range(stat_count)) if isinstance(node[0], stmt) else [range(stat_count)]:\n",
    "                if stat_count >= len(subset) > 0:\n",
    "                    for stat_list in product(*map(lambda x:values[x], subset)):\n",
    "                        yield list(stat_list)\n",
    "                else:\n",
    "                    if name in ('body', 'finalbody') and len(node) > 0:\n",
    "                        yield [ast.parse(\"pass\").body[0]]\n",
    "                    if name == 'orelse':\n",
    "                        yield []\n",
    "        else:\n",
    "            yield node\n",
    "    \n",
    "    sub_snippet_set = set()\n",
    "    \n",
    "    for node in _subs(tree):\n",
    "        sub_snippet_set.add(astor.to_source(node))\n",
    "    \n",
    "    return sub_snippet_set"
   ]
  },
  {
   "cell_type": "code",
   "execution_count": 13,
   "metadata": {
    "collapsed": true
   },
   "outputs": [],
   "source": [
    "def getHtml(code):\n",
    "    formatter = HtmlFormatter(linenos=True)\n",
    "    return highlight(code, PythonLexer(), formatter)"
   ]
  },
  {
   "cell_type": "code",
   "execution_count": 14,
   "metadata": {
    "collapsed": true
   },
   "outputs": [],
   "source": [
    "def visiualize(nl, snippets, likelihoods):\n",
    "    fig, ax = plt.subplots(subplot_kw=dict(axisbg='#EEEEEE'), figsize=(10,5))\n",
    "    ax.set_xlabel('P ( Snippet | Intent )')\n",
    "    ax.set_ylabel('P ( Intent | Snippet )')\n",
    "    ax.set_title(nl)\n",
    "    n2c, c2n = map(list, zip(*likelihoods))\n",
    "    scatter = ax.scatter(n2c,\n",
    "                         c2n,\n",
    "                         alpha=0.3,\n",
    "                         cmap=plt.cm.jet)\n",
    "    ax.grid(color='white', linestyle='solid')\n",
    "    css = HtmlFormatter().get_style_defs('.highlight')\n",
    "    labels = map(lambda x:getHtml('#nl2code: %f\\n#code2nl: %f\\n%s' % (x[0][0], x[0][1], x[1])), zip(likelihoods, snippets))\n",
    "    tooltip = mpld3.plugins.PointHTMLTooltip(scatter, labels, css=css)\n",
    "    mpld3.plugins.connect(fig, tooltip)\n",
    "    return mpld3.display()"
   ]
  },
  {
   "cell_type": "code",
   "execution_count": 15,
   "metadata": {
    "collapsed": true
   },
   "outputs": [],
   "source": [
    "#http://162.243.20.48:7788/post/306400\n",
    "nl = '''How do I randomly select an item from a list using Python?'''\n",
    "code = '''import random\n",
    "\n",
    "foo = ['a', 'b', 'c', 'd', 'e']\n",
    "print(random.choice(foo))'''"
   ]
  },
  {
   "cell_type": "code",
   "execution_count": 16,
   "metadata": {
    "collapsed": true
   },
   "outputs": [],
   "source": [
    "#http://162.243.20.48:7788/post/120656\n",
    "nl = '''Directory listing in Python'''\n",
    "code = '''import os\n",
    "from os import listdir\n",
    "\n",
    "for filename in os.listdir(\"C:\\\\temp\"):\n",
    "    print  filename'''"
   ]
  },
  {
   "cell_type": "code",
   "execution_count": 17,
   "metadata": {
    "collapsed": true
   },
   "outputs": [],
   "source": [
    "#https://stackoverflow.com/questions/610883/how-to-know-if-an-object-has-an-attribute-in-python\n",
    "nl = '''How to know if an object has an attribute in Python'''\n",
    "code = '''if hasattr(a, 'property'):\n",
    "    a.property'''"
   ]
  },
  {
   "cell_type": "code",
   "execution_count": 18,
   "metadata": {
    "collapsed": true
   },
   "outputs": [],
   "source": [
    "#https://stackoverflow.com/questions/610883/how-to-know-if-an-object-has-an-attribute-in-python\n",
    "nl = '''How to know if an object has an attribute in Python'''\n",
    "code = '''if hasattr(a, 'property'):\n",
    "    doStuff(a.property)\n",
    "else:\n",
    "    otherStuff()'''"
   ]
  },
  {
   "cell_type": "code",
   "execution_count": 19,
   "metadata": {
    "collapsed": true
   },
   "outputs": [],
   "source": [
    "#http://162.243.20.48:7788/post/306400\n",
    "nl = '''Getting the length of an array in Python'''\n",
    "code = '''my_list = [1,2,3,4,5]\n",
    "print 'test'\n",
    "len(my_list)'''"
   ]
  },
  {
   "cell_type": "code",
   "execution_count": 20,
   "metadata": {},
   "outputs": [],
   "source": [
    "snippets = list(sub_snippets(code))\n",
    "likelihoods = [bi_likelihood(nl, code) for code in snippets]"
   ]
  },
  {
   "cell_type": "code",
   "execution_count": 22,
   "metadata": {},
   "outputs": [
    {
     "data": {
      "text/html": [
       "\n",
       "\n",
       "<style>\n",
       ".highlight .hll { background-color: #ffffcc }\n",
       ".highlight  { background: #f8f8f8; }\n",
       ".highlight .c { color: #408080; font-style: italic } /* Comment */\n",
       ".highlight .err { border: 1px solid #FF0000 } /* Error */\n",
       ".highlight .k { color: #008000; font-weight: bold } /* Keyword */\n",
       ".highlight .o { color: #666666 } /* Operator */\n",
       ".highlight .ch { color: #408080; font-style: italic } /* Comment.Hashbang */\n",
       ".highlight .cm { color: #408080; font-style: italic } /* Comment.Multiline */\n",
       ".highlight .cp { color: #BC7A00 } /* Comment.Preproc */\n",
       ".highlight .cpf { color: #408080; font-style: italic } /* Comment.PreprocFile */\n",
       ".highlight .c1 { color: #408080; font-style: italic } /* Comment.Single */\n",
       ".highlight .cs { color: #408080; font-style: italic } /* Comment.Special */\n",
       ".highlight .gd { color: #A00000 } /* Generic.Deleted */\n",
       ".highlight .ge { font-style: italic } /* Generic.Emph */\n",
       ".highlight .gr { color: #FF0000 } /* Generic.Error */\n",
       ".highlight .gh { color: #000080; font-weight: bold } /* Generic.Heading */\n",
       ".highlight .gi { color: #00A000 } /* Generic.Inserted */\n",
       ".highlight .go { color: #888888 } /* Generic.Output */\n",
       ".highlight .gp { color: #000080; font-weight: bold } /* Generic.Prompt */\n",
       ".highlight .gs { font-weight: bold } /* Generic.Strong */\n",
       ".highlight .gu { color: #800080; font-weight: bold } /* Generic.Subheading */\n",
       ".highlight .gt { color: #0044DD } /* Generic.Traceback */\n",
       ".highlight .kc { color: #008000; font-weight: bold } /* Keyword.Constant */\n",
       ".highlight .kd { color: #008000; font-weight: bold } /* Keyword.Declaration */\n",
       ".highlight .kn { color: #008000; font-weight: bold } /* Keyword.Namespace */\n",
       ".highlight .kp { color: #008000 } /* Keyword.Pseudo */\n",
       ".highlight .kr { color: #008000; font-weight: bold } /* Keyword.Reserved */\n",
       ".highlight .kt { color: #B00040 } /* Keyword.Type */\n",
       ".highlight .m { color: #666666 } /* Literal.Number */\n",
       ".highlight .s { color: #BA2121 } /* Literal.String */\n",
       ".highlight .na { color: #7D9029 } /* Name.Attribute */\n",
       ".highlight .nb { color: #008000 } /* Name.Builtin */\n",
       ".highlight .nc { color: #0000FF; font-weight: bold } /* Name.Class */\n",
       ".highlight .no { color: #880000 } /* Name.Constant */\n",
       ".highlight .nd { color: #AA22FF } /* Name.Decorator */\n",
       ".highlight .ni { color: #999999; font-weight: bold } /* Name.Entity */\n",
       ".highlight .ne { color: #D2413A; font-weight: bold } /* Name.Exception */\n",
       ".highlight .nf { color: #0000FF } /* Name.Function */\n",
       ".highlight .nl { color: #A0A000 } /* Name.Label */\n",
       ".highlight .nn { color: #0000FF; font-weight: bold } /* Name.Namespace */\n",
       ".highlight .nt { color: #008000; font-weight: bold } /* Name.Tag */\n",
       ".highlight .nv { color: #19177C } /* Name.Variable */\n",
       ".highlight .ow { color: #AA22FF; font-weight: bold } /* Operator.Word */\n",
       ".highlight .w { color: #bbbbbb } /* Text.Whitespace */\n",
       ".highlight .mb { color: #666666 } /* Literal.Number.Bin */\n",
       ".highlight .mf { color: #666666 } /* Literal.Number.Float */\n",
       ".highlight .mh { color: #666666 } /* Literal.Number.Hex */\n",
       ".highlight .mi { color: #666666 } /* Literal.Number.Integer */\n",
       ".highlight .mo { color: #666666 } /* Literal.Number.Oct */\n",
       ".highlight .sa { color: #BA2121 } /* Literal.String.Affix */\n",
       ".highlight .sb { color: #BA2121 } /* Literal.String.Backtick */\n",
       ".highlight .sc { color: #BA2121 } /* Literal.String.Char */\n",
       ".highlight .dl { color: #BA2121 } /* Literal.String.Delimiter */\n",
       ".highlight .sd { color: #BA2121; font-style: italic } /* Literal.String.Doc */\n",
       ".highlight .s2 { color: #BA2121 } /* Literal.String.Double */\n",
       ".highlight .se { color: #BB6622; font-weight: bold } /* Literal.String.Escape */\n",
       ".highlight .sh { color: #BA2121 } /* Literal.String.Heredoc */\n",
       ".highlight .si { color: #BB6688; font-weight: bold } /* Literal.String.Interpol */\n",
       ".highlight .sx { color: #008000 } /* Literal.String.Other */\n",
       ".highlight .sr { color: #BB6688 } /* Literal.String.Regex */\n",
       ".highlight .s1 { color: #BA2121 } /* Literal.String.Single */\n",
       ".highlight .ss { color: #19177C } /* Literal.String.Symbol */\n",
       ".highlight .bp { color: #008000 } /* Name.Builtin.Pseudo */\n",
       ".highlight .fm { color: #0000FF } /* Name.Function.Magic */\n",
       ".highlight .vc { color: #19177C } /* Name.Variable.Class */\n",
       ".highlight .vg { color: #19177C } /* Name.Variable.Global */\n",
       ".highlight .vi { color: #19177C } /* Name.Variable.Instance */\n",
       ".highlight .vm { color: #19177C } /* Name.Variable.Magic */\n",
       ".highlight .il { color: #666666 } /* Literal.Number.Integer.Long */\n",
       "</style>\n",
       "\n",
       "<div id=\"fig_el8698544101818407397663091\"></div>\n",
       "<script>\n",
       "function mpld3_load_lib(url, callback){\n",
       "  var s = document.createElement('script');\n",
       "  s.src = url;\n",
       "  s.async = true;\n",
       "  s.onreadystatechange = s.onload = callback;\n",
       "  s.onerror = function(){console.warn(\"failed to load library \" + url);};\n",
       "  document.getElementsByTagName(\"head\")[0].appendChild(s);\n",
       "}\n",
       "\n",
       "if(typeof(mpld3) !== \"undefined\" && mpld3._mpld3IsLoaded){\n",
       "   // already loaded: just create the figure\n",
       "   !function(mpld3){\n",
       "       \n",
       "    mpld3.register_plugin(\"htmltooltip\", HtmlTooltipPlugin);\n",
       "    HtmlTooltipPlugin.prototype = Object.create(mpld3.Plugin.prototype);\n",
       "    HtmlTooltipPlugin.prototype.constructor = HtmlTooltipPlugin;\n",
       "    HtmlTooltipPlugin.prototype.requiredProps = [\"id\"];\n",
       "    HtmlTooltipPlugin.prototype.defaultProps = {labels:null,\n",
       "                                                hoffset:0,\n",
       "                                                voffset:10};\n",
       "    function HtmlTooltipPlugin(fig, props){\n",
       "        mpld3.Plugin.call(this, fig, props);\n",
       "    };\n",
       "\n",
       "    HtmlTooltipPlugin.prototype.draw = function(){\n",
       "       var obj = mpld3.get_element(this.props.id);\n",
       "       var labels = this.props.labels;\n",
       "       var tooltip = d3.select(\"body\").append(\"div\")\n",
       "                    .attr(\"class\", \"mpld3-tooltip\")\n",
       "                    .style(\"position\", \"absolute\")\n",
       "                    .style(\"z-index\", \"10\")\n",
       "                    .style(\"visibility\", \"hidden\");\n",
       "\n",
       "       obj.elements()\n",
       "           .on(\"mouseover\", function(d, i){\n",
       "                              tooltip.html(labels[i])\n",
       "                                     .style(\"visibility\", \"visible\");})\n",
       "           .on(\"mousemove\", function(d, i){\n",
       "                  tooltip\n",
       "                    .style(\"top\", d3.event.pageY + this.props.voffset + \"px\")\n",
       "                    .style(\"left\",d3.event.pageX + this.props.hoffset + \"px\");\n",
       "                 }.bind(this))\n",
       "           .on(\"mouseout\",  function(d, i){\n",
       "                           tooltip.style(\"visibility\", \"hidden\");});\n",
       "    };\n",
       "    \n",
       "       mpld3.draw_figure(\"fig_el8698544101818407397663091\", {\"axes\": [{\"xlim\": [1.294541496358892, 3.830831072407384], \"yscale\": \"linear\", \"axesbg\": \"#EEEEEE\", \"texts\": [{\"v_baseline\": \"hanging\", \"h_anchor\": \"middle\", \"color\": \"#000000\", \"text\": \"P ( Snippet | Intent )\", \"coordinates\": \"axes\", \"zorder\": 3, \"alpha\": 1, \"fontsize\": 10.0, \"position\": [0.5, -0.0772626931567329], \"rotation\": -0.0, \"id\": \"el869854410179664\"}, {\"v_baseline\": \"auto\", \"h_anchor\": \"middle\", \"color\": \"#000000\", \"text\": \"P ( Intent | Snippet )\", \"coordinates\": \"axes\", \"zorder\": 3, \"alpha\": 1, \"fontsize\": 10.0, \"position\": [-0.04838709677419355, 0.5], \"rotation\": -90.0, \"id\": \"el869854410536208\"}, {\"v_baseline\": \"auto\", \"h_anchor\": \"middle\", \"color\": \"#000000\", \"text\": \"Getting the length of an array in Python\", \"coordinates\": \"axes\", \"zorder\": 3, \"alpha\": 1, \"fontsize\": 12.0, \"position\": [0.5, 1.0220750551876379], \"rotation\": -0.0, \"id\": \"el869854410579152\"}], \"zoomable\": true, \"images\": [], \"xdomain\": [1.294541496358892, 3.830831072407384], \"ylim\": [1.721272301494944, 2.620659613788259], \"paths\": [], \"sharey\": [], \"sharex\": [], \"axesbgalpha\": null, \"axes\": [{\"scale\": \"linear\", \"tickformat\": null, \"grid\": {\"color\": \"#FFFFFF\", \"alpha\": 1.0, \"dasharray\": \"none\", \"gridOn\": true}, \"visible\": true, \"fontsize\": 10.0, \"position\": \"bottom\", \"nticks\": 7, \"tickvalues\": null}, {\"scale\": \"linear\", \"tickformat\": null, \"grid\": {\"color\": \"#FFFFFF\", \"alpha\": 1.0, \"dasharray\": \"none\", \"gridOn\": true}, \"visible\": true, \"fontsize\": 10.0, \"position\": \"left\", \"nticks\": 11, \"tickvalues\": null}], \"lines\": [], \"markers\": [], \"id\": \"el869854410278352\", \"ydomain\": [1.721272301494944, 2.620659613788259], \"collections\": [{\"paths\": [[[[0.0, -0.5], [0.13260155, -0.5], [0.25978993539242673, -0.44731684579412084], [0.3535533905932738, -0.3535533905932738], [0.44731684579412084, -0.25978993539242673], [0.5, -0.13260155], [0.5, 0.0], [0.5, 0.13260155], [0.44731684579412084, 0.25978993539242673], [0.3535533905932738, 0.3535533905932738], [0.25978993539242673, 0.44731684579412084], [0.13260155, 0.5], [0.0, 0.5], [-0.13260155, 0.5], [-0.25978993539242673, 0.44731684579412084], [-0.3535533905932738, 0.3535533905932738], [-0.44731684579412084, 0.25978993539242673], [-0.5, 0.13260155], [-0.5, 0.0], [-0.5, -0.13260155], [-0.44731684579412084, -0.25978993539242673], [-0.3535533905932738, -0.3535533905932738], [-0.25978993539242673, -0.44731684579412084], [-0.13260155, -0.5], [0.0, -0.5]], [\"M\", \"C\", \"C\", \"C\", \"C\", \"C\", \"C\", \"C\", \"C\", \"Z\"]]], \"edgecolors\": [\"#1F77B4\"], \"edgewidths\": [1.0], \"offsets\": \"data01\", \"yindex\": 1, \"id\": \"el869854410935568\", \"pathtransforms\": [[6.0, 0.0, 0.0, 6.0, 0.0, 0.0]], \"pathcoordinates\": \"display\", \"offsetcoordinates\": \"data\", \"zorder\": 1, \"xindex\": 0, \"alphas\": [0.3], \"facecolors\": [\"#1F77B4\"]}], \"xscale\": \"linear\", \"bbox\": [0.125, 0.125, 0.775, 0.755]}], \"height\": 360.0, \"width\": 720.0, \"plugins\": [{\"type\": \"reset\"}, {\"enabled\": false, \"button\": true, \"type\": \"zoom\"}, {\"enabled\": false, \"button\": true, \"type\": \"boxzoom\"}, {\"voffset\": 10, \"labels\": [\"<table class=\\\"highlighttable\\\"><tr><td class=\\\"linenos\\\"><div class=\\\"linenodiv\\\"><pre>1\\n2\\n3\\n4\\n5</pre></div></td><td class=\\\"code\\\"><div class=\\\"highlight\\\"><pre><span></span><span class=\\\"c1\\\">#nl2code: 1.626634</span>\\n<span class=\\\"c1\\\">#code2nl: 1.796289</span>\\n<span class=\\\"n\\\">my_list</span> <span class=\\\"o\\\">=</span> <span class=\\\"p\\\">[</span><span class=\\\"mi\\\">1</span><span class=\\\"p\\\">,</span> <span class=\\\"mi\\\">2</span><span class=\\\"p\\\">,</span> <span class=\\\"mi\\\">3</span><span class=\\\"p\\\">,</span> <span class=\\\"mi\\\">4</span><span class=\\\"p\\\">,</span> <span class=\\\"mi\\\">5</span><span class=\\\"p\\\">]</span>\\n<span class=\\\"k\\\">print</span> <span class=\\\"s1\\\">&#39;test&#39;</span>\\n<span class=\\\"nb\\\">len</span><span class=\\\"p\\\">(</span><span class=\\\"n\\\">my_list</span><span class=\\\"p\\\">)</span>\\n</pre></div>\\n</td></tr></table>\", \"<table class=\\\"highlighttable\\\"><tr><td class=\\\"linenos\\\"><div class=\\\"linenodiv\\\"><pre>1\\n2\\n3\\n4</pre></div></td><td class=\\\"code\\\"><div class=\\\"highlight\\\"><pre><span></span><span class=\\\"c1\\\">#nl2code: 1.680976</span>\\n<span class=\\\"c1\\\">#code2nl: 1.783083</span>\\n<span class=\\\"n\\\">my_list</span> <span class=\\\"o\\\">=</span> <span class=\\\"p\\\">[</span><span class=\\\"mi\\\">1</span><span class=\\\"p\\\">,</span> <span class=\\\"mi\\\">2</span><span class=\\\"p\\\">,</span> <span class=\\\"mi\\\">3</span><span class=\\\"p\\\">,</span> <span class=\\\"mi\\\">4</span><span class=\\\"p\\\">,</span> <span class=\\\"mi\\\">5</span><span class=\\\"p\\\">]</span>\\n<span class=\\\"k\\\">print</span> <span class=\\\"s1\\\">&#39;test&#39;</span>\\n</pre></div>\\n</td></tr></table>\", \"<table class=\\\"highlighttable\\\"><tr><td class=\\\"linenos\\\"><div class=\\\"linenodiv\\\"><pre>1\\n2\\n3</pre></div></td><td class=\\\"code\\\"><div class=\\\"highlight\\\"><pre><span></span><span class=\\\"c1\\\">#nl2code: 1.910145</span>\\n<span class=\\\"c1\\\">#code2nl: 1.773191</span>\\n<span class=\\\"nb\\\">len</span><span class=\\\"p\\\">(</span><span class=\\\"n\\\">my_list</span><span class=\\\"p\\\">)</span>\\n</pre></div>\\n</td></tr></table>\", \"<table class=\\\"highlighttable\\\"><tr><td class=\\\"linenos\\\"><div class=\\\"linenodiv\\\"><pre>1\\n2\\n3</pre></div></td><td class=\\\"code\\\"><div class=\\\"highlight\\\"><pre><span></span><span class=\\\"c1\\\">#nl2code: 3.524258</span>\\n<span class=\\\"c1\\\">#code2nl: 2.449356</span>\\n<span class=\\\"k\\\">print</span> <span class=\\\"s1\\\">&#39;test&#39;</span>\\n</pre></div>\\n</td></tr></table>\", \"<table class=\\\"highlighttable\\\"><tr><td class=\\\"linenos\\\"><div class=\\\"linenodiv\\\"><pre>1\\n2\\n3</pre></div></td><td class=\\\"code\\\"><div class=\\\"highlight\\\"><pre><span></span><span class=\\\"c1\\\">#nl2code: 3.710169</span>\\n<span class=\\\"c1\\\">#code2nl: 2.568741</span>\\n<span class=\\\"k\\\">pass</span>\\n</pre></div>\\n</td></tr></table>\", \"<table class=\\\"highlighttable\\\"><tr><td class=\\\"linenos\\\"><div class=\\\"linenodiv\\\"><pre>1\\n2\\n3</pre></div></td><td class=\\\"code\\\"><div class=\\\"highlight\\\"><pre><span></span><span class=\\\"c1\\\">#nl2code: 1.678129</span>\\n<span class=\\\"c1\\\">#code2nl: 1.795472</span>\\n<span class=\\\"n\\\">my_list</span> <span class=\\\"o\\\">=</span> <span class=\\\"p\\\">[</span><span class=\\\"mi\\\">1</span><span class=\\\"p\\\">,</span> <span class=\\\"mi\\\">2</span><span class=\\\"p\\\">,</span> <span class=\\\"mi\\\">3</span><span class=\\\"p\\\">,</span> <span class=\\\"mi\\\">4</span><span class=\\\"p\\\">,</span> <span class=\\\"mi\\\">5</span><span class=\\\"p\\\">]</span>\\n</pre></div>\\n</td></tr></table>\", \"<table class=\\\"highlighttable\\\"><tr><td class=\\\"linenos\\\"><div class=\\\"linenodiv\\\"><pre>1\\n2\\n3\\n4</pre></div></td><td class=\\\"code\\\"><div class=\\\"highlight\\\"><pre><span></span><span class=\\\"c1\\\">#nl2code: 2.298330</span>\\n<span class=\\\"c1\\\">#code2nl: 1.783261</span>\\n<span class=\\\"k\\\">print</span> <span class=\\\"s1\\\">&#39;test&#39;</span>\\n<span class=\\\"nb\\\">len</span><span class=\\\"p\\\">(</span><span class=\\\"n\\\">my_list</span><span class=\\\"p\\\">)</span>\\n</pre></div>\\n</td></tr></table>\", \"<table class=\\\"highlighttable\\\"><tr><td class=\\\"linenos\\\"><div class=\\\"linenodiv\\\"><pre>1\\n2\\n3\\n4</pre></div></td><td class=\\\"code\\\"><div class=\\\"highlight\\\"><pre><span></span><span class=\\\"c1\\\">#nl2code: 1.415204</span>\\n<span class=\\\"c1\\\">#code2nl: 1.808764</span>\\n<span class=\\\"n\\\">my_list</span> <span class=\\\"o\\\">=</span> <span class=\\\"p\\\">[</span><span class=\\\"mi\\\">1</span><span class=\\\"p\\\">,</span> <span class=\\\"mi\\\">2</span><span class=\\\"p\\\">,</span> <span class=\\\"mi\\\">3</span><span class=\\\"p\\\">,</span> <span class=\\\"mi\\\">4</span><span class=\\\"p\\\">,</span> <span class=\\\"mi\\\">5</span><span class=\\\"p\\\">]</span>\\n<span class=\\\"nb\\\">len</span><span class=\\\"p\\\">(</span><span class=\\\"n\\\">my_list</span><span class=\\\"p\\\">)</span>\\n</pre></div>\\n</td></tr></table>\"], \"type\": \"htmltooltip\", \"id\": \"el869854410935568\", \"hoffset\": 0}], \"data\": {\"data01\": [[1.6266342445656106, 1.7962894439697266], [1.6809764862060548, 1.7830833435058593], [1.9101452827453613, 1.7731910705566407], [3.5242581367492676, 2.449356269836426], [3.7101688385009766, 2.5687408447265625], [1.6781290839700138, 1.7954715728759765], [2.298329786820845, 1.7832612991333008], [1.4152037302652996, 1.8087635040283203]]}, \"id\": \"el869854410181840\"});\n",
       "   }(mpld3);\n",
       "}else if(typeof define === \"function\" && define.amd){\n",
       "   // require.js is available: use it to load d3/mpld3\n",
       "   require.config({paths: {d3: \"https://mpld3.github.io/js/d3.v3.min\"}});\n",
       "   require([\"d3\"], function(d3){\n",
       "      window.d3 = d3;\n",
       "      mpld3_load_lib(\"https://mpld3.github.io/js/mpld3.v0.3.js\", function(){\n",
       "         \n",
       "    mpld3.register_plugin(\"htmltooltip\", HtmlTooltipPlugin);\n",
       "    HtmlTooltipPlugin.prototype = Object.create(mpld3.Plugin.prototype);\n",
       "    HtmlTooltipPlugin.prototype.constructor = HtmlTooltipPlugin;\n",
       "    HtmlTooltipPlugin.prototype.requiredProps = [\"id\"];\n",
       "    HtmlTooltipPlugin.prototype.defaultProps = {labels:null,\n",
       "                                                hoffset:0,\n",
       "                                                voffset:10};\n",
       "    function HtmlTooltipPlugin(fig, props){\n",
       "        mpld3.Plugin.call(this, fig, props);\n",
       "    };\n",
       "\n",
       "    HtmlTooltipPlugin.prototype.draw = function(){\n",
       "       var obj = mpld3.get_element(this.props.id);\n",
       "       var labels = this.props.labels;\n",
       "       var tooltip = d3.select(\"body\").append(\"div\")\n",
       "                    .attr(\"class\", \"mpld3-tooltip\")\n",
       "                    .style(\"position\", \"absolute\")\n",
       "                    .style(\"z-index\", \"10\")\n",
       "                    .style(\"visibility\", \"hidden\");\n",
       "\n",
       "       obj.elements()\n",
       "           .on(\"mouseover\", function(d, i){\n",
       "                              tooltip.html(labels[i])\n",
       "                                     .style(\"visibility\", \"visible\");})\n",
       "           .on(\"mousemove\", function(d, i){\n",
       "                  tooltip\n",
       "                    .style(\"top\", d3.event.pageY + this.props.voffset + \"px\")\n",
       "                    .style(\"left\",d3.event.pageX + this.props.hoffset + \"px\");\n",
       "                 }.bind(this))\n",
       "           .on(\"mouseout\",  function(d, i){\n",
       "                           tooltip.style(\"visibility\", \"hidden\");});\n",
       "    };\n",
       "    \n",
       "         mpld3.draw_figure(\"fig_el8698544101818407397663091\", {\"axes\": [{\"xlim\": [1.294541496358892, 3.830831072407384], \"yscale\": \"linear\", \"axesbg\": \"#EEEEEE\", \"texts\": [{\"v_baseline\": \"hanging\", \"h_anchor\": \"middle\", \"color\": \"#000000\", \"text\": \"P ( Snippet | Intent )\", \"coordinates\": \"axes\", \"zorder\": 3, \"alpha\": 1, \"fontsize\": 10.0, \"position\": [0.5, -0.0772626931567329], \"rotation\": -0.0, \"id\": \"el869854410179664\"}, {\"v_baseline\": \"auto\", \"h_anchor\": \"middle\", \"color\": \"#000000\", \"text\": \"P ( Intent | Snippet )\", \"coordinates\": \"axes\", \"zorder\": 3, \"alpha\": 1, \"fontsize\": 10.0, \"position\": [-0.04838709677419355, 0.5], \"rotation\": -90.0, \"id\": \"el869854410536208\"}, {\"v_baseline\": \"auto\", \"h_anchor\": \"middle\", \"color\": \"#000000\", \"text\": \"Getting the length of an array in Python\", \"coordinates\": \"axes\", \"zorder\": 3, \"alpha\": 1, \"fontsize\": 12.0, \"position\": [0.5, 1.0220750551876379], \"rotation\": -0.0, \"id\": \"el869854410579152\"}], \"zoomable\": true, \"images\": [], \"xdomain\": [1.294541496358892, 3.830831072407384], \"ylim\": [1.721272301494944, 2.620659613788259], \"paths\": [], \"sharey\": [], \"sharex\": [], \"axesbgalpha\": null, \"axes\": [{\"scale\": \"linear\", \"tickformat\": null, \"grid\": {\"color\": \"#FFFFFF\", \"alpha\": 1.0, \"dasharray\": \"none\", \"gridOn\": true}, \"visible\": true, \"fontsize\": 10.0, \"position\": \"bottom\", \"nticks\": 7, \"tickvalues\": null}, {\"scale\": \"linear\", \"tickformat\": null, \"grid\": {\"color\": \"#FFFFFF\", \"alpha\": 1.0, \"dasharray\": \"none\", \"gridOn\": true}, \"visible\": true, \"fontsize\": 10.0, \"position\": \"left\", \"nticks\": 11, \"tickvalues\": null}], \"lines\": [], \"markers\": [], \"id\": \"el869854410278352\", \"ydomain\": [1.721272301494944, 2.620659613788259], \"collections\": [{\"paths\": [[[[0.0, -0.5], [0.13260155, -0.5], [0.25978993539242673, -0.44731684579412084], [0.3535533905932738, -0.3535533905932738], [0.44731684579412084, -0.25978993539242673], [0.5, -0.13260155], [0.5, 0.0], [0.5, 0.13260155], [0.44731684579412084, 0.25978993539242673], [0.3535533905932738, 0.3535533905932738], [0.25978993539242673, 0.44731684579412084], [0.13260155, 0.5], [0.0, 0.5], [-0.13260155, 0.5], [-0.25978993539242673, 0.44731684579412084], [-0.3535533905932738, 0.3535533905932738], [-0.44731684579412084, 0.25978993539242673], [-0.5, 0.13260155], [-0.5, 0.0], [-0.5, -0.13260155], [-0.44731684579412084, -0.25978993539242673], [-0.3535533905932738, -0.3535533905932738], [-0.25978993539242673, -0.44731684579412084], [-0.13260155, -0.5], [0.0, -0.5]], [\"M\", \"C\", \"C\", \"C\", \"C\", \"C\", \"C\", \"C\", \"C\", \"Z\"]]], \"edgecolors\": [\"#1F77B4\"], \"edgewidths\": [1.0], \"offsets\": \"data01\", \"yindex\": 1, \"id\": \"el869854410935568\", \"pathtransforms\": [[6.0, 0.0, 0.0, 6.0, 0.0, 0.0]], \"pathcoordinates\": \"display\", \"offsetcoordinates\": \"data\", \"zorder\": 1, \"xindex\": 0, \"alphas\": [0.3], \"facecolors\": [\"#1F77B4\"]}], \"xscale\": \"linear\", \"bbox\": [0.125, 0.125, 0.775, 0.755]}], \"height\": 360.0, \"width\": 720.0, \"plugins\": [{\"type\": \"reset\"}, {\"enabled\": false, \"button\": true, \"type\": \"zoom\"}, {\"enabled\": false, \"button\": true, \"type\": \"boxzoom\"}, {\"voffset\": 10, \"labels\": [\"<table class=\\\"highlighttable\\\"><tr><td class=\\\"linenos\\\"><div class=\\\"linenodiv\\\"><pre>1\\n2\\n3\\n4\\n5</pre></div></td><td class=\\\"code\\\"><div class=\\\"highlight\\\"><pre><span></span><span class=\\\"c1\\\">#nl2code: 1.626634</span>\\n<span class=\\\"c1\\\">#code2nl: 1.796289</span>\\n<span class=\\\"n\\\">my_list</span> <span class=\\\"o\\\">=</span> <span class=\\\"p\\\">[</span><span class=\\\"mi\\\">1</span><span class=\\\"p\\\">,</span> <span class=\\\"mi\\\">2</span><span class=\\\"p\\\">,</span> <span class=\\\"mi\\\">3</span><span class=\\\"p\\\">,</span> <span class=\\\"mi\\\">4</span><span class=\\\"p\\\">,</span> <span class=\\\"mi\\\">5</span><span class=\\\"p\\\">]</span>\\n<span class=\\\"k\\\">print</span> <span class=\\\"s1\\\">&#39;test&#39;</span>\\n<span class=\\\"nb\\\">len</span><span class=\\\"p\\\">(</span><span class=\\\"n\\\">my_list</span><span class=\\\"p\\\">)</span>\\n</pre></div>\\n</td></tr></table>\", \"<table class=\\\"highlighttable\\\"><tr><td class=\\\"linenos\\\"><div class=\\\"linenodiv\\\"><pre>1\\n2\\n3\\n4</pre></div></td><td class=\\\"code\\\"><div class=\\\"highlight\\\"><pre><span></span><span class=\\\"c1\\\">#nl2code: 1.680976</span>\\n<span class=\\\"c1\\\">#code2nl: 1.783083</span>\\n<span class=\\\"n\\\">my_list</span> <span class=\\\"o\\\">=</span> <span class=\\\"p\\\">[</span><span class=\\\"mi\\\">1</span><span class=\\\"p\\\">,</span> <span class=\\\"mi\\\">2</span><span class=\\\"p\\\">,</span> <span class=\\\"mi\\\">3</span><span class=\\\"p\\\">,</span> <span class=\\\"mi\\\">4</span><span class=\\\"p\\\">,</span> <span class=\\\"mi\\\">5</span><span class=\\\"p\\\">]</span>\\n<span class=\\\"k\\\">print</span> <span class=\\\"s1\\\">&#39;test&#39;</span>\\n</pre></div>\\n</td></tr></table>\", \"<table class=\\\"highlighttable\\\"><tr><td class=\\\"linenos\\\"><div class=\\\"linenodiv\\\"><pre>1\\n2\\n3</pre></div></td><td class=\\\"code\\\"><div class=\\\"highlight\\\"><pre><span></span><span class=\\\"c1\\\">#nl2code: 1.910145</span>\\n<span class=\\\"c1\\\">#code2nl: 1.773191</span>\\n<span class=\\\"nb\\\">len</span><span class=\\\"p\\\">(</span><span class=\\\"n\\\">my_list</span><span class=\\\"p\\\">)</span>\\n</pre></div>\\n</td></tr></table>\", \"<table class=\\\"highlighttable\\\"><tr><td class=\\\"linenos\\\"><div class=\\\"linenodiv\\\"><pre>1\\n2\\n3</pre></div></td><td class=\\\"code\\\"><div class=\\\"highlight\\\"><pre><span></span><span class=\\\"c1\\\">#nl2code: 3.524258</span>\\n<span class=\\\"c1\\\">#code2nl: 2.449356</span>\\n<span class=\\\"k\\\">print</span> <span class=\\\"s1\\\">&#39;test&#39;</span>\\n</pre></div>\\n</td></tr></table>\", \"<table class=\\\"highlighttable\\\"><tr><td class=\\\"linenos\\\"><div class=\\\"linenodiv\\\"><pre>1\\n2\\n3</pre></div></td><td class=\\\"code\\\"><div class=\\\"highlight\\\"><pre><span></span><span class=\\\"c1\\\">#nl2code: 3.710169</span>\\n<span class=\\\"c1\\\">#code2nl: 2.568741</span>\\n<span class=\\\"k\\\">pass</span>\\n</pre></div>\\n</td></tr></table>\", \"<table class=\\\"highlighttable\\\"><tr><td class=\\\"linenos\\\"><div class=\\\"linenodiv\\\"><pre>1\\n2\\n3</pre></div></td><td class=\\\"code\\\"><div class=\\\"highlight\\\"><pre><span></span><span class=\\\"c1\\\">#nl2code: 1.678129</span>\\n<span class=\\\"c1\\\">#code2nl: 1.795472</span>\\n<span class=\\\"n\\\">my_list</span> <span class=\\\"o\\\">=</span> <span class=\\\"p\\\">[</span><span class=\\\"mi\\\">1</span><span class=\\\"p\\\">,</span> <span class=\\\"mi\\\">2</span><span class=\\\"p\\\">,</span> <span class=\\\"mi\\\">3</span><span class=\\\"p\\\">,</span> <span class=\\\"mi\\\">4</span><span class=\\\"p\\\">,</span> <span class=\\\"mi\\\">5</span><span class=\\\"p\\\">]</span>\\n</pre></div>\\n</td></tr></table>\", \"<table class=\\\"highlighttable\\\"><tr><td class=\\\"linenos\\\"><div class=\\\"linenodiv\\\"><pre>1\\n2\\n3\\n4</pre></div></td><td class=\\\"code\\\"><div class=\\\"highlight\\\"><pre><span></span><span class=\\\"c1\\\">#nl2code: 2.298330</span>\\n<span class=\\\"c1\\\">#code2nl: 1.783261</span>\\n<span class=\\\"k\\\">print</span> <span class=\\\"s1\\\">&#39;test&#39;</span>\\n<span class=\\\"nb\\\">len</span><span class=\\\"p\\\">(</span><span class=\\\"n\\\">my_list</span><span class=\\\"p\\\">)</span>\\n</pre></div>\\n</td></tr></table>\", \"<table class=\\\"highlighttable\\\"><tr><td class=\\\"linenos\\\"><div class=\\\"linenodiv\\\"><pre>1\\n2\\n3\\n4</pre></div></td><td class=\\\"code\\\"><div class=\\\"highlight\\\"><pre><span></span><span class=\\\"c1\\\">#nl2code: 1.415204</span>\\n<span class=\\\"c1\\\">#code2nl: 1.808764</span>\\n<span class=\\\"n\\\">my_list</span> <span class=\\\"o\\\">=</span> <span class=\\\"p\\\">[</span><span class=\\\"mi\\\">1</span><span class=\\\"p\\\">,</span> <span class=\\\"mi\\\">2</span><span class=\\\"p\\\">,</span> <span class=\\\"mi\\\">3</span><span class=\\\"p\\\">,</span> <span class=\\\"mi\\\">4</span><span class=\\\"p\\\">,</span> <span class=\\\"mi\\\">5</span><span class=\\\"p\\\">]</span>\\n<span class=\\\"nb\\\">len</span><span class=\\\"p\\\">(</span><span class=\\\"n\\\">my_list</span><span class=\\\"p\\\">)</span>\\n</pre></div>\\n</td></tr></table>\"], \"type\": \"htmltooltip\", \"id\": \"el869854410935568\", \"hoffset\": 0}], \"data\": {\"data01\": [[1.6266342445656106, 1.7962894439697266], [1.6809764862060548, 1.7830833435058593], [1.9101452827453613, 1.7731910705566407], [3.5242581367492676, 2.449356269836426], [3.7101688385009766, 2.5687408447265625], [1.6781290839700138, 1.7954715728759765], [2.298329786820845, 1.7832612991333008], [1.4152037302652996, 1.8087635040283203]]}, \"id\": \"el869854410181840\"});\n",
       "      });\n",
       "    });\n",
       "}else{\n",
       "    // require.js not available: dynamically load d3 & mpld3\n",
       "    mpld3_load_lib(\"https://mpld3.github.io/js/d3.v3.min.js\", function(){\n",
       "         mpld3_load_lib(\"https://mpld3.github.io/js/mpld3.v0.3.js\", function(){\n",
       "                 \n",
       "    mpld3.register_plugin(\"htmltooltip\", HtmlTooltipPlugin);\n",
       "    HtmlTooltipPlugin.prototype = Object.create(mpld3.Plugin.prototype);\n",
       "    HtmlTooltipPlugin.prototype.constructor = HtmlTooltipPlugin;\n",
       "    HtmlTooltipPlugin.prototype.requiredProps = [\"id\"];\n",
       "    HtmlTooltipPlugin.prototype.defaultProps = {labels:null,\n",
       "                                                hoffset:0,\n",
       "                                                voffset:10};\n",
       "    function HtmlTooltipPlugin(fig, props){\n",
       "        mpld3.Plugin.call(this, fig, props);\n",
       "    };\n",
       "\n",
       "    HtmlTooltipPlugin.prototype.draw = function(){\n",
       "       var obj = mpld3.get_element(this.props.id);\n",
       "       var labels = this.props.labels;\n",
       "       var tooltip = d3.select(\"body\").append(\"div\")\n",
       "                    .attr(\"class\", \"mpld3-tooltip\")\n",
       "                    .style(\"position\", \"absolute\")\n",
       "                    .style(\"z-index\", \"10\")\n",
       "                    .style(\"visibility\", \"hidden\");\n",
       "\n",
       "       obj.elements()\n",
       "           .on(\"mouseover\", function(d, i){\n",
       "                              tooltip.html(labels[i])\n",
       "                                     .style(\"visibility\", \"visible\");})\n",
       "           .on(\"mousemove\", function(d, i){\n",
       "                  tooltip\n",
       "                    .style(\"top\", d3.event.pageY + this.props.voffset + \"px\")\n",
       "                    .style(\"left\",d3.event.pageX + this.props.hoffset + \"px\");\n",
       "                 }.bind(this))\n",
       "           .on(\"mouseout\",  function(d, i){\n",
       "                           tooltip.style(\"visibility\", \"hidden\");});\n",
       "    };\n",
       "    \n",
       "                 mpld3.draw_figure(\"fig_el8698544101818407397663091\", {\"axes\": [{\"xlim\": [1.294541496358892, 3.830831072407384], \"yscale\": \"linear\", \"axesbg\": \"#EEEEEE\", \"texts\": [{\"v_baseline\": \"hanging\", \"h_anchor\": \"middle\", \"color\": \"#000000\", \"text\": \"P ( Snippet | Intent )\", \"coordinates\": \"axes\", \"zorder\": 3, \"alpha\": 1, \"fontsize\": 10.0, \"position\": [0.5, -0.0772626931567329], \"rotation\": -0.0, \"id\": \"el869854410179664\"}, {\"v_baseline\": \"auto\", \"h_anchor\": \"middle\", \"color\": \"#000000\", \"text\": \"P ( Intent | Snippet )\", \"coordinates\": \"axes\", \"zorder\": 3, \"alpha\": 1, \"fontsize\": 10.0, \"position\": [-0.04838709677419355, 0.5], \"rotation\": -90.0, \"id\": \"el869854410536208\"}, {\"v_baseline\": \"auto\", \"h_anchor\": \"middle\", \"color\": \"#000000\", \"text\": \"Getting the length of an array in Python\", \"coordinates\": \"axes\", \"zorder\": 3, \"alpha\": 1, \"fontsize\": 12.0, \"position\": [0.5, 1.0220750551876379], \"rotation\": -0.0, \"id\": \"el869854410579152\"}], \"zoomable\": true, \"images\": [], \"xdomain\": [1.294541496358892, 3.830831072407384], \"ylim\": [1.721272301494944, 2.620659613788259], \"paths\": [], \"sharey\": [], \"sharex\": [], \"axesbgalpha\": null, \"axes\": [{\"scale\": \"linear\", \"tickformat\": null, \"grid\": {\"color\": \"#FFFFFF\", \"alpha\": 1.0, \"dasharray\": \"none\", \"gridOn\": true}, \"visible\": true, \"fontsize\": 10.0, \"position\": \"bottom\", \"nticks\": 7, \"tickvalues\": null}, {\"scale\": \"linear\", \"tickformat\": null, \"grid\": {\"color\": \"#FFFFFF\", \"alpha\": 1.0, \"dasharray\": \"none\", \"gridOn\": true}, \"visible\": true, \"fontsize\": 10.0, \"position\": \"left\", \"nticks\": 11, \"tickvalues\": null}], \"lines\": [], \"markers\": [], \"id\": \"el869854410278352\", \"ydomain\": [1.721272301494944, 2.620659613788259], \"collections\": [{\"paths\": [[[[0.0, -0.5], [0.13260155, -0.5], [0.25978993539242673, -0.44731684579412084], [0.3535533905932738, -0.3535533905932738], [0.44731684579412084, -0.25978993539242673], [0.5, -0.13260155], [0.5, 0.0], [0.5, 0.13260155], [0.44731684579412084, 0.25978993539242673], [0.3535533905932738, 0.3535533905932738], [0.25978993539242673, 0.44731684579412084], [0.13260155, 0.5], [0.0, 0.5], [-0.13260155, 0.5], [-0.25978993539242673, 0.44731684579412084], [-0.3535533905932738, 0.3535533905932738], [-0.44731684579412084, 0.25978993539242673], [-0.5, 0.13260155], [-0.5, 0.0], [-0.5, -0.13260155], [-0.44731684579412084, -0.25978993539242673], [-0.3535533905932738, -0.3535533905932738], [-0.25978993539242673, -0.44731684579412084], [-0.13260155, -0.5], [0.0, -0.5]], [\"M\", \"C\", \"C\", \"C\", \"C\", \"C\", \"C\", \"C\", \"C\", \"Z\"]]], \"edgecolors\": [\"#1F77B4\"], \"edgewidths\": [1.0], \"offsets\": \"data01\", \"yindex\": 1, \"id\": \"el869854410935568\", \"pathtransforms\": [[6.0, 0.0, 0.0, 6.0, 0.0, 0.0]], \"pathcoordinates\": \"display\", \"offsetcoordinates\": \"data\", \"zorder\": 1, \"xindex\": 0, \"alphas\": [0.3], \"facecolors\": [\"#1F77B4\"]}], \"xscale\": \"linear\", \"bbox\": [0.125, 0.125, 0.775, 0.755]}], \"height\": 360.0, \"width\": 720.0, \"plugins\": [{\"type\": \"reset\"}, {\"enabled\": false, \"button\": true, \"type\": \"zoom\"}, {\"enabled\": false, \"button\": true, \"type\": \"boxzoom\"}, {\"voffset\": 10, \"labels\": [\"<table class=\\\"highlighttable\\\"><tr><td class=\\\"linenos\\\"><div class=\\\"linenodiv\\\"><pre>1\\n2\\n3\\n4\\n5</pre></div></td><td class=\\\"code\\\"><div class=\\\"highlight\\\"><pre><span></span><span class=\\\"c1\\\">#nl2code: 1.626634</span>\\n<span class=\\\"c1\\\">#code2nl: 1.796289</span>\\n<span class=\\\"n\\\">my_list</span> <span class=\\\"o\\\">=</span> <span class=\\\"p\\\">[</span><span class=\\\"mi\\\">1</span><span class=\\\"p\\\">,</span> <span class=\\\"mi\\\">2</span><span class=\\\"p\\\">,</span> <span class=\\\"mi\\\">3</span><span class=\\\"p\\\">,</span> <span class=\\\"mi\\\">4</span><span class=\\\"p\\\">,</span> <span class=\\\"mi\\\">5</span><span class=\\\"p\\\">]</span>\\n<span class=\\\"k\\\">print</span> <span class=\\\"s1\\\">&#39;test&#39;</span>\\n<span class=\\\"nb\\\">len</span><span class=\\\"p\\\">(</span><span class=\\\"n\\\">my_list</span><span class=\\\"p\\\">)</span>\\n</pre></div>\\n</td></tr></table>\", \"<table class=\\\"highlighttable\\\"><tr><td class=\\\"linenos\\\"><div class=\\\"linenodiv\\\"><pre>1\\n2\\n3\\n4</pre></div></td><td class=\\\"code\\\"><div class=\\\"highlight\\\"><pre><span></span><span class=\\\"c1\\\">#nl2code: 1.680976</span>\\n<span class=\\\"c1\\\">#code2nl: 1.783083</span>\\n<span class=\\\"n\\\">my_list</span> <span class=\\\"o\\\">=</span> <span class=\\\"p\\\">[</span><span class=\\\"mi\\\">1</span><span class=\\\"p\\\">,</span> <span class=\\\"mi\\\">2</span><span class=\\\"p\\\">,</span> <span class=\\\"mi\\\">3</span><span class=\\\"p\\\">,</span> <span class=\\\"mi\\\">4</span><span class=\\\"p\\\">,</span> <span class=\\\"mi\\\">5</span><span class=\\\"p\\\">]</span>\\n<span class=\\\"k\\\">print</span> <span class=\\\"s1\\\">&#39;test&#39;</span>\\n</pre></div>\\n</td></tr></table>\", \"<table class=\\\"highlighttable\\\"><tr><td class=\\\"linenos\\\"><div class=\\\"linenodiv\\\"><pre>1\\n2\\n3</pre></div></td><td class=\\\"code\\\"><div class=\\\"highlight\\\"><pre><span></span><span class=\\\"c1\\\">#nl2code: 1.910145</span>\\n<span class=\\\"c1\\\">#code2nl: 1.773191</span>\\n<span class=\\\"nb\\\">len</span><span class=\\\"p\\\">(</span><span class=\\\"n\\\">my_list</span><span class=\\\"p\\\">)</span>\\n</pre></div>\\n</td></tr></table>\", \"<table class=\\\"highlighttable\\\"><tr><td class=\\\"linenos\\\"><div class=\\\"linenodiv\\\"><pre>1\\n2\\n3</pre></div></td><td class=\\\"code\\\"><div class=\\\"highlight\\\"><pre><span></span><span class=\\\"c1\\\">#nl2code: 3.524258</span>\\n<span class=\\\"c1\\\">#code2nl: 2.449356</span>\\n<span class=\\\"k\\\">print</span> <span class=\\\"s1\\\">&#39;test&#39;</span>\\n</pre></div>\\n</td></tr></table>\", \"<table class=\\\"highlighttable\\\"><tr><td class=\\\"linenos\\\"><div class=\\\"linenodiv\\\"><pre>1\\n2\\n3</pre></div></td><td class=\\\"code\\\"><div class=\\\"highlight\\\"><pre><span></span><span class=\\\"c1\\\">#nl2code: 3.710169</span>\\n<span class=\\\"c1\\\">#code2nl: 2.568741</span>\\n<span class=\\\"k\\\">pass</span>\\n</pre></div>\\n</td></tr></table>\", \"<table class=\\\"highlighttable\\\"><tr><td class=\\\"linenos\\\"><div class=\\\"linenodiv\\\"><pre>1\\n2\\n3</pre></div></td><td class=\\\"code\\\"><div class=\\\"highlight\\\"><pre><span></span><span class=\\\"c1\\\">#nl2code: 1.678129</span>\\n<span class=\\\"c1\\\">#code2nl: 1.795472</span>\\n<span class=\\\"n\\\">my_list</span> <span class=\\\"o\\\">=</span> <span class=\\\"p\\\">[</span><span class=\\\"mi\\\">1</span><span class=\\\"p\\\">,</span> <span class=\\\"mi\\\">2</span><span class=\\\"p\\\">,</span> <span class=\\\"mi\\\">3</span><span class=\\\"p\\\">,</span> <span class=\\\"mi\\\">4</span><span class=\\\"p\\\">,</span> <span class=\\\"mi\\\">5</span><span class=\\\"p\\\">]</span>\\n</pre></div>\\n</td></tr></table>\", \"<table class=\\\"highlighttable\\\"><tr><td class=\\\"linenos\\\"><div class=\\\"linenodiv\\\"><pre>1\\n2\\n3\\n4</pre></div></td><td class=\\\"code\\\"><div class=\\\"highlight\\\"><pre><span></span><span class=\\\"c1\\\">#nl2code: 2.298330</span>\\n<span class=\\\"c1\\\">#code2nl: 1.783261</span>\\n<span class=\\\"k\\\">print</span> <span class=\\\"s1\\\">&#39;test&#39;</span>\\n<span class=\\\"nb\\\">len</span><span class=\\\"p\\\">(</span><span class=\\\"n\\\">my_list</span><span class=\\\"p\\\">)</span>\\n</pre></div>\\n</td></tr></table>\", \"<table class=\\\"highlighttable\\\"><tr><td class=\\\"linenos\\\"><div class=\\\"linenodiv\\\"><pre>1\\n2\\n3\\n4</pre></div></td><td class=\\\"code\\\"><div class=\\\"highlight\\\"><pre><span></span><span class=\\\"c1\\\">#nl2code: 1.415204</span>\\n<span class=\\\"c1\\\">#code2nl: 1.808764</span>\\n<span class=\\\"n\\\">my_list</span> <span class=\\\"o\\\">=</span> <span class=\\\"p\\\">[</span><span class=\\\"mi\\\">1</span><span class=\\\"p\\\">,</span> <span class=\\\"mi\\\">2</span><span class=\\\"p\\\">,</span> <span class=\\\"mi\\\">3</span><span class=\\\"p\\\">,</span> <span class=\\\"mi\\\">4</span><span class=\\\"p\\\">,</span> <span class=\\\"mi\\\">5</span><span class=\\\"p\\\">]</span>\\n<span class=\\\"nb\\\">len</span><span class=\\\"p\\\">(</span><span class=\\\"n\\\">my_list</span><span class=\\\"p\\\">)</span>\\n</pre></div>\\n</td></tr></table>\"], \"type\": \"htmltooltip\", \"id\": \"el869854410935568\", \"hoffset\": 0}], \"data\": {\"data01\": [[1.6266342445656106, 1.7962894439697266], [1.6809764862060548, 1.7830833435058593], [1.9101452827453613, 1.7731910705566407], [3.5242581367492676, 2.449356269836426], [3.7101688385009766, 2.5687408447265625], [1.6781290839700138, 1.7954715728759765], [2.298329786820845, 1.7832612991333008], [1.4152037302652996, 1.8087635040283203]]}, \"id\": \"el869854410181840\"});\n",
       "            })\n",
       "         });\n",
       "}\n",
       "</script>"
      ],
      "text/plain": [
       "<IPython.core.display.HTML object>"
      ]
     },
     "execution_count": 22,
     "metadata": {},
     "output_type": "execute_result"
    }
   ],
   "source": [
    "visiualize(nl, snippets, likelihoods)"
   ]
  },
  {
   "cell_type": "code",
   "execution_count": null,
   "metadata": {
    "collapsed": true
   },
   "outputs": [],
   "source": []
  }
 ],
 "metadata": {
  "kernelspec": {
   "display_name": "Python 2",
   "language": "python",
   "name": "python2"
  },
  "language_info": {
   "codemirror_mode": {
    "name": "ipython",
    "version": 2
   },
   "file_extension": ".py",
   "mimetype": "text/x-python",
   "name": "python",
   "nbconvert_exporter": "python",
   "pygments_lexer": "ipython2",
   "version": "2.7.13"
  }
 },
 "nbformat": 4,
 "nbformat_minor": 2
}
